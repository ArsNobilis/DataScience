{
  "nbformat": 4,
  "nbformat_minor": 0,
  "metadata": {
    "colab": {
      "provenance": [],
      "authorship_tag": "ABX9TyOwWGQLCiIJCVtHuD6YDba/",
      "include_colab_link": true
    },
    "kernelspec": {
      "name": "python3",
      "display_name": "Python 3"
    },
    "language_info": {
      "name": "python"
    }
  },
  "cells": [
    {
      "cell_type": "markdown",
      "metadata": {
        "id": "view-in-github",
        "colab_type": "text"
      },
      "source": [
        "<a href=\"https://colab.research.google.com/github/al34n1x/DataScience/blob/master/8.Machine_Learning/Final_Draft.ipynb\" target=\"_parent\"><img src=\"https://colab.research.google.com/assets/colab-badge.svg\" alt=\"Open In Colab\"/></a>"
      ]
    },
    {
      "cell_type": "markdown",
      "source": [
        "#Librerias"
      ],
      "metadata": {
        "id": "3qobBRlSbxkU"
      }
    },
    {
      "cell_type": "code",
      "source": [
        "\n",
        "\n",
        "%matplotlib inline\n",
        "import numpy as np\n",
        "import matplotlib.pyplot as plt\n",
        "import pandas as pd\n",
        "import seaborn as sns\n"
      ],
      "metadata": {
        "id": "50G80Xv8bv-J"
      },
      "execution_count": 56,
      "outputs": []
    },
    {
      "cell_type": "code",
      "execution_count": 57,
      "metadata": {
        "id": "BhdE1acWbWCq"
      },
      "outputs": [],
      "source": [
        "## Importo datos\n"
      ]
    },
    {
      "cell_type": "code",
      "source": [
        "from google.colab import drive\n",
        "drive.mount('/content/drive')"
      ],
      "metadata": {
        "colab": {
          "base_uri": "https://localhost:8080/"
        },
        "id": "V97lT1vUbdIf",
        "outputId": "9e5d5ba2-33f0-42cf-dbec-211b84b8f9de"
      },
      "execution_count": 58,
      "outputs": [
        {
          "output_type": "stream",
          "name": "stdout",
          "text": [
            "Drive already mounted at /content/drive; to attempt to forcibly remount, call drive.mount(\"/content/drive\", force_remount=True).\n"
          ]
        }
      ]
    },
    {
      "cell_type": "code",
      "source": [
        "#Importo el CSV creado previamente\n",
        "\n",
        "df2 = pd.read_csv('/content/drive/My Drive/Colab Notebooks/UADE/Diplomatura Ciencia de Datos/Material de Clases/MESES_201402_201404.csv', dtype={\"numero_de_cliente\": int, \"foto_mes\": int, \"cliente_sucursal\": \"string\"})\n"
      ],
      "metadata": {
        "colab": {
          "base_uri": "https://localhost:8080/"
        },
        "id": "sFy8UZG9b8V7",
        "outputId": "4abff7f8-3c20-444f-bcde-14df07dd6e46"
      },
      "execution_count": 59,
      "outputs": [
        {
          "output_type": "stream",
          "name": "stderr",
          "text": [
            "/usr/local/lib/python3.7/dist-packages/IPython/core/interactiveshell.py:3326: DtypeWarning: Columns (48) have mixed types.Specify dtype option on import or set low_memory=False.\n",
            "  exec(code_obj, self.user_global_ns, self.user_ns)\n"
          ]
        }
      ]
    },
    {
      "cell_type": "code",
      "source": [
        "df2.head()"
      ],
      "metadata": {
        "colab": {
          "base_uri": "https://localhost:8080/",
          "height": 317
        },
        "id": "t9IQTsjDcslG",
        "outputId": "1c395220-9110-47c1-c377-ab753bc9f0b9"
      },
      "execution_count": 60,
      "outputs": [
        {
          "output_type": "execute_result",
          "data": {
            "text/plain": [
              "   Unnamed: 0  numero_de_cliente  foto_mes  marketing_activo_ultimos90dias  \\\n",
              "0          22            5609788    201402                               0   \n",
              "1          38            5609981    201402                               0   \n",
              "2          54            5610023    201402                               0   \n",
              "3          70            5610089    201402                               0   \n",
              "4          86            5610101    201402                               0   \n",
              "\n",
              "   cliente_vip cliente_sucursal  cliente_edad  cliente_antiguedad  \\\n",
              "0            0              224            61                 237   \n",
              "1            0              227            64                 196   \n",
              "2            0              536            41                  91   \n",
              "3            0              545             0                 237   \n",
              "4            0             1217            49                  45   \n",
              "\n",
              "   mrentabilidad  mrentabilidad_annual  ...  Visa_mpagado  Visa_mpagospesos  \\\n",
              "0           0.00               9669.42  ...             0         -20743.77   \n",
              "1           0.00               4107.16  ...             0            -713.7   \n",
              "2           0.00               2888.84  ...             0          -1881.83   \n",
              "3        2597.43                  0.00  ...             0          -7631.25   \n",
              "4           0.00              46303.03  ...             0         -18960.01   \n",
              "\n",
              "   Visa_mpagosdolares  Visa_fechaalta Visa_mconsumototal Visa_tconsumos  \\\n",
              "0             1467.03        19970317             377.24              S   \n",
              "1                   0        20010308             706.14              S   \n",
              "2                   0        20060802             361.64              S   \n",
              "3                   0        20100120            6017.28              S   \n",
              "4             1514.84        20100809            1050.96              S   \n",
              "\n",
              "  Visa_tadelantosefectivo Visa_mpagominimo    target target_bin  \n",
              "0                       N           3229.2  Continua          0  \n",
              "1                       N            748.8  Continua          0  \n",
              "2                       N             93.6  Continua          0  \n",
              "3                       N           1673.1  Continua          0  \n",
              "4                       N            304.2  Continua          0  \n",
              "\n",
              "[5 rows x 172 columns]"
            ],
            "text/html": [
              "\n",
              "  <div id=\"df-f6e1e50b-4462-4913-9912-49205826fabc\">\n",
              "    <div class=\"colab-df-container\">\n",
              "      <div>\n",
              "<style scoped>\n",
              "    .dataframe tbody tr th:only-of-type {\n",
              "        vertical-align: middle;\n",
              "    }\n",
              "\n",
              "    .dataframe tbody tr th {\n",
              "        vertical-align: top;\n",
              "    }\n",
              "\n",
              "    .dataframe thead th {\n",
              "        text-align: right;\n",
              "    }\n",
              "</style>\n",
              "<table border=\"1\" class=\"dataframe\">\n",
              "  <thead>\n",
              "    <tr style=\"text-align: right;\">\n",
              "      <th></th>\n",
              "      <th>Unnamed: 0</th>\n",
              "      <th>numero_de_cliente</th>\n",
              "      <th>foto_mes</th>\n",
              "      <th>marketing_activo_ultimos90dias</th>\n",
              "      <th>cliente_vip</th>\n",
              "      <th>cliente_sucursal</th>\n",
              "      <th>cliente_edad</th>\n",
              "      <th>cliente_antiguedad</th>\n",
              "      <th>mrentabilidad</th>\n",
              "      <th>mrentabilidad_annual</th>\n",
              "      <th>...</th>\n",
              "      <th>Visa_mpagado</th>\n",
              "      <th>Visa_mpagospesos</th>\n",
              "      <th>Visa_mpagosdolares</th>\n",
              "      <th>Visa_fechaalta</th>\n",
              "      <th>Visa_mconsumototal</th>\n",
              "      <th>Visa_tconsumos</th>\n",
              "      <th>Visa_tadelantosefectivo</th>\n",
              "      <th>Visa_mpagominimo</th>\n",
              "      <th>target</th>\n",
              "      <th>target_bin</th>\n",
              "    </tr>\n",
              "  </thead>\n",
              "  <tbody>\n",
              "    <tr>\n",
              "      <th>0</th>\n",
              "      <td>22</td>\n",
              "      <td>5609788</td>\n",
              "      <td>201402</td>\n",
              "      <td>0</td>\n",
              "      <td>0</td>\n",
              "      <td>224</td>\n",
              "      <td>61</td>\n",
              "      <td>237</td>\n",
              "      <td>0.00</td>\n",
              "      <td>9669.42</td>\n",
              "      <td>...</td>\n",
              "      <td>0</td>\n",
              "      <td>-20743.77</td>\n",
              "      <td>1467.03</td>\n",
              "      <td>19970317</td>\n",
              "      <td>377.24</td>\n",
              "      <td>S</td>\n",
              "      <td>N</td>\n",
              "      <td>3229.2</td>\n",
              "      <td>Continua</td>\n",
              "      <td>0</td>\n",
              "    </tr>\n",
              "    <tr>\n",
              "      <th>1</th>\n",
              "      <td>38</td>\n",
              "      <td>5609981</td>\n",
              "      <td>201402</td>\n",
              "      <td>0</td>\n",
              "      <td>0</td>\n",
              "      <td>227</td>\n",
              "      <td>64</td>\n",
              "      <td>196</td>\n",
              "      <td>0.00</td>\n",
              "      <td>4107.16</td>\n",
              "      <td>...</td>\n",
              "      <td>0</td>\n",
              "      <td>-713.7</td>\n",
              "      <td>0</td>\n",
              "      <td>20010308</td>\n",
              "      <td>706.14</td>\n",
              "      <td>S</td>\n",
              "      <td>N</td>\n",
              "      <td>748.8</td>\n",
              "      <td>Continua</td>\n",
              "      <td>0</td>\n",
              "    </tr>\n",
              "    <tr>\n",
              "      <th>2</th>\n",
              "      <td>54</td>\n",
              "      <td>5610023</td>\n",
              "      <td>201402</td>\n",
              "      <td>0</td>\n",
              "      <td>0</td>\n",
              "      <td>536</td>\n",
              "      <td>41</td>\n",
              "      <td>91</td>\n",
              "      <td>0.00</td>\n",
              "      <td>2888.84</td>\n",
              "      <td>...</td>\n",
              "      <td>0</td>\n",
              "      <td>-1881.83</td>\n",
              "      <td>0</td>\n",
              "      <td>20060802</td>\n",
              "      <td>361.64</td>\n",
              "      <td>S</td>\n",
              "      <td>N</td>\n",
              "      <td>93.6</td>\n",
              "      <td>Continua</td>\n",
              "      <td>0</td>\n",
              "    </tr>\n",
              "    <tr>\n",
              "      <th>3</th>\n",
              "      <td>70</td>\n",
              "      <td>5610089</td>\n",
              "      <td>201402</td>\n",
              "      <td>0</td>\n",
              "      <td>0</td>\n",
              "      <td>545</td>\n",
              "      <td>0</td>\n",
              "      <td>237</td>\n",
              "      <td>2597.43</td>\n",
              "      <td>0.00</td>\n",
              "      <td>...</td>\n",
              "      <td>0</td>\n",
              "      <td>-7631.25</td>\n",
              "      <td>0</td>\n",
              "      <td>20100120</td>\n",
              "      <td>6017.28</td>\n",
              "      <td>S</td>\n",
              "      <td>N</td>\n",
              "      <td>1673.1</td>\n",
              "      <td>Continua</td>\n",
              "      <td>0</td>\n",
              "    </tr>\n",
              "    <tr>\n",
              "      <th>4</th>\n",
              "      <td>86</td>\n",
              "      <td>5610101</td>\n",
              "      <td>201402</td>\n",
              "      <td>0</td>\n",
              "      <td>0</td>\n",
              "      <td>1217</td>\n",
              "      <td>49</td>\n",
              "      <td>45</td>\n",
              "      <td>0.00</td>\n",
              "      <td>46303.03</td>\n",
              "      <td>...</td>\n",
              "      <td>0</td>\n",
              "      <td>-18960.01</td>\n",
              "      <td>1514.84</td>\n",
              "      <td>20100809</td>\n",
              "      <td>1050.96</td>\n",
              "      <td>S</td>\n",
              "      <td>N</td>\n",
              "      <td>304.2</td>\n",
              "      <td>Continua</td>\n",
              "      <td>0</td>\n",
              "    </tr>\n",
              "  </tbody>\n",
              "</table>\n",
              "<p>5 rows × 172 columns</p>\n",
              "</div>\n",
              "      <button class=\"colab-df-convert\" onclick=\"convertToInteractive('df-f6e1e50b-4462-4913-9912-49205826fabc')\"\n",
              "              title=\"Convert this dataframe to an interactive table.\"\n",
              "              style=\"display:none;\">\n",
              "        \n",
              "  <svg xmlns=\"http://www.w3.org/2000/svg\" height=\"24px\"viewBox=\"0 0 24 24\"\n",
              "       width=\"24px\">\n",
              "    <path d=\"M0 0h24v24H0V0z\" fill=\"none\"/>\n",
              "    <path d=\"M18.56 5.44l.94 2.06.94-2.06 2.06-.94-2.06-.94-.94-2.06-.94 2.06-2.06.94zm-11 1L8.5 8.5l.94-2.06 2.06-.94-2.06-.94L8.5 2.5l-.94 2.06-2.06.94zm10 10l.94 2.06.94-2.06 2.06-.94-2.06-.94-.94-2.06-.94 2.06-2.06.94z\"/><path d=\"M17.41 7.96l-1.37-1.37c-.4-.4-.92-.59-1.43-.59-.52 0-1.04.2-1.43.59L10.3 9.45l-7.72 7.72c-.78.78-.78 2.05 0 2.83L4 21.41c.39.39.9.59 1.41.59.51 0 1.02-.2 1.41-.59l7.78-7.78 2.81-2.81c.8-.78.8-2.07 0-2.86zM5.41 20L4 18.59l7.72-7.72 1.47 1.35L5.41 20z\"/>\n",
              "  </svg>\n",
              "      </button>\n",
              "      \n",
              "  <style>\n",
              "    .colab-df-container {\n",
              "      display:flex;\n",
              "      flex-wrap:wrap;\n",
              "      gap: 12px;\n",
              "    }\n",
              "\n",
              "    .colab-df-convert {\n",
              "      background-color: #E8F0FE;\n",
              "      border: none;\n",
              "      border-radius: 50%;\n",
              "      cursor: pointer;\n",
              "      display: none;\n",
              "      fill: #1967D2;\n",
              "      height: 32px;\n",
              "      padding: 0 0 0 0;\n",
              "      width: 32px;\n",
              "    }\n",
              "\n",
              "    .colab-df-convert:hover {\n",
              "      background-color: #E2EBFA;\n",
              "      box-shadow: 0px 1px 2px rgba(60, 64, 67, 0.3), 0px 1px 3px 1px rgba(60, 64, 67, 0.15);\n",
              "      fill: #174EA6;\n",
              "    }\n",
              "\n",
              "    [theme=dark] .colab-df-convert {\n",
              "      background-color: #3B4455;\n",
              "      fill: #D2E3FC;\n",
              "    }\n",
              "\n",
              "    [theme=dark] .colab-df-convert:hover {\n",
              "      background-color: #434B5C;\n",
              "      box-shadow: 0px 1px 3px 1px rgba(0, 0, 0, 0.15);\n",
              "      filter: drop-shadow(0px 1px 2px rgba(0, 0, 0, 0.3));\n",
              "      fill: #FFFFFF;\n",
              "    }\n",
              "  </style>\n",
              "\n",
              "      <script>\n",
              "        const buttonEl =\n",
              "          document.querySelector('#df-f6e1e50b-4462-4913-9912-49205826fabc button.colab-df-convert');\n",
              "        buttonEl.style.display =\n",
              "          google.colab.kernel.accessAllowed ? 'block' : 'none';\n",
              "\n",
              "        async function convertToInteractive(key) {\n",
              "          const element = document.querySelector('#df-f6e1e50b-4462-4913-9912-49205826fabc');\n",
              "          const dataTable =\n",
              "            await google.colab.kernel.invokeFunction('convertToInteractive',\n",
              "                                                     [key], {});\n",
              "          if (!dataTable) return;\n",
              "\n",
              "          const docLinkHtml = 'Like what you see? Visit the ' +\n",
              "            '<a target=\"_blank\" href=https://colab.research.google.com/notebooks/data_table.ipynb>data table notebook</a>'\n",
              "            + ' to learn more about interactive tables.';\n",
              "          element.innerHTML = '';\n",
              "          dataTable['output_type'] = 'display_data';\n",
              "          await google.colab.output.renderOutput(dataTable, element);\n",
              "          const docLink = document.createElement('div');\n",
              "          docLink.innerHTML = docLinkHtml;\n",
              "          element.appendChild(docLink);\n",
              "        }\n",
              "      </script>\n",
              "    </div>\n",
              "  </div>\n",
              "  "
            ]
          },
          "metadata": {},
          "execution_count": 60
        }
      ]
    },
    {
      "cell_type": "markdown",
      "source": [
        "#Exploro"
      ],
      "metadata": {
        "id": "TZnlSxlFc3AK"
      }
    },
    {
      "cell_type": "code",
      "source": [
        "df2.describe(include='all')  "
      ],
      "metadata": {
        "colab": {
          "base_uri": "https://localhost:8080/",
          "height": 488
        },
        "id": "yK_GZ8axc1Vv",
        "outputId": "0507cf8a-6774-4e62-87d1-4fa27eabd78f"
      },
      "execution_count": 61,
      "outputs": [
        {
          "output_type": "execute_result",
          "data": {
            "text/plain": [
              "          Unnamed: 0  numero_de_cliente  foto_mes  \\\n",
              "count   1.819810e+05       1.819810e+05  181981.0   \n",
              "unique           NaN                NaN       NaN   \n",
              "top              NaN                NaN       NaN   \n",
              "freq             NaN                NaN       NaN   \n",
              "mean    1.377965e+06       2.114644e+07  201402.0   \n",
              "std     7.859801e+05       1.096325e+07       0.0   \n",
              "min     2.200000e+01       5.609788e+06  201402.0   \n",
              "25%     6.993280e+05       1.021765e+07  201402.0   \n",
              "50%     1.385459e+06       2.087868e+07  201402.0   \n",
              "75%     2.064184e+06       2.829573e+07  201402.0   \n",
              "max     2.694499e+06       4.851964e+07  201402.0   \n",
              "\n",
              "        marketing_activo_ultimos90dias    cliente_vip cliente_sucursal  \\\n",
              "count                         181981.0  181981.000000           181981   \n",
              "unique                             NaN            NaN              341   \n",
              "top                                NaN            NaN                2   \n",
              "freq                               NaN            NaN             3779   \n",
              "mean                               0.0       0.028695              NaN   \n",
              "std                                0.0       0.166949              NaN   \n",
              "min                                0.0       0.000000              NaN   \n",
              "25%                                0.0       0.000000              NaN   \n",
              "50%                                0.0       0.000000              NaN   \n",
              "75%                                0.0       0.000000              NaN   \n",
              "max                                0.0       1.000000              NaN   \n",
              "\n",
              "         cliente_edad  cliente_antiguedad  mrentabilidad  \\\n",
              "count   181981.000000       181981.000000  181981.000000   \n",
              "unique            NaN                 NaN            NaN   \n",
              "top               NaN                 NaN            NaN   \n",
              "freq              NaN                 NaN            NaN   \n",
              "mean        42.782351          119.048181     141.154399   \n",
              "std         17.946860           70.996962    1731.792519   \n",
              "min          0.000000            1.000000 -337049.160000   \n",
              "25%         35.000000           65.000000       0.000000   \n",
              "50%         44.000000          106.000000       0.000000   \n",
              "75%         55.000000          172.000000       0.000000   \n",
              "max        108.000000          290.000000  290191.890000   \n",
              "\n",
              "        mrentabilidad_annual  ...  Visa_mpagado  Visa_mpagospesos  \\\n",
              "count          181981.000000  ...        181981            181981   \n",
              "unique                   NaN  ...         13866            119715   \n",
              "top                      NaN  ...             0                 .   \n",
              "freq                     NaN  ...        152933             20625   \n",
              "mean             6605.207343  ...           NaN               NaN   \n",
              "std              7295.570352  ...           NaN               NaN   \n",
              "min            -32284.030000  ...           NaN               NaN   \n",
              "25%              2701.700000  ...           NaN               NaN   \n",
              "50%              5205.310000  ...           NaN               NaN   \n",
              "75%              8725.460000  ...           NaN               NaN   \n",
              "max            722816.280000  ...           NaN               NaN   \n",
              "\n",
              "        Visa_mpagosdolares  Visa_fechaalta Visa_mconsumototal Visa_tconsumos  \\\n",
              "count               181981          181981             181981         181981   \n",
              "unique               16842            5400             115848              2   \n",
              "top                      0               .                  .              S   \n",
              "freq                135589           10463              20625         164031   \n",
              "mean                   NaN             NaN                NaN            NaN   \n",
              "std                    NaN             NaN                NaN            NaN   \n",
              "min                    NaN             NaN                NaN            NaN   \n",
              "25%                    NaN             NaN                NaN            NaN   \n",
              "50%                    NaN             NaN                NaN            NaN   \n",
              "75%                    NaN             NaN                NaN            NaN   \n",
              "max                    NaN             NaN                NaN            NaN   \n",
              "\n",
              "       Visa_tadelantosefectivo Visa_mpagominimo    target     target_bin  \n",
              "count                   181981           181981    181981  181981.000000  \n",
              "unique                       2             2760         3            NaN  \n",
              "top                          N                0  Continua            NaN  \n",
              "freq                    156861            17884    180609            NaN  \n",
              "mean                       NaN              NaN       NaN       0.004248  \n",
              "std                        NaN              NaN       NaN       0.065036  \n",
              "min                        NaN              NaN       NaN       0.000000  \n",
              "25%                        NaN              NaN       NaN       0.000000  \n",
              "50%                        NaN              NaN       NaN       0.000000  \n",
              "75%                        NaN              NaN       NaN       0.000000  \n",
              "max                        NaN              NaN       NaN       1.000000  \n",
              "\n",
              "[11 rows x 172 columns]"
            ],
            "text/html": [
              "\n",
              "  <div id=\"df-2f7bf5e7-6526-4a87-a0cb-606abbab36c8\">\n",
              "    <div class=\"colab-df-container\">\n",
              "      <div>\n",
              "<style scoped>\n",
              "    .dataframe tbody tr th:only-of-type {\n",
              "        vertical-align: middle;\n",
              "    }\n",
              "\n",
              "    .dataframe tbody tr th {\n",
              "        vertical-align: top;\n",
              "    }\n",
              "\n",
              "    .dataframe thead th {\n",
              "        text-align: right;\n",
              "    }\n",
              "</style>\n",
              "<table border=\"1\" class=\"dataframe\">\n",
              "  <thead>\n",
              "    <tr style=\"text-align: right;\">\n",
              "      <th></th>\n",
              "      <th>Unnamed: 0</th>\n",
              "      <th>numero_de_cliente</th>\n",
              "      <th>foto_mes</th>\n",
              "      <th>marketing_activo_ultimos90dias</th>\n",
              "      <th>cliente_vip</th>\n",
              "      <th>cliente_sucursal</th>\n",
              "      <th>cliente_edad</th>\n",
              "      <th>cliente_antiguedad</th>\n",
              "      <th>mrentabilidad</th>\n",
              "      <th>mrentabilidad_annual</th>\n",
              "      <th>...</th>\n",
              "      <th>Visa_mpagado</th>\n",
              "      <th>Visa_mpagospesos</th>\n",
              "      <th>Visa_mpagosdolares</th>\n",
              "      <th>Visa_fechaalta</th>\n",
              "      <th>Visa_mconsumototal</th>\n",
              "      <th>Visa_tconsumos</th>\n",
              "      <th>Visa_tadelantosefectivo</th>\n",
              "      <th>Visa_mpagominimo</th>\n",
              "      <th>target</th>\n",
              "      <th>target_bin</th>\n",
              "    </tr>\n",
              "  </thead>\n",
              "  <tbody>\n",
              "    <tr>\n",
              "      <th>count</th>\n",
              "      <td>1.819810e+05</td>\n",
              "      <td>1.819810e+05</td>\n",
              "      <td>181981.0</td>\n",
              "      <td>181981.0</td>\n",
              "      <td>181981.000000</td>\n",
              "      <td>181981</td>\n",
              "      <td>181981.000000</td>\n",
              "      <td>181981.000000</td>\n",
              "      <td>181981.000000</td>\n",
              "      <td>181981.000000</td>\n",
              "      <td>...</td>\n",
              "      <td>181981</td>\n",
              "      <td>181981</td>\n",
              "      <td>181981</td>\n",
              "      <td>181981</td>\n",
              "      <td>181981</td>\n",
              "      <td>181981</td>\n",
              "      <td>181981</td>\n",
              "      <td>181981</td>\n",
              "      <td>181981</td>\n",
              "      <td>181981.000000</td>\n",
              "    </tr>\n",
              "    <tr>\n",
              "      <th>unique</th>\n",
              "      <td>NaN</td>\n",
              "      <td>NaN</td>\n",
              "      <td>NaN</td>\n",
              "      <td>NaN</td>\n",
              "      <td>NaN</td>\n",
              "      <td>341</td>\n",
              "      <td>NaN</td>\n",
              "      <td>NaN</td>\n",
              "      <td>NaN</td>\n",
              "      <td>NaN</td>\n",
              "      <td>...</td>\n",
              "      <td>13866</td>\n",
              "      <td>119715</td>\n",
              "      <td>16842</td>\n",
              "      <td>5400</td>\n",
              "      <td>115848</td>\n",
              "      <td>2</td>\n",
              "      <td>2</td>\n",
              "      <td>2760</td>\n",
              "      <td>3</td>\n",
              "      <td>NaN</td>\n",
              "    </tr>\n",
              "    <tr>\n",
              "      <th>top</th>\n",
              "      <td>NaN</td>\n",
              "      <td>NaN</td>\n",
              "      <td>NaN</td>\n",
              "      <td>NaN</td>\n",
              "      <td>NaN</td>\n",
              "      <td>2</td>\n",
              "      <td>NaN</td>\n",
              "      <td>NaN</td>\n",
              "      <td>NaN</td>\n",
              "      <td>NaN</td>\n",
              "      <td>...</td>\n",
              "      <td>0</td>\n",
              "      <td>.</td>\n",
              "      <td>0</td>\n",
              "      <td>.</td>\n",
              "      <td>.</td>\n",
              "      <td>S</td>\n",
              "      <td>N</td>\n",
              "      <td>0</td>\n",
              "      <td>Continua</td>\n",
              "      <td>NaN</td>\n",
              "    </tr>\n",
              "    <tr>\n",
              "      <th>freq</th>\n",
              "      <td>NaN</td>\n",
              "      <td>NaN</td>\n",
              "      <td>NaN</td>\n",
              "      <td>NaN</td>\n",
              "      <td>NaN</td>\n",
              "      <td>3779</td>\n",
              "      <td>NaN</td>\n",
              "      <td>NaN</td>\n",
              "      <td>NaN</td>\n",
              "      <td>NaN</td>\n",
              "      <td>...</td>\n",
              "      <td>152933</td>\n",
              "      <td>20625</td>\n",
              "      <td>135589</td>\n",
              "      <td>10463</td>\n",
              "      <td>20625</td>\n",
              "      <td>164031</td>\n",
              "      <td>156861</td>\n",
              "      <td>17884</td>\n",
              "      <td>180609</td>\n",
              "      <td>NaN</td>\n",
              "    </tr>\n",
              "    <tr>\n",
              "      <th>mean</th>\n",
              "      <td>1.377965e+06</td>\n",
              "      <td>2.114644e+07</td>\n",
              "      <td>201402.0</td>\n",
              "      <td>0.0</td>\n",
              "      <td>0.028695</td>\n",
              "      <td>NaN</td>\n",
              "      <td>42.782351</td>\n",
              "      <td>119.048181</td>\n",
              "      <td>141.154399</td>\n",
              "      <td>6605.207343</td>\n",
              "      <td>...</td>\n",
              "      <td>NaN</td>\n",
              "      <td>NaN</td>\n",
              "      <td>NaN</td>\n",
              "      <td>NaN</td>\n",
              "      <td>NaN</td>\n",
              "      <td>NaN</td>\n",
              "      <td>NaN</td>\n",
              "      <td>NaN</td>\n",
              "      <td>NaN</td>\n",
              "      <td>0.004248</td>\n",
              "    </tr>\n",
              "    <tr>\n",
              "      <th>std</th>\n",
              "      <td>7.859801e+05</td>\n",
              "      <td>1.096325e+07</td>\n",
              "      <td>0.0</td>\n",
              "      <td>0.0</td>\n",
              "      <td>0.166949</td>\n",
              "      <td>NaN</td>\n",
              "      <td>17.946860</td>\n",
              "      <td>70.996962</td>\n",
              "      <td>1731.792519</td>\n",
              "      <td>7295.570352</td>\n",
              "      <td>...</td>\n",
              "      <td>NaN</td>\n",
              "      <td>NaN</td>\n",
              "      <td>NaN</td>\n",
              "      <td>NaN</td>\n",
              "      <td>NaN</td>\n",
              "      <td>NaN</td>\n",
              "      <td>NaN</td>\n",
              "      <td>NaN</td>\n",
              "      <td>NaN</td>\n",
              "      <td>0.065036</td>\n",
              "    </tr>\n",
              "    <tr>\n",
              "      <th>min</th>\n",
              "      <td>2.200000e+01</td>\n",
              "      <td>5.609788e+06</td>\n",
              "      <td>201402.0</td>\n",
              "      <td>0.0</td>\n",
              "      <td>0.000000</td>\n",
              "      <td>NaN</td>\n",
              "      <td>0.000000</td>\n",
              "      <td>1.000000</td>\n",
              "      <td>-337049.160000</td>\n",
              "      <td>-32284.030000</td>\n",
              "      <td>...</td>\n",
              "      <td>NaN</td>\n",
              "      <td>NaN</td>\n",
              "      <td>NaN</td>\n",
              "      <td>NaN</td>\n",
              "      <td>NaN</td>\n",
              "      <td>NaN</td>\n",
              "      <td>NaN</td>\n",
              "      <td>NaN</td>\n",
              "      <td>NaN</td>\n",
              "      <td>0.000000</td>\n",
              "    </tr>\n",
              "    <tr>\n",
              "      <th>25%</th>\n",
              "      <td>6.993280e+05</td>\n",
              "      <td>1.021765e+07</td>\n",
              "      <td>201402.0</td>\n",
              "      <td>0.0</td>\n",
              "      <td>0.000000</td>\n",
              "      <td>NaN</td>\n",
              "      <td>35.000000</td>\n",
              "      <td>65.000000</td>\n",
              "      <td>0.000000</td>\n",
              "      <td>2701.700000</td>\n",
              "      <td>...</td>\n",
              "      <td>NaN</td>\n",
              "      <td>NaN</td>\n",
              "      <td>NaN</td>\n",
              "      <td>NaN</td>\n",
              "      <td>NaN</td>\n",
              "      <td>NaN</td>\n",
              "      <td>NaN</td>\n",
              "      <td>NaN</td>\n",
              "      <td>NaN</td>\n",
              "      <td>0.000000</td>\n",
              "    </tr>\n",
              "    <tr>\n",
              "      <th>50%</th>\n",
              "      <td>1.385459e+06</td>\n",
              "      <td>2.087868e+07</td>\n",
              "      <td>201402.0</td>\n",
              "      <td>0.0</td>\n",
              "      <td>0.000000</td>\n",
              "      <td>NaN</td>\n",
              "      <td>44.000000</td>\n",
              "      <td>106.000000</td>\n",
              "      <td>0.000000</td>\n",
              "      <td>5205.310000</td>\n",
              "      <td>...</td>\n",
              "      <td>NaN</td>\n",
              "      <td>NaN</td>\n",
              "      <td>NaN</td>\n",
              "      <td>NaN</td>\n",
              "      <td>NaN</td>\n",
              "      <td>NaN</td>\n",
              "      <td>NaN</td>\n",
              "      <td>NaN</td>\n",
              "      <td>NaN</td>\n",
              "      <td>0.000000</td>\n",
              "    </tr>\n",
              "    <tr>\n",
              "      <th>75%</th>\n",
              "      <td>2.064184e+06</td>\n",
              "      <td>2.829573e+07</td>\n",
              "      <td>201402.0</td>\n",
              "      <td>0.0</td>\n",
              "      <td>0.000000</td>\n",
              "      <td>NaN</td>\n",
              "      <td>55.000000</td>\n",
              "      <td>172.000000</td>\n",
              "      <td>0.000000</td>\n",
              "      <td>8725.460000</td>\n",
              "      <td>...</td>\n",
              "      <td>NaN</td>\n",
              "      <td>NaN</td>\n",
              "      <td>NaN</td>\n",
              "      <td>NaN</td>\n",
              "      <td>NaN</td>\n",
              "      <td>NaN</td>\n",
              "      <td>NaN</td>\n",
              "      <td>NaN</td>\n",
              "      <td>NaN</td>\n",
              "      <td>0.000000</td>\n",
              "    </tr>\n",
              "    <tr>\n",
              "      <th>max</th>\n",
              "      <td>2.694499e+06</td>\n",
              "      <td>4.851964e+07</td>\n",
              "      <td>201402.0</td>\n",
              "      <td>0.0</td>\n",
              "      <td>1.000000</td>\n",
              "      <td>NaN</td>\n",
              "      <td>108.000000</td>\n",
              "      <td>290.000000</td>\n",
              "      <td>290191.890000</td>\n",
              "      <td>722816.280000</td>\n",
              "      <td>...</td>\n",
              "      <td>NaN</td>\n",
              "      <td>NaN</td>\n",
              "      <td>NaN</td>\n",
              "      <td>NaN</td>\n",
              "      <td>NaN</td>\n",
              "      <td>NaN</td>\n",
              "      <td>NaN</td>\n",
              "      <td>NaN</td>\n",
              "      <td>NaN</td>\n",
              "      <td>1.000000</td>\n",
              "    </tr>\n",
              "  </tbody>\n",
              "</table>\n",
              "<p>11 rows × 172 columns</p>\n",
              "</div>\n",
              "      <button class=\"colab-df-convert\" onclick=\"convertToInteractive('df-2f7bf5e7-6526-4a87-a0cb-606abbab36c8')\"\n",
              "              title=\"Convert this dataframe to an interactive table.\"\n",
              "              style=\"display:none;\">\n",
              "        \n",
              "  <svg xmlns=\"http://www.w3.org/2000/svg\" height=\"24px\"viewBox=\"0 0 24 24\"\n",
              "       width=\"24px\">\n",
              "    <path d=\"M0 0h24v24H0V0z\" fill=\"none\"/>\n",
              "    <path d=\"M18.56 5.44l.94 2.06.94-2.06 2.06-.94-2.06-.94-.94-2.06-.94 2.06-2.06.94zm-11 1L8.5 8.5l.94-2.06 2.06-.94-2.06-.94L8.5 2.5l-.94 2.06-2.06.94zm10 10l.94 2.06.94-2.06 2.06-.94-2.06-.94-.94-2.06-.94 2.06-2.06.94z\"/><path d=\"M17.41 7.96l-1.37-1.37c-.4-.4-.92-.59-1.43-.59-.52 0-1.04.2-1.43.59L10.3 9.45l-7.72 7.72c-.78.78-.78 2.05 0 2.83L4 21.41c.39.39.9.59 1.41.59.51 0 1.02-.2 1.41-.59l7.78-7.78 2.81-2.81c.8-.78.8-2.07 0-2.86zM5.41 20L4 18.59l7.72-7.72 1.47 1.35L5.41 20z\"/>\n",
              "  </svg>\n",
              "      </button>\n",
              "      \n",
              "  <style>\n",
              "    .colab-df-container {\n",
              "      display:flex;\n",
              "      flex-wrap:wrap;\n",
              "      gap: 12px;\n",
              "    }\n",
              "\n",
              "    .colab-df-convert {\n",
              "      background-color: #E8F0FE;\n",
              "      border: none;\n",
              "      border-radius: 50%;\n",
              "      cursor: pointer;\n",
              "      display: none;\n",
              "      fill: #1967D2;\n",
              "      height: 32px;\n",
              "      padding: 0 0 0 0;\n",
              "      width: 32px;\n",
              "    }\n",
              "\n",
              "    .colab-df-convert:hover {\n",
              "      background-color: #E2EBFA;\n",
              "      box-shadow: 0px 1px 2px rgba(60, 64, 67, 0.3), 0px 1px 3px 1px rgba(60, 64, 67, 0.15);\n",
              "      fill: #174EA6;\n",
              "    }\n",
              "\n",
              "    [theme=dark] .colab-df-convert {\n",
              "      background-color: #3B4455;\n",
              "      fill: #D2E3FC;\n",
              "    }\n",
              "\n",
              "    [theme=dark] .colab-df-convert:hover {\n",
              "      background-color: #434B5C;\n",
              "      box-shadow: 0px 1px 3px 1px rgba(0, 0, 0, 0.15);\n",
              "      filter: drop-shadow(0px 1px 2px rgba(0, 0, 0, 0.3));\n",
              "      fill: #FFFFFF;\n",
              "    }\n",
              "  </style>\n",
              "\n",
              "      <script>\n",
              "        const buttonEl =\n",
              "          document.querySelector('#df-2f7bf5e7-6526-4a87-a0cb-606abbab36c8 button.colab-df-convert');\n",
              "        buttonEl.style.display =\n",
              "          google.colab.kernel.accessAllowed ? 'block' : 'none';\n",
              "\n",
              "        async function convertToInteractive(key) {\n",
              "          const element = document.querySelector('#df-2f7bf5e7-6526-4a87-a0cb-606abbab36c8');\n",
              "          const dataTable =\n",
              "            await google.colab.kernel.invokeFunction('convertToInteractive',\n",
              "                                                     [key], {});\n",
              "          if (!dataTable) return;\n",
              "\n",
              "          const docLinkHtml = 'Like what you see? Visit the ' +\n",
              "            '<a target=\"_blank\" href=https://colab.research.google.com/notebooks/data_table.ipynb>data table notebook</a>'\n",
              "            + ' to learn more about interactive tables.';\n",
              "          element.innerHTML = '';\n",
              "          dataTable['output_type'] = 'display_data';\n",
              "          await google.colab.output.renderOutput(dataTable, element);\n",
              "          const docLink = document.createElement('div');\n",
              "          docLink.innerHTML = docLinkHtml;\n",
              "          element.appendChild(docLink);\n",
              "        }\n",
              "      </script>\n",
              "    </div>\n",
              "  </div>\n",
              "  "
            ]
          },
          "metadata": {},
          "execution_count": 61
        }
      ]
    },
    {
      "cell_type": "code",
      "source": [
        "df2.info()"
      ],
      "metadata": {
        "colab": {
          "base_uri": "https://localhost:8080/"
        },
        "id": "iFGX4jPhc9Np",
        "outputId": "f082184e-1748-4afa-d361-cf7ab78c2701"
      },
      "execution_count": 62,
      "outputs": [
        {
          "output_type": "stream",
          "name": "stdout",
          "text": [
            "<class 'pandas.core.frame.DataFrame'>\n",
            "RangeIndex: 181981 entries, 0 to 181980\n",
            "Columns: 172 entries, Unnamed: 0 to target_bin\n",
            "dtypes: float64(43), int64(40), object(88), string(1)\n",
            "memory usage: 238.8+ MB\n"
          ]
        }
      ]
    },
    {
      "cell_type": "markdown",
      "source": [
        "# Features"
      ],
      "metadata": {
        "id": "N17MVwtPdJEn"
      }
    },
    {
      "cell_type": "code",
      "source": [
        "# Elimino la primer columna\n",
        "df2 = df2.loc[:, ~df2.columns.str.contains('^Unnamed')]"
      ],
      "metadata": {
        "id": "BSoPO-fOdIVy"
      },
      "execution_count": 70,
      "outputs": []
    },
    {
      "cell_type": "code",
      "source": [
        "y = df2.target_bin\n",
        "X = df2.drop([ 'target','target_bin'] , axis='columns')"
      ],
      "metadata": {
        "id": "XdExUa0PdXLA"
      },
      "execution_count": 71,
      "outputs": []
    },
    {
      "cell_type": "code",
      "source": [
        "#Transformo Variables Categoricas\n",
        "X = pd.get_dummies(X, columns = ['tpaquete2', 'tpaquete4', 'tpaquete6', 'tpaquete7', 'tpaquete9', 'tcuentas', 'tcuenta_corriente', 'tcaja_ahorro', 'ttarjeta_debito', 'ttarjeta_visa', 'ttarjeta_master'])"
      ],
      "metadata": {
        "id": "xITZuHWMdeEi"
      },
      "execution_count": 72,
      "outputs": []
    },
    {
      "cell_type": "code",
      "source": [
        "numerics = ['int16', 'int32', 'int64', 'float16', 'float32', 'float64', 'uint8']\n",
        "X = X.select_dtypes(include=numerics)\n",
        "#one_hot_encoding\n",
        "#https://scikit-learn.org/stable/modules/generated/sklearn.preprocessing.OneHotEncoder.html\n",
        "X = X.fillna(0)"
      ],
      "metadata": {
        "id": "I6V2PsiAdnu1"
      },
      "execution_count": 73,
      "outputs": []
    },
    {
      "cell_type": "code",
      "source": [
        "#Creo variables\n",
        "X['mcuenta_corriente_all'] = X['mcuenta_corriente_Paquete'] + X['mcuenta_corriente_Nopaquete']\n",
        "X['mcaja_ahorro_all'] = X['mcaja_ahorro_Paquete'] + X['mcaja_ahorro_Nopaquete']\n",
        "X['mcaja_ahorro_CC'] = X['mcaja_ahorro_all'] + X['mcuenta_corriente_all']\n",
        "X['mtarjeta_all_consumo'] = X['mtarjeta_visa_consumo'] + X['mtarjeta_master_consumo']\n",
        "X['ctarjeta_all_transacciones'] = X['ctarjeta_visa_transacciones'] + X['ctarjeta_master_transacciones']\n",
        "#X['ctarjeta_all_transacciones'] = X['ctarjeta_visa_transacciones'] + X['ctarjeta_master_transacciones']\n",
        "X.head()"
      ],
      "metadata": {
        "colab": {
          "base_uri": "https://localhost:8080/",
          "height": 299
        },
        "id": "38ODtJMld5fk",
        "outputId": "16aaa6f7-d014-472f-ce99-0b4a894766a3"
      },
      "execution_count": 74,
      "outputs": [
        {
          "output_type": "execute_result",
          "data": {
            "text/plain": [
              "   numero_de_cliente  foto_mes  marketing_activo_ultimos90dias  cliente_vip  \\\n",
              "0            5609788    201402                               0            0   \n",
              "1            5609981    201402                               0            0   \n",
              "2            5610023    201402                               0            0   \n",
              "3            5610089    201402                               0            0   \n",
              "4            5610101    201402                               0            0   \n",
              "\n",
              "   cliente_edad  cliente_antiguedad  mrentabilidad  mrentabilidad_annual  \\\n",
              "0            61                 237           0.00               9669.42   \n",
              "1            64                 196           0.00               4107.16   \n",
              "2            41                  91           0.00               2888.84   \n",
              "3             0                 237        2597.43                  0.00   \n",
              "4            49                  45           0.00              46303.03   \n",
              "\n",
              "   mcomisiones  mactivos_margen  ...  ttarjeta_debito_S  ttarjeta_visa_N  \\\n",
              "0          0.0              0.0  ...                  1                0   \n",
              "1          0.0              0.0  ...                  1                0   \n",
              "2          0.0              0.0  ...                  1                0   \n",
              "3          0.0              0.0  ...                  1                0   \n",
              "4          0.0              0.0  ...                  1                0   \n",
              "\n",
              "   ttarjeta_visa_S  ttarjeta_master_N  ttarjeta_master_S  \\\n",
              "0                1                  0                  1   \n",
              "1                1                  0                  1   \n",
              "2                1                  0                  1   \n",
              "3                1                  0                  1   \n",
              "4                1                  0                  1   \n",
              "\n",
              "   mcuenta_corriente_all  mcaja_ahorro_all  mcaja_ahorro_CC  \\\n",
              "0                   0.00           2306.92          2306.92   \n",
              "1                   0.00           1568.13          1568.13   \n",
              "2                   0.00           1409.87          1409.87   \n",
              "3                -928.10           2181.47          1253.37   \n",
              "4               21043.29          38499.54         59542.83   \n",
              "\n",
              "   mtarjeta_all_consumo  ctarjeta_all_transacciones  \n",
              "0              11333.44                          17  \n",
              "1                706.14                           2  \n",
              "2               5295.89                          20  \n",
              "3              17342.68                          18  \n",
              "4               7694.85                          11  \n",
              "\n",
              "[5 rows x 108 columns]"
            ],
            "text/html": [
              "\n",
              "  <div id=\"df-aff44afd-f76a-477c-b88b-4557ff5cc355\">\n",
              "    <div class=\"colab-df-container\">\n",
              "      <div>\n",
              "<style scoped>\n",
              "    .dataframe tbody tr th:only-of-type {\n",
              "        vertical-align: middle;\n",
              "    }\n",
              "\n",
              "    .dataframe tbody tr th {\n",
              "        vertical-align: top;\n",
              "    }\n",
              "\n",
              "    .dataframe thead th {\n",
              "        text-align: right;\n",
              "    }\n",
              "</style>\n",
              "<table border=\"1\" class=\"dataframe\">\n",
              "  <thead>\n",
              "    <tr style=\"text-align: right;\">\n",
              "      <th></th>\n",
              "      <th>numero_de_cliente</th>\n",
              "      <th>foto_mes</th>\n",
              "      <th>marketing_activo_ultimos90dias</th>\n",
              "      <th>cliente_vip</th>\n",
              "      <th>cliente_edad</th>\n",
              "      <th>cliente_antiguedad</th>\n",
              "      <th>mrentabilidad</th>\n",
              "      <th>mrentabilidad_annual</th>\n",
              "      <th>mcomisiones</th>\n",
              "      <th>mactivos_margen</th>\n",
              "      <th>...</th>\n",
              "      <th>ttarjeta_debito_S</th>\n",
              "      <th>ttarjeta_visa_N</th>\n",
              "      <th>ttarjeta_visa_S</th>\n",
              "      <th>ttarjeta_master_N</th>\n",
              "      <th>ttarjeta_master_S</th>\n",
              "      <th>mcuenta_corriente_all</th>\n",
              "      <th>mcaja_ahorro_all</th>\n",
              "      <th>mcaja_ahorro_CC</th>\n",
              "      <th>mtarjeta_all_consumo</th>\n",
              "      <th>ctarjeta_all_transacciones</th>\n",
              "    </tr>\n",
              "  </thead>\n",
              "  <tbody>\n",
              "    <tr>\n",
              "      <th>0</th>\n",
              "      <td>5609788</td>\n",
              "      <td>201402</td>\n",
              "      <td>0</td>\n",
              "      <td>0</td>\n",
              "      <td>61</td>\n",
              "      <td>237</td>\n",
              "      <td>0.00</td>\n",
              "      <td>9669.42</td>\n",
              "      <td>0.0</td>\n",
              "      <td>0.0</td>\n",
              "      <td>...</td>\n",
              "      <td>1</td>\n",
              "      <td>0</td>\n",
              "      <td>1</td>\n",
              "      <td>0</td>\n",
              "      <td>1</td>\n",
              "      <td>0.00</td>\n",
              "      <td>2306.92</td>\n",
              "      <td>2306.92</td>\n",
              "      <td>11333.44</td>\n",
              "      <td>17</td>\n",
              "    </tr>\n",
              "    <tr>\n",
              "      <th>1</th>\n",
              "      <td>5609981</td>\n",
              "      <td>201402</td>\n",
              "      <td>0</td>\n",
              "      <td>0</td>\n",
              "      <td>64</td>\n",
              "      <td>196</td>\n",
              "      <td>0.00</td>\n",
              "      <td>4107.16</td>\n",
              "      <td>0.0</td>\n",
              "      <td>0.0</td>\n",
              "      <td>...</td>\n",
              "      <td>1</td>\n",
              "      <td>0</td>\n",
              "      <td>1</td>\n",
              "      <td>0</td>\n",
              "      <td>1</td>\n",
              "      <td>0.00</td>\n",
              "      <td>1568.13</td>\n",
              "      <td>1568.13</td>\n",
              "      <td>706.14</td>\n",
              "      <td>2</td>\n",
              "    </tr>\n",
              "    <tr>\n",
              "      <th>2</th>\n",
              "      <td>5610023</td>\n",
              "      <td>201402</td>\n",
              "      <td>0</td>\n",
              "      <td>0</td>\n",
              "      <td>41</td>\n",
              "      <td>91</td>\n",
              "      <td>0.00</td>\n",
              "      <td>2888.84</td>\n",
              "      <td>0.0</td>\n",
              "      <td>0.0</td>\n",
              "      <td>...</td>\n",
              "      <td>1</td>\n",
              "      <td>0</td>\n",
              "      <td>1</td>\n",
              "      <td>0</td>\n",
              "      <td>1</td>\n",
              "      <td>0.00</td>\n",
              "      <td>1409.87</td>\n",
              "      <td>1409.87</td>\n",
              "      <td>5295.89</td>\n",
              "      <td>20</td>\n",
              "    </tr>\n",
              "    <tr>\n",
              "      <th>3</th>\n",
              "      <td>5610089</td>\n",
              "      <td>201402</td>\n",
              "      <td>0</td>\n",
              "      <td>0</td>\n",
              "      <td>0</td>\n",
              "      <td>237</td>\n",
              "      <td>2597.43</td>\n",
              "      <td>0.00</td>\n",
              "      <td>0.0</td>\n",
              "      <td>0.0</td>\n",
              "      <td>...</td>\n",
              "      <td>1</td>\n",
              "      <td>0</td>\n",
              "      <td>1</td>\n",
              "      <td>0</td>\n",
              "      <td>1</td>\n",
              "      <td>-928.10</td>\n",
              "      <td>2181.47</td>\n",
              "      <td>1253.37</td>\n",
              "      <td>17342.68</td>\n",
              "      <td>18</td>\n",
              "    </tr>\n",
              "    <tr>\n",
              "      <th>4</th>\n",
              "      <td>5610101</td>\n",
              "      <td>201402</td>\n",
              "      <td>0</td>\n",
              "      <td>0</td>\n",
              "      <td>49</td>\n",
              "      <td>45</td>\n",
              "      <td>0.00</td>\n",
              "      <td>46303.03</td>\n",
              "      <td>0.0</td>\n",
              "      <td>0.0</td>\n",
              "      <td>...</td>\n",
              "      <td>1</td>\n",
              "      <td>0</td>\n",
              "      <td>1</td>\n",
              "      <td>0</td>\n",
              "      <td>1</td>\n",
              "      <td>21043.29</td>\n",
              "      <td>38499.54</td>\n",
              "      <td>59542.83</td>\n",
              "      <td>7694.85</td>\n",
              "      <td>11</td>\n",
              "    </tr>\n",
              "  </tbody>\n",
              "</table>\n",
              "<p>5 rows × 108 columns</p>\n",
              "</div>\n",
              "      <button class=\"colab-df-convert\" onclick=\"convertToInteractive('df-aff44afd-f76a-477c-b88b-4557ff5cc355')\"\n",
              "              title=\"Convert this dataframe to an interactive table.\"\n",
              "              style=\"display:none;\">\n",
              "        \n",
              "  <svg xmlns=\"http://www.w3.org/2000/svg\" height=\"24px\"viewBox=\"0 0 24 24\"\n",
              "       width=\"24px\">\n",
              "    <path d=\"M0 0h24v24H0V0z\" fill=\"none\"/>\n",
              "    <path d=\"M18.56 5.44l.94 2.06.94-2.06 2.06-.94-2.06-.94-.94-2.06-.94 2.06-2.06.94zm-11 1L8.5 8.5l.94-2.06 2.06-.94-2.06-.94L8.5 2.5l-.94 2.06-2.06.94zm10 10l.94 2.06.94-2.06 2.06-.94-2.06-.94-.94-2.06-.94 2.06-2.06.94z\"/><path d=\"M17.41 7.96l-1.37-1.37c-.4-.4-.92-.59-1.43-.59-.52 0-1.04.2-1.43.59L10.3 9.45l-7.72 7.72c-.78.78-.78 2.05 0 2.83L4 21.41c.39.39.9.59 1.41.59.51 0 1.02-.2 1.41-.59l7.78-7.78 2.81-2.81c.8-.78.8-2.07 0-2.86zM5.41 20L4 18.59l7.72-7.72 1.47 1.35L5.41 20z\"/>\n",
              "  </svg>\n",
              "      </button>\n",
              "      \n",
              "  <style>\n",
              "    .colab-df-container {\n",
              "      display:flex;\n",
              "      flex-wrap:wrap;\n",
              "      gap: 12px;\n",
              "    }\n",
              "\n",
              "    .colab-df-convert {\n",
              "      background-color: #E8F0FE;\n",
              "      border: none;\n",
              "      border-radius: 50%;\n",
              "      cursor: pointer;\n",
              "      display: none;\n",
              "      fill: #1967D2;\n",
              "      height: 32px;\n",
              "      padding: 0 0 0 0;\n",
              "      width: 32px;\n",
              "    }\n",
              "\n",
              "    .colab-df-convert:hover {\n",
              "      background-color: #E2EBFA;\n",
              "      box-shadow: 0px 1px 2px rgba(60, 64, 67, 0.3), 0px 1px 3px 1px rgba(60, 64, 67, 0.15);\n",
              "      fill: #174EA6;\n",
              "    }\n",
              "\n",
              "    [theme=dark] .colab-df-convert {\n",
              "      background-color: #3B4455;\n",
              "      fill: #D2E3FC;\n",
              "    }\n",
              "\n",
              "    [theme=dark] .colab-df-convert:hover {\n",
              "      background-color: #434B5C;\n",
              "      box-shadow: 0px 1px 3px 1px rgba(0, 0, 0, 0.15);\n",
              "      filter: drop-shadow(0px 1px 2px rgba(0, 0, 0, 0.3));\n",
              "      fill: #FFFFFF;\n",
              "    }\n",
              "  </style>\n",
              "\n",
              "      <script>\n",
              "        const buttonEl =\n",
              "          document.querySelector('#df-aff44afd-f76a-477c-b88b-4557ff5cc355 button.colab-df-convert');\n",
              "        buttonEl.style.display =\n",
              "          google.colab.kernel.accessAllowed ? 'block' : 'none';\n",
              "\n",
              "        async function convertToInteractive(key) {\n",
              "          const element = document.querySelector('#df-aff44afd-f76a-477c-b88b-4557ff5cc355');\n",
              "          const dataTable =\n",
              "            await google.colab.kernel.invokeFunction('convertToInteractive',\n",
              "                                                     [key], {});\n",
              "          if (!dataTable) return;\n",
              "\n",
              "          const docLinkHtml = 'Like what you see? Visit the ' +\n",
              "            '<a target=\"_blank\" href=https://colab.research.google.com/notebooks/data_table.ipynb>data table notebook</a>'\n",
              "            + ' to learn more about interactive tables.';\n",
              "          element.innerHTML = '';\n",
              "          dataTable['output_type'] = 'display_data';\n",
              "          await google.colab.output.renderOutput(dataTable, element);\n",
              "          const docLink = document.createElement('div');\n",
              "          docLink.innerHTML = docLinkHtml;\n",
              "          element.appendChild(docLink);\n",
              "        }\n",
              "      </script>\n",
              "    </div>\n",
              "  </div>\n",
              "  "
            ]
          },
          "metadata": {},
          "execution_count": 74
        }
      ]
    },
    {
      "cell_type": "code",
      "source": [
        "from sklearn.preprocessing import StandardScaler\n",
        "scaler = StandardScaler()\n",
        "X = scaler.fit_transform(X)\n"
      ],
      "metadata": {
        "id": "LHdF9LwZmOJH"
      },
      "execution_count": 75,
      "outputs": []
    },
    {
      "cell_type": "code",
      "source": [],
      "metadata": {
        "id": "_vr70WrwmOGT"
      },
      "execution_count": 75,
      "outputs": []
    },
    {
      "cell_type": "code",
      "source": [],
      "metadata": {
        "id": "hA5-7pofmOD8"
      },
      "execution_count": 75,
      "outputs": []
    },
    {
      "cell_type": "code",
      "source": [],
      "metadata": {
        "id": "sdAXiSV9mN30"
      },
      "execution_count": 75,
      "outputs": []
    },
    {
      "cell_type": "code",
      "source": [
        "from sklearn.datasets import load_iris\n",
        "from sklearn.feature_selection import SelectPercentile\n",
        "from sklearn.feature_selection import f_regression\n",
        "\n",
        "\n",
        "\n",
        "features_new = SelectPercentile(f_regression, percentile = 90 ).fit_transform(X, y)\n",
        "\n",
        "features_new"
      ],
      "metadata": {
        "colab": {
          "base_uri": "https://localhost:8080/"
        },
        "id": "0GN3Z5bJePkb",
        "outputId": "34bc2152-ebce-4c0d-845e-e5106697c48a"
      },
      "execution_count": 76,
      "outputs": [
        {
          "output_type": "stream",
          "name": "stderr",
          "text": [
            "/usr/local/lib/python3.7/dist-packages/sklearn/feature_selection/_univariate_selection.py:289: RuntimeWarning: invalid value encountered in true_divide\n",
            "  correlation_coefficient /= X_norms\n"
          ]
        },
        {
          "output_type": "execute_result",
          "data": {
            "text/plain": [
              "array([[-1.41716091,  0.        ,  0.        , ..., -0.27681498,\n",
              "         0.47912622, -0.04402844],\n",
              "       [-1.41714331,  0.        ,  0.        , ..., -0.28966221,\n",
              "        -0.64652623, -0.83925046],\n",
              "       [-1.41713948,  0.        ,  0.        , ..., -0.29241429,\n",
              "        -0.1603761 ,  0.11501597],\n",
              "       ...,\n",
              "       [ 2.49639687,  0.        ,  0.        , ..., -0.31693131,\n",
              "        -0.72132116, -0.94528006],\n",
              "       [ 2.49664224,  0.        ,  0.        , ..., -0.31693131,\n",
              "        -0.72132116, -0.94528006],\n",
              "       [ 2.49682065,  0.        ,  0.        , ..., -0.31696435,\n",
              "        -0.72132116, -0.94528006]])"
            ]
          },
          "metadata": {},
          "execution_count": 76
        }
      ]
    },
    {
      "cell_type": "code",
      "source": [
        "features_new.shape"
      ],
      "metadata": {
        "colab": {
          "base_uri": "https://localhost:8080/"
        },
        "id": "iq91fFt1fmF4",
        "outputId": "a242ffd7-4803-4e52-e4ea-f615935bef93"
      },
      "execution_count": 77,
      "outputs": [
        {
          "output_type": "execute_result",
          "data": {
            "text/plain": [
              "(181981, 97)"
            ]
          },
          "metadata": {},
          "execution_count": 77
        }
      ]
    },
    {
      "cell_type": "code",
      "source": [
        "X = features_new\n",
        "X"
      ],
      "metadata": {
        "colab": {
          "base_uri": "https://localhost:8080/"
        },
        "id": "twvlvp2Ki95U",
        "outputId": "a05d0ff5-3b78-4bab-e448-2472ac71d10c"
      },
      "execution_count": 80,
      "outputs": [
        {
          "output_type": "execute_result",
          "data": {
            "text/plain": [
              "array([[-1.41716091,  0.        ,  0.        , ..., -0.27681498,\n",
              "         0.47912622, -0.04402844],\n",
              "       [-1.41714331,  0.        ,  0.        , ..., -0.28966221,\n",
              "        -0.64652623, -0.83925046],\n",
              "       [-1.41713948,  0.        ,  0.        , ..., -0.29241429,\n",
              "        -0.1603761 ,  0.11501597],\n",
              "       ...,\n",
              "       [ 2.49639687,  0.        ,  0.        , ..., -0.31693131,\n",
              "        -0.72132116, -0.94528006],\n",
              "       [ 2.49664224,  0.        ,  0.        , ..., -0.31693131,\n",
              "        -0.72132116, -0.94528006],\n",
              "       [ 2.49682065,  0.        ,  0.        , ..., -0.31696435,\n",
              "        -0.72132116, -0.94528006]])"
            ]
          },
          "metadata": {},
          "execution_count": 80
        }
      ]
    },
    {
      "cell_type": "code",
      "source": [
        "y"
      ],
      "metadata": {
        "colab": {
          "base_uri": "https://localhost:8080/"
        },
        "id": "hqkvBUiNhLMM",
        "outputId": "700d0e37-1b04-4272-d349-d5fe8f14c652"
      },
      "execution_count": 81,
      "outputs": [
        {
          "output_type": "execute_result",
          "data": {
            "text/plain": [
              "0         0\n",
              "1         0\n",
              "2         0\n",
              "3         0\n",
              "4         0\n",
              "         ..\n",
              "181976    0\n",
              "181977    0\n",
              "181978    0\n",
              "181979    0\n",
              "181980    0\n",
              "Name: target_bin, Length: 181981, dtype: int64"
            ]
          },
          "metadata": {},
          "execution_count": 81
        }
      ]
    },
    {
      "cell_type": "code",
      "source": [],
      "metadata": {
        "id": "zz-ZBqWXhLKw"
      },
      "execution_count": 78,
      "outputs": []
    },
    {
      "cell_type": "code",
      "source": [],
      "metadata": {
        "id": "U7cDQqvrhLI7"
      },
      "execution_count": 78,
      "outputs": []
    },
    {
      "cell_type": "markdown",
      "source": [
        "# Entrenar uno o más modelos\n"
      ],
      "metadata": {
        "id": "Ua1QIAQynjD7"
      }
    },
    {
      "cell_type": "code",
      "source": [
        "#Split\n",
        "from sklearn.model_selection import train_test_split\n",
        "from sklearn.tree import DecisionTreeClassifier\n",
        "\n",
        "X_train, X_test, y_train, y_test = train_test_split(X, y, random_state=0)"
      ],
      "metadata": {
        "id": "xTj3NXiihLGF"
      },
      "execution_count": 83,
      "outputs": []
    },
    {
      "cell_type": "code",
      "source": [
        "# Entreno Arbol, hago predicciones\n",
        "clf = DecisionTreeClassifier(max_depth=5, class_weight='balanced').fit(X_train, y_train)\n",
        " \n",
        "# Predict on training set and test set\n",
        "y_train_pred = clf.predict(X_train)\n",
        "y_test_pred = clf.predict(X_test)"
      ],
      "metadata": {
        "id": "_0tIskMQhLDQ"
      },
      "execution_count": 84,
      "outputs": []
    },
    {
      "cell_type": "code",
      "source": [
        "#Ahora puedo obtener Recall y Precision\n",
        "from sklearn.metrics import precision_score\n",
        "from sklearn.metrics import recall_score\n",
        "from sklearn.metrics import accuracy_score\n",
        "print('Accuracy')\n",
        "print('Train:',accuracy_score(y_train, y_train_pred))\n",
        "print('Test:',accuracy_score(y_test, y_test_pred))\n",
        "print(' ')\n",
        "print('Recall')\n",
        "print('Train:',recall_score(y_train, y_train_pred))\n",
        "print('Test:',recall_score(y_test, y_test_pred))\n",
        "print(' ')\n",
        "print('Precision')\n",
        "print('Train:',precision_score(y_train, y_train_pred))\n",
        "print('Test:',precision_score(y_test, y_test_pred))"
      ],
      "metadata": {
        "colab": {
          "base_uri": "https://localhost:8080/"
        },
        "id": "H60zkkvrhLB6",
        "outputId": "ab69df34-37bf-4c0a-8b60-eff8ddaaa023"
      },
      "execution_count": 86,
      "outputs": [
        {
          "output_type": "stream",
          "name": "stdout",
          "text": [
            "Accuracy\n",
            "Train: 0.8815254423563029\n",
            "Test: 0.8792421311763672\n",
            " \n",
            "Recall\n",
            "Train: 0.8609154929577465\n",
            "Test: 0.8097560975609757\n",
            " \n",
            "Precision\n",
            "Train: 0.029493365500603136\n",
            "Test: 0.029532111723892546\n"
          ]
        }
      ]
    },
    {
      "cell_type": "markdown",
      "source": [
        "## Otro modelo"
      ],
      "metadata": {
        "id": "xH3aF-JZoHlm"
      }
    },
    {
      "cell_type": "code",
      "source": [
        "# Entreno Arbol, hago predicciones\n",
        "clf = DecisionTreeClassifier().fit(X_train, y_train)\n",
        " \n",
        "# Predict on training set and test set\n",
        "y_train_pred = clf.predict(X_train)\n",
        "y_test_pred = clf.predict(X_test)"
      ],
      "metadata": {
        "id": "1_cq2U7AhKuL"
      },
      "execution_count": 87,
      "outputs": []
    },
    {
      "cell_type": "code",
      "source": [
        "#Ahora puedo obtener Recall y Precision\n",
        "from sklearn.metrics import precision_score\n",
        "from sklearn.metrics import recall_score\n",
        "from sklearn.metrics import accuracy_score\n",
        "print('Accuracy')\n",
        "print('Train:',accuracy_score(y_train, y_train_pred))\n",
        "print('Test:',accuracy_score(y_test, y_test_pred))\n",
        "print(' ')\n",
        "print('Recall')\n",
        "print('Train:',recall_score(y_train, y_train_pred))\n",
        "print('Test:',recall_score(y_test, y_test_pred))\n",
        "print(' ')\n",
        "print('Precision')\n",
        "print('Train:',precision_score(y_train, y_train_pred))\n",
        "print('Test:',precision_score(y_test, y_test_pred))"
      ],
      "metadata": {
        "colab": {
          "base_uri": "https://localhost:8080/"
        },
        "id": "hKzL6UrloQTb",
        "outputId": "7d249be9-32ad-48a3-ba42-d764750d1ee2"
      },
      "execution_count": 88,
      "outputs": [
        {
          "output_type": "stream",
          "name": "stdout",
          "text": [
            "Accuracy\n",
            "Train: 1.0\n",
            "Test: 0.9915816775101107\n",
            " \n",
            "Recall\n",
            "Train: 1.0\n",
            "Test: 0.1024390243902439\n",
            " \n",
            "Precision\n",
            "Train: 1.0\n",
            "Test: 0.09545454545454546\n"
          ]
        }
      ]
    },
    {
      "cell_type": "code",
      "source": [
        "    print()\n",
        "    print(format('How to plot a ROC Curve in Python','*^82'))\n",
        "\n",
        "    import warnings\n",
        "    warnings.filterwarnings(\"ignore\")\n",
        "\n",
        "    # load libraries\n",
        "    from sklearn.datasets import make_classification\n",
        "    from sklearn.tree import DecisionTreeClassifier\n",
        "    from sklearn.linear_model import LogisticRegression\n",
        "    from sklearn.metrics import roc_curve, roc_auc_score\n",
        "    from sklearn.model_selection import train_test_split\n",
        "    import matplotlib.pyplot as plt\n",
        "\n",
        "    # Create feature matrix and target vector\n",
        "    #X, y = make_classification(n_samples=10000, n_features=100, n_classes=2)\n",
        "\n",
        "    # Split into training and test sets\n",
        "    #X_train, X_test, y_train, y_test = train_test_split(X, y, test_size=0.25)\n",
        "\n",
        "    # Create classifier\n",
        "    clf1 = DecisionTreeClassifier(max_depth=5, class_weight='balanced')\n",
        "    clf2 = DecisionTreeClassifier(max_depth=5)\n",
        "    clf3 = LogisticRegression()\n",
        "\n",
        "    # Train model\n",
        "    clf1.fit(X_train, y_train)\n",
        "    clf2.fit(X_train, y_train)\n",
        "    clf3.fit(X_train, y_train)\n",
        "\n",
        "    # Get predicted probabilities\n",
        "    y_score1 = clf1.predict_proba(X_test)[:,1]\n",
        "    y_score2 = clf2.predict_proba(X_test)[:,1]\n",
        "    y_score3 = clf3.predict_proba(X_test)[:,1]\n",
        "\n",
        "    # Plot Receiving Operating Characteristic Curve\n",
        "    # Create true and false positive rates\n",
        "    false_positive_rate1, true_positive_rate1, threshold1 = roc_curve(y_test, y_score1)\n",
        "    false_positive_rate2, true_positive_rate2, threshold2 = roc_curve(y_test, y_score2)\n",
        "    false_positive_rate3, true_positive_rate3, threshold3 = roc_curve(y_test, y_score3)\n",
        "    print('roc_auc_score for DecisionTree: ', roc_auc_score(y_test, y_score1))\n",
        "    print('roc_auc_score for DecisionTree_5: ', roc_auc_score(y_test, y_score2))\n",
        "    print('roc_auc_score for Logistic Regression: ', roc_auc_score(y_test, y_score3))\n",
        "\n",
        "    # Plot ROC curves\n",
        "    plt.subplots(1, figsize=(10,10))\n",
        "    plt.title('Receiver Operating Characteristic - DecisionTree')\n",
        "    plt.plot(false_positive_rate1, true_positive_rate1)\n",
        "    plt.plot([0, 1], ls=\"--\")\n",
        "    plt.plot([0, 0], [1, 0] , c=\".7\"), plt.plot([1, 1] , c=\".7\")\n",
        "    plt.ylabel('True Positive Rate')\n",
        "    plt.xlabel('False Positive Rate')\n",
        "    plt.show()\n",
        "\n",
        "    plt.subplots(1, figsize=(10,10))\n",
        "    plt.title('Receiver Operating Characteristic - DecisionTree Levels 5')\n",
        "    plt.plot(false_positive_rate2, true_positive_rate2)\n",
        "    plt.plot([0, 1], ls=\"--\")\n",
        "    plt.plot([0, 0], [1, 0] , c=\".7\"), plt.plot([1, 1] , c=\".7\")\n",
        "    plt.ylabel('True Positive Rate')\n",
        "    plt.xlabel('False Positive Rate')\n",
        "    plt.show()\n",
        "\n",
        "    plt.subplots(1, figsize=(10,10))\n",
        "    plt.title('Receiver Operating Characteristic - Logistic regression')\n",
        "    plt.plot(false_positive_rate3, true_positive_rate3)\n",
        "    plt.plot([0, 1], ls=\"--\")\n",
        "    plt.plot([0, 0], [1, 0] , c=\".7\"), plt.plot([1, 1] , c=\".7\")\n",
        "    plt.ylabel('True Positive Rate')\n",
        "    plt.xlabel('False Positive Rate')\n",
        "    plt.show()"
      ],
      "metadata": {
        "colab": {
          "base_uri": "https://localhost:8080/",
          "height": 1000
        },
        "id": "432bNbYAodMf",
        "outputId": "e731249a-90ae-40fb-8467-fccd8967d44e"
      },
      "execution_count": 90,
      "outputs": [
        {
          "output_type": "stream",
          "name": "stdout",
          "text": [
            "\n",
            "************************How to plot a ROC Curve in Python*************************\n",
            "roc_auc_score for DecisionTree:  0.8848964770365728\n",
            "roc_auc_score for DecisionTree_5:  0.7871931159531507\n",
            "roc_auc_score for Logistic Regression:  0.919942959646858\n"
          ]
        },
        {
          "output_type": "display_data",
          "data": {
            "text/plain": [
              "<Figure size 720x720 with 1 Axes>"
            ],
            "image/png": "[encoded data removed]"
          },
          "metadata": {
            "needs_background": "light"
          }
        },
        {
          "output_type": "display_data",
          "data": {
            "text/plain": [
              "<Figure size 720x720 with 1 Axes>"
            ],
            "image/png": "[encoded data removed]"
          },
          "metadata": {
            "needs_background": "light"
          }
        },
        {
          "output_type": "display_data",
          "data": {
            "text/plain": [
              "<Figure size 720x720 with 1 Axes>"
            ],
            "image/png": "[encoded data removed]"
          },
          "metadata": {
            "needs_background": "light"
          }
        }
      ]
    },
    {
      "cell_type": "code",
      "source": [
        "# Ya optimicé paramétros y me quedé con un modelo"
      ],
      "metadata": {
        "colab": {
          "base_uri": "https://localhost:8080/"
        },
        "id": "u3x3jXz8pSb4",
        "outputId": "dccc951f-bdaa-4df3-ca14-0ffdead509be"
      },
      "execution_count": 91,
      "outputs": [
        {
          "output_type": "execute_result",
          "data": {
            "text/plain": [
              "array([5.26752916e-06, 2.52153003e-03, 1.08623978e-04, ...,\n",
              "       4.22350327e-03, 2.37740706e-03, 1.36653722e-04])"
            ]
          },
          "metadata": {},
          "execution_count": 91
        }
      ]
    },
    {
      "cell_type": "code",
      "source": [
        "# Scorear el mes 201404\n",
        "#hacer transformaciones SIN USAR FIT, SOLO USAR TRANSFORM Y FINALMENTE PREDICT\n",
        "Resultado = clf3.predict(X)\n",
        "\n",
        "\n",
        "\n",
        "   # Get predicted probabilities\n",
        "    y_score1 = clf3.predict_proba(X)[:,1]\n",
        "\n",
        "#    FILTRO PARA QUEDARME CON LOS id CLIENTE DE LOS CASOS CON PREDICT_PROBA >.02\n",
        "\n"
      ],
      "metadata": {
        "id": "ymIN9wApr0ie"
      },
      "execution_count": null,
      "outputs": []
    }
  ]
}