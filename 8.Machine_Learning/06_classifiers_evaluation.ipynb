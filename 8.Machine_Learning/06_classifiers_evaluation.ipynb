{
  "nbformat": 4,
  "nbformat_minor": 0,
  "metadata": {
    "colab": {
      "name": "06_classifiers_evaluation.ipynb",
      "provenance": [],
      "collapsed_sections": [],
      "include_colab_link": true
    },
    "kernelspec": {
      "name": "python3",
      "display_name": "Python 3"
    }
  },
  "cells": [
    {
      "cell_type": "markdown",
      "metadata": {
        "id": "view-in-github",
        "colab_type": "text"
      },
      "source": [
        "<a href=\"https://colab.research.google.com/github/al34n1x/DataScience/blob/master/8.Machine_Learning/06_classifiers_evaluation.ipynb\" target=\"_parent\"><img src=\"https://colab.research.google.com/assets/colab-badge.svg\" alt=\"Open In Colab\"/></a>"
      ]
    },
    {
      "cell_type": "markdown",
      "metadata": {
        "id": "M_eTkrBylgJN"
      },
      "source": [
        "\n",
        "\n",
        "# Evaluacion de clasificadores"
      ]
    },
    {
      "cell_type": "markdown",
      "metadata": {
        "id": "q-11Cd3_lgJZ"
      },
      "source": [
        "\n",
        "\n",
        "Vamos a crear un conjunto de datos a partir de 2 distribuciones. Cada distribución se etiqueta con una clase. Los valores de ambas se deben cruzar para simular el problema que queremos definir."
      ]
    },
    {
      "cell_type": "code",
      "metadata": {
        "id": "1Ow_n4KhlgJd"
      },
      "source": [
        "import numpy as np\n",
        "from matplotlib import pyplot as plt\n",
        "%matplotlib inline\n"
      ],
      "execution_count": 1,
      "outputs": []
    },
    {
      "cell_type": "code",
      "metadata": {
        "id": "BMk8fJ4ulgJr"
      },
      "source": [
        "total_p = 1000\n",
        "total_n = 1000\n",
        "px = [np.random.normal(10,3) for _ in range(total_p)]\n",
        "nx = [np.random.normal(20,3) for _ in range(total_n)]\n",
        "x = np.concatenate([px,nx])\n",
        "classes = np.concatenate([[\"p\"]*total_p,[\"n\"]*total_n])"
      ],
      "execution_count": 2,
      "outputs": []
    },
    {
      "cell_type": "code",
      "metadata": {
        "id": "T7AorzdcoITh",
        "outputId": "48535b63-5b7e-44d0-e428-c544cbc55764",
        "colab": {
          "base_uri": "https://localhost:8080/"
        }
      },
      "source": [
        "x"
      ],
      "execution_count": 3,
      "outputs": [
        {
          "output_type": "execute_result",
          "data": {
            "text/plain": [
              "array([10.5213653 , 10.39173922, 10.35467008, ..., 23.54744108,\n",
              "       15.58458089, 19.58383811])"
            ]
          },
          "metadata": {},
          "execution_count": 3
        }
      ]
    },
    {
      "cell_type": "code",
      "metadata": {
        "id": "GiuDuXaAlgJ5",
        "outputId": "62736573-2a06-49d5-b2e0-860d99ac8e59",
        "colab": {
          "base_uri": "https://localhost:8080/",
          "height": 508
        }
      },
      "source": [
        "plt.hist(x,bins=40)"
      ],
      "execution_count": 4,
      "outputs": [
        {
          "output_type": "execute_result",
          "data": {
            "text/plain": [
              "(array([  6.,   5.,   6.,   6.,  22.,  29.,  40.,  54.,  63.,  78.,  99.,\n",
              "        104., 114.,  93.,  91.,  73.,  53.,  52.,  53.,  47.,  75.,  74.,\n",
              "         90.,  99., 104., 105.,  95.,  82.,  66.,  40.,  27.,  22.,  14.,\n",
              "          9.,   3.,   3.,   1.,   2.,   0.,   1.]),\n",
              " array([ 0.9589891 ,  1.73326432,  2.50753954,  3.28181477,  4.05608999,\n",
              "         4.83036522,  5.60464044,  6.37891567,  7.15319089,  7.92746612,\n",
              "         8.70174134,  9.47601657, 10.25029179, 11.02456702, 11.79884224,\n",
              "        12.57311747, 13.34739269, 14.12166792, 14.89594314, 15.67021836,\n",
              "        16.44449359, 17.21876881, 17.99304404, 18.76731926, 19.54159449,\n",
              "        20.31586971, 21.09014494, 21.86442016, 22.63869539, 23.41297061,\n",
              "        24.18724584, 24.96152106, 25.73579629, 26.51007151, 27.28434674,\n",
              "        28.05862196, 28.83289718, 29.60717241, 30.38144763, 31.15572286,\n",
              "        31.92999808]),\n",
              " <a list of 40 Patch objects>)"
            ]
          },
          "metadata": {},
          "execution_count": 4
        },
        {
          "output_type": "display_data",
          "data": {
            "text/plain": [
              "<Figure size 432x288 with 1 Axes>"
            ],
            "image/png": "[encoded data removed]"
          },
          "metadata": {
            "needs_background": "light"
          }
        }
      ]
    },
    {
      "cell_type": "markdown",
      "metadata": {
        "id": "bpsqV4eylgKJ"
      },
      "source": [
        "\n",
        "\n",
        "Aunque se perciba todo del mismo tipo, tenemos presentes las clases verdaderas"
      ]
    },
    {
      "cell_type": "code",
      "metadata": {
        "id": "VaYYJKY9lgKM",
        "outputId": "451de87d-69cc-4ebc-e420-7f8822306ed4",
        "colab": {
          "base_uri": "https://localhost:8080/",
          "height": 265
        }
      },
      "source": [
        "plt.hist(px,bins=20,color=\"r\", alpha = .5)\n",
        "plt.hist(nx,bins=20,color=\"blue\", alpha = .5)\n",
        "plt.show()"
      ],
      "execution_count": 5,
      "outputs": [
        {
          "output_type": "display_data",
          "data": {
            "text/plain": [
              "<Figure size 432x288 with 1 Axes>"
            ],
            "image/png": "[encoded data removed]"
          },
          "metadata": {
            "needs_background": "light"
          }
        }
      ]
    },
    {
      "cell_type": "markdown",
      "metadata": {
        "id": "fTCxUSJKlgKX"
      },
      "source": [
        "\n",
        "\n",
        "# 1 modelo simple"
      ]
    },
    {
      "cell_type": "markdown",
      "metadata": {
        "id": "Dsk3pB4PlgKc"
      },
      "source": [
        "\n",
        "\n",
        "Creemos un clasificador muy simple, que divide las clases entre n y p, por la mitad de sus medias. Es decir que indique true para cada valor que es menor que la mitad."
      ]
    },
    {
      "cell_type": "code",
      "metadata": {
        "id": "V_attVNClgKm",
        "outputId": "d85c82bf-bc33-492d-f1cb-fa2e4ad4d9b6",
        "colab": {
          "base_uri": "https://localhost:8080/"
        }
      },
      "source": [
        "def model(x,threshold):\n",
        "    model_map = {True:\"p\",False:\"n\"}\n",
        "    result = x<threshold\n",
        "    result = np.vectorize(model_map.get)(result)\n",
        "    return result\n",
        "\n",
        "first_model_threshold = 15\n",
        "testx = np.arange(1,30)\n",
        "model(testx,threshold=first_model_threshold)"
      ],
      "execution_count": 6,
      "outputs": [
        {
          "output_type": "execute_result",
          "data": {
            "text/plain": [
              "array(['p', 'p', 'p', 'p', 'p', 'p', 'p', 'p', 'p', 'p', 'p', 'p', 'p',\n",
              "       'p', 'n', 'n', 'n', 'n', 'n', 'n', 'n', 'n', 'n', 'n', 'n', 'n',\n",
              "       'n', 'n', 'n'], dtype='<U1')"
            ]
          },
          "metadata": {},
          "execution_count": 6
        }
      ]
    },
    {
      "cell_type": "markdown",
      "metadata": {
        "id": "4dSjKLIilgLI"
      },
      "source": [
        "\n",
        "\n",
        "Predecimos con nuestro modelo para comprobar su precisión, sobre las clases asignadas"
      ]
    },
    {
      "cell_type": "code",
      "metadata": {
        "id": "YLX0GGD2lgLM"
      },
      "source": [
        "class_predicted = model(x,15)"
      ],
      "execution_count": 7,
      "outputs": []
    },
    {
      "cell_type": "markdown",
      "metadata": {
        "id": "7cO_Ex6XlgLc"
      },
      "source": [
        "\n",
        "\n",
        "# Definir metricas"
      ]
    },
    {
      "cell_type": "markdown",
      "metadata": {
        "id": "AzHQIRDilgLk"
      },
      "source": [
        "\n",
        "\n",
        "Si contamos en términos generales cuántas se han acertado, es decir, bien clasificadas, se han acertado casi todas. esta es la métrica precision (accuracy)."
      ]
    },
    {
      "cell_type": "code",
      "metadata": {
        "id": "BPAX_GRslgLq",
        "outputId": "a11442bb-b93a-49ab-e8e5-2062f755d6a7",
        "colab": {
          "base_uri": "https://localhost:8080/"
        }
      },
      "source": [
        "sum(classes == class_predicted)/len(classes)"
      ],
      "execution_count": 8,
      "outputs": [
        {
          "output_type": "execute_result",
          "data": {
            "text/plain": [
              "0.96"
            ]
          },
          "metadata": {},
          "execution_count": 8
        }
      ]
    },
    {
      "cell_type": "code",
      "metadata": {
        "id": "tZt9-e_wlgL-"
      },
      "source": [
        "def accuracy(classes,predicted,positive_class,debug=True):\n",
        "    if not debug:\n",
        "        print(\"Simple implementation\")\n",
        "    return sum(classes == predicted)/len(classes)"
      ],
      "execution_count": 9,
      "outputs": []
    },
    {
      "cell_type": "code",
      "metadata": {
        "id": "TlggnaKQlgMM",
        "outputId": "22b5e8a0-6ad4-484d-f096-a98ef881f102",
        "colab": {
          "base_uri": "https://localhost:8080/"
        }
      },
      "source": [
        "accuracy(classes=classes,predicted=class_predicted,positive_class=\"p\")"
      ],
      "execution_count": 10,
      "outputs": [
        {
          "output_type": "execute_result",
          "data": {
            "text/plain": [
              "0.96"
            ]
          },
          "metadata": {},
          "execution_count": 10
        }
      ]
    },
    {
      "cell_type": "code",
      "metadata": {
        "id": "YA1p-MwxlgMc",
        "outputId": "735ef020-7b82-47ed-fd35-1aeb861a9ba3",
        "colab": {
          "base_uri": "https://localhost:8080/",
          "height": 265
        }
      },
      "source": [
        "plt.hist(px,bins=20,color=\"r\", alpha = .5)\n",
        "plt.hist(nx,bins=20,color=\"blue\", alpha = .5)\n",
        "plt.vlines(first_model_threshold,0,130)\n",
        "plt.show()"
      ],
      "execution_count": 11,
      "outputs": [
        {
          "output_type": "display_data",
          "data": {
            "text/plain": [
              "<Figure size 432x288 with 1 Axes>"
            ],
            "image/png": "[encoded data removed]"
          },
          "metadata": {
            "needs_background": "light"
          }
        }
      ]
    },
    {
      "cell_type": "markdown",
      "metadata": {
        "id": "1Aab9HR7lgMw"
      },
      "source": [
        "\n",
        "\n",
        "¿Cómo de bueno ha sido distinguiendo las muestras p, de las n ? Para esto necesitamos reflejar sensibilidad (recall) y especificidad (precission)  \n",
        "\n",
        "Para la Sensibilidad necesitamos dividir todas las clasificadas como p, entre las que existen."
      ]
    },
    {
      "cell_type": "code",
      "metadata": {
        "id": "e9rMp1BUlgM0",
        "outputId": "89718003-6d2f-4668-9450-58b6e4d5a014",
        "colab": {
          "base_uri": "https://localhost:8080/"
        }
      },
      "source": [
        "sum((class_predicted == \"p\") & (classes==\"p\")) / sum(classes==\"p\")"
      ],
      "execution_count": 12,
      "outputs": [
        {
          "output_type": "execute_result",
          "data": {
            "text/plain": [
              "0.958"
            ]
          },
          "metadata": {},
          "execution_count": 12
        }
      ]
    },
    {
      "cell_type": "code",
      "metadata": {
        "id": "oVasOoLRlgM_"
      },
      "source": [
        "def recall(classes, predicted, positive_class):\n",
        "    return sum((predicted == positive_class) & (classes==positive_class)) / sum(classes==positive_class)"
      ],
      "execution_count": 13,
      "outputs": []
    },
    {
      "cell_type": "code",
      "metadata": {
        "id": "RtwTujydlgNG",
        "outputId": "25bf581a-bf7b-436a-c209-d1deacfcef43",
        "colab": {
          "base_uri": "https://localhost:8080/"
        }
      },
      "source": [
        "recall(classes=classes,predicted=class_predicted,positive_class=\"p\")"
      ],
      "execution_count": 14,
      "outputs": [
        {
          "output_type": "execute_result",
          "data": {
            "text/plain": [
              "0.958"
            ]
          },
          "metadata": {},
          "execution_count": 14
        }
      ]
    },
    {
      "cell_type": "markdown",
      "metadata": {
        "id": "gUwm52IhlgNX"
      },
      "source": [
        "\n",
        "\n",
        "Y para la espeficididad, de las que se han señalado como p, cuales lo son realmente"
      ]
    },
    {
      "cell_type": "code",
      "metadata": {
        "id": "uecyFMOilgNa",
        "outputId": "8d213896-1251-4d17-df36-b73f02f057b8",
        "colab": {
          "base_uri": "https://localhost:8080/"
        }
      },
      "source": [
        "sum((class_predicted == \"p\") & (classes==\"p\")) /  sum(class_predicted==\"p\")"
      ],
      "execution_count": 15,
      "outputs": [
        {
          "output_type": "execute_result",
          "data": {
            "text/plain": [
              "0.9618473895582329"
            ]
          },
          "metadata": {},
          "execution_count": 15
        }
      ]
    },
    {
      "cell_type": "code",
      "metadata": {
        "id": "HSLPoPcwlgNj"
      },
      "source": [
        "def specificity(classes, predicted, positive_class):\n",
        "    return sum((predicted == positive_class) & (classes==positive_class)) / sum(predicted==positive_class)"
      ],
      "execution_count": 16,
      "outputs": []
    },
    {
      "cell_type": "code",
      "metadata": {
        "id": "OcZ5NlAIlgN6",
        "outputId": "b756df16-ba78-4076-82f7-c65f8f1a0d46",
        "colab": {
          "base_uri": "https://localhost:8080/"
        }
      },
      "source": [
        "specificity(classes, class_predicted, \"p\")"
      ],
      "execution_count": 17,
      "outputs": [
        {
          "output_type": "execute_result",
          "data": {
            "text/plain": [
              "0.9618473895582329"
            ]
          },
          "metadata": {},
          "execution_count": 17
        }
      ]
    },
    {
      "cell_type": "markdown",
      "metadata": {
        "id": "3bfWA46AlgOJ"
      },
      "source": [
        "\n",
        "\n",
        "# 3 modelos simples"
      ]
    },
    {
      "cell_type": "code",
      "metadata": {
        "id": "Dc-bHmoqlgOL"
      },
      "source": [
        "def model_1(x):\n",
        "    return model(x,threshold=12.5)\n",
        "def model_2(x):\n",
        "    return model(x,threshold=15)\n",
        "def model_3(x):\n",
        "    return model(x,threshold=17.5)"
      ],
      "execution_count": 18,
      "outputs": []
    },
    {
      "cell_type": "code",
      "metadata": {
        "id": "GooaS8IylgOl"
      },
      "source": [
        "class_predicted_1 = model_1(x)\n",
        "class_predicted_2 = model_2(x)\n",
        "class_predicted_3 = model_3(x)"
      ],
      "execution_count": 19,
      "outputs": []
    },
    {
      "cell_type": "markdown",
      "metadata": {
        "id": "NQsqvr37lgOu"
      },
      "source": [
        "\n",
        "\n",
        "modelo 1"
      ]
    },
    {
      "cell_type": "code",
      "metadata": {
        "id": "6UaAB_jKlgOw",
        "outputId": "47d52b78-8367-4538-cbb7-e566f8d1714f",
        "colab": {
          "base_uri": "https://localhost:8080/"
        }
      },
      "source": [
        "print(\"Precision\",accuracy(classes=classes,predicted=class_predicted_1,positive_class=\"p\"))\n",
        "print(\"Sensitivity\",recall(classes=classes,predicted=class_predicted_1,positive_class=\"p\"))\n",
        "print(\"Specificity\",specificity(classes=classes,predicted=class_predicted_1,positive_class=\"p\"))"
      ],
      "execution_count": 20,
      "outputs": [
        {
          "output_type": "stream",
          "name": "stdout",
          "text": [
            "Precision 0.8985\n",
            "Sensitivity 0.801\n",
            "Specificity 0.9950310559006211\n"
          ]
        }
      ]
    },
    {
      "cell_type": "markdown",
      "metadata": {
        "id": "iu7y_xiWlgPF"
      },
      "source": [
        "\n",
        "\n",
        "modelo 2"
      ]
    },
    {
      "cell_type": "code",
      "metadata": {
        "id": "4cIaTs4ulgPG",
        "outputId": "76701852-dc01-4bc8-8826-f1437e91fcc7",
        "colab": {
          "base_uri": "https://localhost:8080/"
        }
      },
      "source": [
        "print(\"Precision\",accuracy(classes=classes,predicted=class_predicted_2,positive_class=\"p\"))\n",
        "print(\"Sensitivity\",recall(classes=classes,predicted=class_predicted_2,positive_class=\"p\"))\n",
        "print(\"Specificity\",specificity(classes=classes,predicted=class_predicted_2,positive_class=\"p\"))"
      ],
      "execution_count": 21,
      "outputs": [
        {
          "output_type": "stream",
          "name": "stdout",
          "text": [
            "Precision 0.96\n",
            "Sensitivity 0.958\n",
            "Specificity 0.9618473895582329\n"
          ]
        }
      ]
    },
    {
      "cell_type": "markdown",
      "metadata": {
        "id": "MGGVgu6algPW"
      },
      "source": [
        "\n",
        "\n",
        "modelo 3"
      ]
    },
    {
      "cell_type": "code",
      "metadata": {
        "id": "Y-D0pdIllgPa",
        "outputId": "0993d979-0fea-4dd7-9c81-fdf3ad655f9b",
        "colab": {
          "base_uri": "https://localhost:8080/"
        }
      },
      "source": [
        "print(\"Precision\",accuracy(classes=classes,predicted=class_predicted_3,positive_class=\"p\"))\n",
        "print(\"Sensitivity\",recall(classes=classes,predicted=class_predicted_3,positive_class=\"p\"))\n",
        "print(\"Specificity\",specificity(classes=classes,predicted=class_predicted_3,positive_class=\"p\"))"
      ],
      "execution_count": 22,
      "outputs": [
        {
          "output_type": "stream",
          "name": "stdout",
          "text": [
            "Precision 0.901\n",
            "Sensitivity 0.995\n",
            "Specificity 0.8375420875420876\n"
          ]
        }
      ]
    },
    {
      "cell_type": "code",
      "metadata": {
        "id": "EEl49BQFlgPm",
        "outputId": "38c70617-527a-44e8-8057-5e081921beac",
        "colab": {
          "base_uri": "https://localhost:8080/",
          "height": 281
        }
      },
      "source": [
        "plt.hist(px,bins=20,color=\"r\", alpha = .5)\n",
        "plt.hist(nx,bins=20,color=\"blue\", alpha = .5)\n",
        "plt.title(\"3 simple models\")\n",
        "plt.vlines(12.5,0,130)\n",
        "plt.vlines(15,0,130)\n",
        "plt.vlines(17.5,0,130)\n",
        "\n",
        "plt.show()"
      ],
      "execution_count": 23,
      "outputs": [
        {
          "output_type": "display_data",
          "data": {
            "text/plain": [
              "<Figure size 432x288 with 1 Axes>"
            ],
            "image/png": "[encoded data removed]"
          },
          "metadata": {
            "needs_background": "light"
          }
        }
      ]
    },
    {
      "cell_type": "markdown",
      "metadata": {
        "id": "UO0aj-jwlgPs"
      },
      "source": [
        "\n",
        "\n",
        "# muchos modelos simples"
      ]
    },
    {
      "cell_type": "markdown",
      "metadata": {
        "id": "0DXnY_xVlgPt"
      },
      "source": [
        "\n",
        "\n",
        "Creamos ahora \"modelos\" con unmbrales del 5 al 25 de 2 en dos, e introducimos las métricas en listas para comprobar como de bien evolucionan las 3 métricas"
      ]
    },
    {
      "cell_type": "code",
      "metadata": {
        "id": "eFz62jRnlgP3",
        "outputId": "82a291c5-0f91-43b6-e327-4611e9baaca1",
        "colab": {
          "base_uri": "https://localhost:8080/"
        }
      },
      "source": [
        "thresholds = np.arange(5,27,2)\n",
        "thresholds"
      ],
      "execution_count": 24,
      "outputs": [
        {
          "output_type": "execute_result",
          "data": {
            "text/plain": [
              "array([ 5,  7,  9, 11, 13, 15, 17, 19, 21, 23, 25])"
            ]
          },
          "metadata": {},
          "execution_count": 24
        }
      ]
    },
    {
      "cell_type": "code",
      "metadata": {
        "id": "_FV-uwBDlgQA",
        "outputId": "ae75247c-45a9-4243-f2f2-f69fa8b958b5",
        "colab": {
          "base_uri": "https://localhost:8080/"
        }
      },
      "source": [
        "predictions = [model(x,threshold=t) for t in thresholds]\n",
        "predictions"
      ],
      "execution_count": 25,
      "outputs": [
        {
          "output_type": "execute_result",
          "data": {
            "text/plain": [
              "[array(['n', 'n', 'n', ..., 'n', 'n', 'n'], dtype='<U1'),\n",
              " array(['n', 'n', 'n', ..., 'n', 'n', 'n'], dtype='<U1'),\n",
              " array(['n', 'n', 'n', ..., 'n', 'n', 'n'], dtype='<U1'),\n",
              " array(['p', 'p', 'p', ..., 'n', 'n', 'n'], dtype='<U1'),\n",
              " array(['p', 'p', 'p', ..., 'n', 'n', 'n'], dtype='<U1'),\n",
              " array(['p', 'p', 'p', ..., 'n', 'n', 'n'], dtype='<U1'),\n",
              " array(['p', 'p', 'p', ..., 'n', 'p', 'n'], dtype='<U1'),\n",
              " array(['p', 'p', 'p', ..., 'n', 'p', 'n'], dtype='<U1'),\n",
              " array(['p', 'p', 'p', ..., 'n', 'p', 'p'], dtype='<U1'),\n",
              " array(['p', 'p', 'p', ..., 'n', 'p', 'p'], dtype='<U1'),\n",
              " array(['p', 'p', 'p', ..., 'p', 'p', 'p'], dtype='<U1')]"
            ]
          },
          "metadata": {},
          "execution_count": 25
        }
      ]
    },
    {
      "cell_type": "code",
      "metadata": {
        "id": "_y7OUeOjlgQF"
      },
      "source": [
        "accuracies = [accuracy(classes=classes, predicted= ps, positive_class=\"p\")\n",
        "             for ps in predictions]\n",
        "recalls = [recall(classes=classes, predicted= ps, positive_class=\"p\")\n",
        "             for ps in predictions]\n",
        "specificities = [specificity(classes=classes, predicted= ps, positive_class=\"p\")\n",
        "             for ps in predictions]\n",
        "    "
      ],
      "execution_count": 26,
      "outputs": []
    },
    {
      "cell_type": "code",
      "metadata": {
        "id": "wNJySa2NlgQK",
        "outputId": "da4b70ef-bc10-4650-974b-a0739b804dee",
        "colab": {
          "base_uri": "https://localhost:8080/"
        }
      },
      "source": [
        "recalls"
      ],
      "execution_count": 27,
      "outputs": [
        {
          "output_type": "execute_result",
          "data": {
            "text/plain": [
              "[0.053, 0.154, 0.353, 0.624, 0.846, 0.958, 0.992, 0.998, 1.0, 1.0, 1.0]"
            ]
          },
          "metadata": {},
          "execution_count": 27
        }
      ]
    },
    {
      "cell_type": "code",
      "metadata": {
        "id": "9eDa725dlgQT",
        "outputId": "775c0223-09e8-42f9-c01e-3c13bfbc2dff",
        "colab": {
          "base_uri": "https://localhost:8080/"
        }
      },
      "source": [
        "specificities"
      ],
      "execution_count": 28,
      "outputs": [
        {
          "output_type": "execute_result",
          "data": {
            "text/plain": [
              "[1.0,\n",
              " 1.0,\n",
              " 1.0,\n",
              " 0.9968051118210862,\n",
              " 0.9917936694021102,\n",
              " 0.9618473895582329,\n",
              " 0.8648648648648649,\n",
              " 0.7316715542521994,\n",
              " 0.6153846153846154,\n",
              " 0.5455537370430987,\n",
              " 0.5133470225872689]"
            ]
          },
          "metadata": {},
          "execution_count": 28
        }
      ]
    },
    {
      "cell_type": "code",
      "metadata": {
        "id": "GlC_YeGVlgQa",
        "outputId": "a68c2435-7aa8-4aa8-fa77-ee4d9521b4a4",
        "colab": {
          "base_uri": "https://localhost:8080/",
          "height": 281
        }
      },
      "source": [
        "plt.figure(figsize=[10,4])\n",
        "plt.xlim([0,30])\n",
        "plt.plot(thresholds,accuracies,\"k\")\n",
        "plt.plot(thresholds,recalls,\"red\")\n",
        "plt.plot(thresholds,specificities,\"blue\")\n",
        "plt.legend([\"Precision\",\"Sensitivity\",\"Specificity\"])\n",
        "plt.title(\"Precision - Sensitivity - Specificity vs Model\")\n",
        "\n",
        "\n",
        "plt.show()"
      ],
      "execution_count": 29,
      "outputs": [
        {
          "output_type": "display_data",
          "data": {
            "text/plain": [
              "<Figure size 720x288 with 1 Axes>"
            ],
            "image/png": "[encoded data removed]"
          },
          "metadata": {
            "needs_background": "light"
          }
        }
      ]
    },
    {
      "cell_type": "code",
      "metadata": {
        "id": "o3xPqjYRlgQe",
        "outputId": "aeb31227-3f0b-4254-a074-0351217b7f82",
        "colab": {
          "base_uri": "https://localhost:8080/",
          "height": 281
        }
      },
      "source": [
        "plt.figure(figsize=[10,4])\n",
        "plt.xlim([0,30])\n",
        "\n",
        "plt.hist(px,bins=20,color=\"r\", alpha = .5)\n",
        "plt.hist(nx,bins=20,color=\"blue\", alpha = .5)\n",
        "for t in thresholds:\n",
        "    plt.vlines(t, 0, 130)\n",
        "plt.title(\"11 simple models\")\n",
        "plt.show()"
      ],
      "execution_count": 30,
      "outputs": [
        {
          "output_type": "display_data",
          "data": {
            "text/plain": [
              "<Figure size 720x288 with 1 Axes>"
            ],
            "image/png": "[encoded data removed]"
          },
          "metadata": {
            "needs_background": "light"
          }
        }
      ]
    },
    {
      "cell_type": "markdown",
      "metadata": {
        "id": "KAVL_CwBlgQs"
      },
      "source": [
        "\n",
        "\n",
        "# ROC"
      ]
    },
    {
      "cell_type": "markdown",
      "metadata": {
        "id": "9VnGJ4NolgQu"
      },
      "source": [
        "\n",
        "\n",
        "para N modelos distintos, cada uno posiblemente con un nivel de umbral de aceptación de la clase positiva, se representan sus valores de True Positive Rate y False Positive Rate.\n",
        "\n",
        "TPR = De los casos seleccionados, tasa de los que eran realmente positivos  \n",
        "FPR = De los casos seleccionados, tasa de los que se han dado por positivos pero no lo eran\n"
      ]
    },
    {
      "cell_type": "code",
      "metadata": {
        "id": "9I6kgByClgQw"
      },
      "source": [
        "TPR = recalls\n",
        "\n",
        "FPR = 1 - np.array(specificities)"
      ],
      "execution_count": 31,
      "outputs": []
    },
    {
      "cell_type": "code",
      "metadata": {
        "id": "OiCndXP3lgQ2",
        "outputId": "8622f8e9-2269-421f-8397-8c377c79604a",
        "colab": {
          "base_uri": "https://localhost:8080/",
          "height": 265
        }
      },
      "source": [
        "plt.plot(FPR,TPR)\n",
        "plt.show()"
      ],
      "execution_count": 32,
      "outputs": [
        {
          "output_type": "display_data",
          "data": {
            "text/plain": [
              "<Figure size 432x288 with 1 Axes>"
            ],
            "image/png": "[encoded data removed]"
          },
          "metadata": {
            "needs_background": "light"
          }
        }
      ]
    },
    {
      "cell_type": "markdown",
      "metadata": {
        "id": "D23I8jwhlgQ7"
      },
      "source": [
        "\n",
        "\n",
        "# Otras distribuciones"
      ]
    },
    {
      "cell_type": "markdown",
      "metadata": {
        "id": "xGXs2vNglgQ-"
      },
      "source": [
        "\n",
        "\n",
        "## Clases desequilibradas"
      ]
    },
    {
      "cell_type": "code",
      "metadata": {
        "id": "w6jrgHl7lgQ-"
      },
      "source": [
        "total_p = 100\n",
        "total_n = 1000\n",
        "px = [np.random.normal(10,3) for _ in range(total_p)]\n",
        "nx = [np.random.normal(20,3) for _ in range(total_n)]\n",
        "x = np.concatenate([px,nx])\n",
        "classes = np.concatenate([[\"p\"]*total_p,[\"n\"]*total_n])"
      ],
      "execution_count": 33,
      "outputs": []
    },
    {
      "cell_type": "code",
      "metadata": {
        "id": "w664-wSVlgRG",
        "outputId": "e02d922f-c002-4355-92f3-4ef616f9c441",
        "colab": {
          "base_uri": "https://localhost:8080/",
          "height": 281
        }
      },
      "source": [
        "plt.figure(figsize=[10,4])\n",
        "plt.xlim([0,30])\n",
        "plt.title(\"Unbalanced classes\")\n",
        "plt.hist(px,bins=20,color=\"r\", alpha = .5)\n",
        "plt.hist(nx,bins=20,color=\"blue\", alpha = .5)\n",
        "for t in thresholds:\n",
        "    plt.vlines(t, 0, 130)\n",
        "\n",
        "plt.show()"
      ],
      "execution_count": 34,
      "outputs": [
        {
          "output_type": "display_data",
          "data": {
            "text/plain": [
              "<Figure size 720x288 with 1 Axes>"
            ],
            "image/png": "[encoded data removed]"
          },
          "metadata": {
            "needs_background": "light"
          }
        }
      ]
    },
    {
      "cell_type": "code",
      "metadata": {
        "id": "MHI2N-k0lgRM"
      },
      "source": [
        "predictions = [model(x,threshold=t) for t in thresholds]\n",
        "accuracies = [accuracy(classes=classes, predicted= ps, positive_class=\"p\")\n",
        "             for ps in predictions]\n",
        "recalls = [recall(classes=classes, predicted= ps, positive_class=\"p\")\n",
        "             for ps in predictions]\n",
        "specificities = [specificity(classes=classes, predicted= ps, positive_class=\"p\")\n",
        "             for ps in predictions]\n",
        "    "
      ],
      "execution_count": 35,
      "outputs": []
    },
    {
      "cell_type": "code",
      "metadata": {
        "id": "I1zjPfL9lgRV",
        "outputId": "2baee645-6a0a-4072-fcde-3a7fe1852b51",
        "colab": {
          "base_uri": "https://localhost:8080/",
          "height": 281
        }
      },
      "source": [
        "plt.figure(figsize=[10,4])\n",
        "plt.xlim([0,30])\n",
        "plt.plot(thresholds,accuracies,\"k\")\n",
        "plt.plot(thresholds,recalls,\"red\")\n",
        "plt.plot(thresholds,specificities,\"blue\")\n",
        "plt.legend([\"Precision\",\"Sensitivity\",\"Specificity\"])\n",
        "plt.title(\"Precision - Sensitivity - Specificity vs Model\")\n",
        "plt.show()"
      ],
      "execution_count": 36,
      "outputs": [
        {
          "output_type": "display_data",
          "data": {
            "text/plain": [
              "<Figure size 720x288 with 1 Axes>"
            ],
            "image/png": "[encoded data removed]"
          },
          "metadata": {
            "needs_background": "light"
          }
        }
      ]
    },
    {
      "cell_type": "markdown",
      "metadata": {
        "id": "xWKoPX_1lgRa"
      },
      "source": [
        "\n",
        "\n",
        "## Distribuciones muy pegadas"
      ]
    },
    {
      "cell_type": "code",
      "metadata": {
        "id": "dFkeDwSTlgRh"
      },
      "source": [
        "total_p = 1000\n",
        "total_n = 1000\n",
        "px = [np.random.normal(13,3) for _ in range(total_p)]\n",
        "nx = [np.random.normal(17,3) for _ in range(total_n)]\n",
        "x = np.concatenate([px,nx])\n",
        "classes = np.concatenate([[\"p\"]*total_p,[\"n\"]*total_n])"
      ],
      "execution_count": 37,
      "outputs": []
    },
    {
      "cell_type": "code",
      "metadata": {
        "id": "PZsFsVFjlgRo",
        "outputId": "2d74b2b0-9234-4422-deb5-2ef5f501f542",
        "colab": {
          "base_uri": "https://localhost:8080/",
          "height": 265
        }
      },
      "source": [
        "plt.hist(x,bins=40)\n",
        "plt.show()"
      ],
      "execution_count": 38,
      "outputs": [
        {
          "output_type": "display_data",
          "data": {
            "text/plain": [
              "<Figure size 432x288 with 1 Axes>"
            ],
            "image/png": "[encoded data removed]"
          },
          "metadata": {
            "needs_background": "light"
          }
        }
      ]
    },
    {
      "cell_type": "code",
      "metadata": {
        "id": "JORy9jJDlgR0",
        "outputId": "77495b4e-59d3-4297-d508-4bbf8c29c410",
        "colab": {
          "base_uri": "https://localhost:8080/",
          "height": 265
        }
      },
      "source": [
        "plt.hist(px,bins=20,color=\"r\", alpha = .5)\n",
        "plt.hist(nx,bins=20,color=\"blue\", alpha = .5)\n",
        "for t in thresholds:\n",
        "    plt.vlines(t, 0, 130)\n",
        "\n",
        "plt.show()"
      ],
      "execution_count": 39,
      "outputs": [
        {
          "output_type": "display_data",
          "data": {
            "text/plain": [
              "<Figure size 432x288 with 1 Axes>"
            ],
            "image/png": "[encoded data removed]"
          },
          "metadata": {
            "needs_background": "light"
          }
        }
      ]
    },
    {
      "cell_type": "code",
      "metadata": {
        "id": "wDLUmpeOlgR4"
      },
      "source": [
        "predictions = [model(x,threshold=t) for t in thresholds]\n",
        "accuracies = [accuracy(classes=classes, predicted= ps, positive_class=\"p\")\n",
        "             for ps in predictions]\n",
        "recalls = [recall(classes=classes, predicted= ps, positive_class=\"p\")\n",
        "             for ps in predictions]\n",
        "specificities = [specificity(classes=classes, predicted= ps, positive_class=\"p\")\n",
        "             for ps in predictions]\n",
        "    "
      ],
      "execution_count": 40,
      "outputs": []
    },
    {
      "cell_type": "code",
      "metadata": {
        "id": "SqH9ihGFlgR_",
        "outputId": "c7ffed4a-8215-4e82-e832-df7b6d6401eb",
        "colab": {
          "base_uri": "https://localhost:8080/",
          "height": 265
        }
      },
      "source": [
        "plt.plot(thresholds,accuracies,\"k\")\n",
        "plt.plot(thresholds,recalls,\"red\")\n",
        "plt.plot(thresholds,specificities,\"blue\")\n",
        "plt.show()"
      ],
      "execution_count": 41,
      "outputs": [
        {
          "output_type": "display_data",
          "data": {
            "text/plain": [
              "<Figure size 432x288 with 1 Axes>"
            ],
            "image/png": "[encoded data removed]"
          },
          "metadata": {
            "needs_background": "light"
          }
        }
      ]
    },
    {
      "cell_type": "markdown",
      "metadata": {
        "id": "tYC4QnMQlgSH"
      },
      "source": [
        "\n",
        "\n",
        "# Un modelo \"real\""
      ]
    },
    {
      "cell_type": "markdown",
      "metadata": {
        "id": "KD_4c77clgSJ"
      },
      "source": [
        "\n",
        "\n",
        "Ahora probamos con un modelo entrenado como una regresión lineal"
      ]
    },
    {
      "cell_type": "code",
      "metadata": {
        "id": "bFsLTc4hlgSK"
      },
      "source": [
        "from sklearn.linear_model import LogisticRegression"
      ],
      "execution_count": 42,
      "outputs": []
    },
    {
      "cell_type": "code",
      "metadata": {
        "id": "EojPJDqXlgSO"
      },
      "source": [
        "total_p = 1000\n",
        "total_n = 1000\n",
        "px = [np.random.normal(10,3) for _ in range(total_p)] \n",
        "nx = [np.random.normal(20,3) for _ in range(total_n)]\n",
        "x = np.concatenate([px,nx])\n",
        "classes = np.concatenate([[\"p\"]*total_p,[\"n\"]*total_n])"
      ],
      "execution_count": 43,
      "outputs": []
    },
    {
      "cell_type": "code",
      "metadata": {
        "id": "jZ45jTrUlgSS"
      },
      "source": [
        "lr = LogisticRegression()\n",
        "lr = lr.fit(x.reshape(-1,1),classes)"
      ],
      "execution_count": 44,
      "outputs": []
    },
    {
      "cell_type": "markdown",
      "metadata": {
        "id": "MkKe-V4rlgSX"
      },
      "source": [
        "\n",
        "\n",
        "Ahora predecimos con él"
      ]
    },
    {
      "cell_type": "code",
      "metadata": {
        "id": "oEVTroBvlgSZ"
      },
      "source": [
        "predicted_classes = lr.predict(x.reshape(-1,1))"
      ],
      "execution_count": 45,
      "outputs": []
    },
    {
      "cell_type": "code",
      "metadata": {
        "id": "GWbUmHHplgSe",
        "outputId": "f88ac4ab-3cb9-4988-c5d0-193226ac0dd0",
        "colab": {
          "base_uri": "https://localhost:8080/"
        }
      },
      "source": [
        "accuracy(classes=classes,predicted=predicted_classes,positive_class=\"p\")"
      ],
      "execution_count": 46,
      "outputs": [
        {
          "output_type": "execute_result",
          "data": {
            "text/plain": [
              "0.9515"
            ]
          },
          "metadata": {},
          "execution_count": 46
        }
      ]
    },
    {
      "cell_type": "code",
      "metadata": {
        "id": "nULa9kOvlgSi",
        "outputId": "063a50ad-db91-4389-f2c3-0aae105930a7",
        "colab": {
          "base_uri": "https://localhost:8080/"
        }
      },
      "source": [
        "recall(classes=classes,predicted=predicted_classes,positive_class=\"p\")"
      ],
      "execution_count": 47,
      "outputs": [
        {
          "output_type": "execute_result",
          "data": {
            "text/plain": [
              "0.952"
            ]
          },
          "metadata": {},
          "execution_count": 47
        }
      ]
    },
    {
      "cell_type": "code",
      "metadata": {
        "id": "OkxEClPPlgSo",
        "outputId": "83461716-51c2-47b1-f1e9-5704b22847b7",
        "colab": {
          "base_uri": "https://localhost:8080/"
        }
      },
      "source": [
        "specificity(classes=classes,predicted=predicted_classes,positive_class=\"p\")"
      ],
      "execution_count": 48,
      "outputs": [
        {
          "output_type": "execute_result",
          "data": {
            "text/plain": [
              "0.951048951048951"
            ]
          },
          "metadata": {},
          "execution_count": 48
        }
      ]
    },
    {
      "cell_type": "markdown",
      "metadata": {
        "id": "F-jxwHQflgSs"
      },
      "source": [
        "\n",
        "\n",
        "## Sensibilidad en los modelos"
      ]
    },
    {
      "cell_type": "markdown",
      "metadata": {
        "id": "FU0RKA04lgSu"
      },
      "source": [
        "\n",
        "\n",
        "Por defecto, la probabilidad > .5 se asigna a la primera clase. Pero podemos elegir el umbral que queramos, si interpretamos la salida como probabilidades y elegimos varios umbrales, para ver como respoden."
      ]
    },
    {
      "cell_type": "code",
      "metadata": {
        "id": "UHO7GZw-lgSv"
      },
      "source": [
        "predicted_classes_proba = lr.predict_proba(x.reshape(-1,1))\n",
        "\n",
        "n_proba, p_proba = zip(*predicted_classes_proba)"
      ],
      "execution_count": 49,
      "outputs": []
    },
    {
      "cell_type": "code",
      "metadata": {
        "id": "hm0_hoRPlgS6",
        "outputId": "bb13246e-8463-4d4d-bf25-29400c96aecb",
        "colab": {
          "base_uri": "https://localhost:8080/"
        }
      },
      "source": [
        "print(classes[0:10])\n",
        "print(x[0:10])\n",
        "print(p_proba[0:10])"
      ],
      "execution_count": 50,
      "outputs": [
        {
          "output_type": "stream",
          "name": "stdout",
          "text": [
            "['p' 'p' 'p' 'p' 'p' 'p' 'p' 'p' 'p' 'p']\n",
            "[ 9.76597271 13.93837072 13.5185189  10.61021097 10.39357973 10.65487287\n",
            "  9.9719083  11.10581334  7.53848987 10.9468205 ]\n",
            "(0.9964847825982531, 0.7723875805508439, 0.8411943463399302, 0.9914371654966587, 0.9931829342373232, 0.9910255210724288, 0.9956304450397093, 0.985600861524407, 0.9996678609982943, 0.9878080512605081)\n"
          ]
        }
      ]
    },
    {
      "cell_type": "code",
      "metadata": {
        "id": "YsNZn4PGlgS-",
        "outputId": "fd56457d-26dd-49c1-fb70-994b527316a4",
        "colab": {
          "base_uri": "https://localhost:8080/"
        }
      },
      "source": [
        "np.array(n_proba)+np.array(p_proba)"
      ],
      "execution_count": 51,
      "outputs": [
        {
          "output_type": "execute_result",
          "data": {
            "text/plain": [
              "array([1., 1., 1., ..., 1., 1., 1.])"
            ]
          },
          "metadata": {},
          "execution_count": 51
        }
      ]
    },
    {
      "cell_type": "markdown",
      "metadata": {
        "id": "wCGdk6SmlgTF"
      },
      "source": [
        "\n",
        "\n",
        "La probabilidad asignada para cada x serán las siguientes"
      ]
    },
    {
      "cell_type": "code",
      "metadata": {
        "id": "7aTfDbywlgTG",
        "outputId": "210ab656-992d-47df-9cc9-d08e9aed0ae7",
        "colab": {
          "base_uri": "https://localhost:8080/",
          "height": 265
        }
      },
      "source": [
        "plt.scatter(x, p_proba)\n",
        "plt.show()"
      ],
      "execution_count": 52,
      "outputs": [
        {
          "output_type": "display_data",
          "data": {
            "text/plain": [
              "<Figure size 432x288 with 1 Axes>"
            ],
            "image/png": "[encoded data removed]"
          },
          "metadata": {
            "needs_background": "light"
          }
        }
      ]
    },
    {
      "cell_type": "markdown",
      "metadata": {
        "id": "l6-wXKp-lgTa"
      },
      "source": [
        "\n",
        "\n",
        "Creemos modelos del .1 al .9 de umbral de probabilidad, y comprobemos sus evaluaciones"
      ]
    },
    {
      "cell_type": "code",
      "metadata": {
        "id": "NnGzqr9slgTc",
        "outputId": "d91ca41b-5533-4055-86d4-8a6d5fd7645b",
        "colab": {
          "base_uri": "https://localhost:8080/"
        }
      },
      "source": [
        "thresholds = np.arange(1,10)[::-1]/10\n",
        "thresholds"
      ],
      "execution_count": 53,
      "outputs": [
        {
          "output_type": "execute_result",
          "data": {
            "text/plain": [
              "array([0.9, 0.8, 0.7, 0.6, 0.5, 0.4, 0.3, 0.2, 0.1])"
            ]
          },
          "metadata": {},
          "execution_count": 53
        }
      ]
    },
    {
      "cell_type": "code",
      "metadata": {
        "id": "q1yFc_QmlgTj",
        "outputId": "0d09212c-13bf-4130-ef18-144d783b0712",
        "colab": {
          "base_uri": "https://localhost:8080/",
          "height": 265
        }
      },
      "source": [
        "plt.scatter(x, p_proba)\n",
        "plt.hlines(thresholds,0,30)\n",
        "plt.show()"
      ],
      "execution_count": 54,
      "outputs": [
        {
          "output_type": "display_data",
          "data": {
            "text/plain": [
              "<Figure size 432x288 with 1 Axes>"
            ],
            "image/png": "[encoded data removed]"
          },
          "metadata": {
            "needs_background": "light"
          }
        }
      ]
    },
    {
      "cell_type": "markdown",
      "metadata": {
        "id": "m1DrG0v8lgTq"
      },
      "source": [
        "\n",
        "\n",
        "Para cada threshold, tenemos un modelo, de manera que podemos discernir que clasificación ha hecho, aplicando el filtro del umbral."
      ]
    },
    {
      "cell_type": "code",
      "metadata": {
        "id": "jwHXdwk0lgT2"
      },
      "source": [
        "predictions_model0 = p_proba>thresholds[0]\n",
        "predictions_model0 = list(map(lambda x: \"p\" if x else \"n\",predictions_model0))"
      ],
      "execution_count": 55,
      "outputs": []
    },
    {
      "cell_type": "markdown",
      "metadata": {
        "id": "7HcX8YxKlgT_"
      },
      "source": [
        "\n",
        "\n",
        "Para todos los modelos"
      ]
    },
    {
      "cell_type": "code",
      "metadata": {
        "id": "J6-0MTkDlgUC",
        "outputId": "c5df54cd-dbca-41db-d83a-55064fff57ba",
        "colab": {
          "base_uri": "https://localhost:8080/"
        }
      },
      "source": [
        "print(thresholds)\n",
        "predictions = [np.array(list(map(lambda x: \"p\" if x else \"n\", p_proba > t_ ))) for t_ in thresholds ]"
      ],
      "execution_count": 56,
      "outputs": [
        {
          "output_type": "stream",
          "name": "stdout",
          "text": [
            "[0.9 0.8 0.7 0.6 0.5 0.4 0.3 0.2 0.1]\n"
          ]
        }
      ]
    },
    {
      "cell_type": "code",
      "metadata": {
        "id": "r5uU-9UJlgUO"
      },
      "source": [
        "accuracies = [accuracy(classes=classes, predicted=pred_, positive_class=\"p\") \n",
        "                for pred_ in predictions]\n",
        "recalls = [recall(classes=classes, predicted=pred_, positive_class=\"p\") \n",
        "                for pred_ in predictions]\n",
        "specificities = [specificity(classes=classes, predicted=pred_, positive_class=\"p\") \n",
        "                for pred_ in predictions]"
      ],
      "execution_count": 57,
      "outputs": []
    },
    {
      "cell_type": "code",
      "metadata": {
        "id": "aDao9N1zlgUS",
        "outputId": "31980b32-4da6-49aa-9e66-05dd0bbef8da",
        "colab": {
          "base_uri": "https://localhost:8080/",
          "height": 281
        }
      },
      "source": [
        "plt.figure(figsize=[10,4])\n",
        "plt.xlim([0,1])\n",
        "#plt.ylim([0,1])\n",
        "plt.plot(thresholds,accuracies,\"k\")\n",
        "plt.plot(thresholds,recalls,\"red\")\n",
        "plt.plot(thresholds,specificities,\"blue\")\n",
        "plt.legend([\"Precision\",\"Sensitivity\",\"Specificity\"])\n",
        "plt.title(\"Precision - Sensitivity - Specificity vs Model\")\n",
        "plt.show()"
      ],
      "execution_count": 58,
      "outputs": [
        {
          "output_type": "display_data",
          "data": {
            "text/plain": [
              "<Figure size 720x288 with 1 Axes>"
            ],
            "image/png": "[encoded data removed]"
          },
          "metadata": {
            "needs_background": "light"
          }
        }
      ]
    },
    {
      "cell_type": "markdown",
      "metadata": {
        "id": "V1sNlPBblgUd"
      },
      "source": [
        "\n",
        "\n",
        "## Más sensibilidad"
      ]
    },
    {
      "cell_type": "code",
      "metadata": {
        "id": "z5ygWqYwlgUe"
      },
      "source": [
        "thresholds = np.arange(0,1000,10)[::-1]/1000\n",
        "predictions = [np.array(list(map(lambda x: \"p\" if x else \"n\", p_proba > t_ ))) for t_ in thresholds ]\n",
        "\n",
        "accuracies = [accuracy(classes=classes, predicted=pred_, positive_class=\"p\") \n",
        "                for pred_ in predictions]\n",
        "recalls = [recall(classes=classes, predicted=pred_, positive_class=\"p\") \n",
        "                for pred_ in predictions]\n",
        "specificities = [specificity(classes=classes, predicted=pred_, positive_class=\"p\") \n",
        "                for pred_ in predictions]"
      ],
      "execution_count": 59,
      "outputs": []
    },
    {
      "cell_type": "code",
      "metadata": {
        "id": "yTvsxviqlgUj",
        "outputId": "e40f1e3c-9e8e-48b2-d43a-30ba0778eb2a",
        "colab": {
          "base_uri": "https://localhost:8080/",
          "height": 295
        }
      },
      "source": [
        "plt.figure(figsize=[10,4])\n",
        "plt.xlim([-.1,1.1])\n",
        "plt.ylim([0,1.1])\n",
        "plt.plot(thresholds[::-1],accuracies,\"k\")\n",
        "plt.plot(thresholds,recalls,\"red\")\n",
        "plt.plot(thresholds,specificities,\"blue\")\n",
        "plt.legend([\"Precision\",\"Sensitivity\",\"Specificity\"])\n",
        "plt.title(\"Precision - Sensitivity - Specificity vs Model\")\n",
        "plt.xlabel(\"Probability threshold. \")\n",
        "plt.show()"
      ],
      "execution_count": 60,
      "outputs": [
        {
          "output_type": "display_data",
          "data": {
            "text/plain": [
              "<Figure size 720x288 with 1 Axes>"
            ],
            "image/png": "[encoded data removed]"
          },
          "metadata": {
            "needs_background": "light"
          }
        }
      ]
    },
    {
      "cell_type": "markdown",
      "metadata": {
        "id": "1x2BFaUGlgUp"
      },
      "source": [
        "\n",
        "\n",
        "## Distribuciones desequilibradas"
      ]
    },
    {
      "cell_type": "code",
      "metadata": {
        "id": "jgGvYvOulgUu"
      },
      "source": [
        "total_p = 100\n",
        "total_n = 1000\n",
        "px = [np.random.normal(10,3) for _ in range(total_p)]\n",
        "nx = [np.random.normal(20,3) for _ in range(total_n)]\n",
        "x = np.concatenate([px,nx])\n",
        "classes = np.concatenate([[\"p\"]*total_p,[\"n\"]*total_n])"
      ],
      "execution_count": 61,
      "outputs": []
    },
    {
      "cell_type": "code",
      "metadata": {
        "id": "fx88gKDtlgUy"
      },
      "source": [
        "lr = LogisticRegression()\n",
        "lr = lr.fit(x.reshape(-1,1),classes)\n",
        "\n",
        "predicted_classes_proba = lr.predict_proba(x.reshape(-1,1))\n",
        "\n",
        "n_proba, p_proba = zip(*predicted_classes_proba)"
      ],
      "execution_count": 62,
      "outputs": []
    },
    {
      "cell_type": "code",
      "metadata": {
        "id": "eoae0ASBlgU8"
      },
      "source": [
        "thresholds = np.arange(0,1000,10)[::-1]/1000\n",
        "predictions = [np.array(list(map(lambda x: \"p\" if x else \"n\", p_proba > t_ ))) for t_ in thresholds ]\n",
        "\n",
        "accuracies = [accuracy(classes=classes, predicted=pred_, positive_class=\"p\") \n",
        "                for pred_ in predictions]\n",
        "recalls = [recall(classes=classes, predicted=pred_, positive_class=\"p\") \n",
        "                for pred_ in predictions]\n",
        "specificities = [specificity(classes=classes, predicted=pred_, positive_class=\"p\") \n",
        "                for pred_ in predictions]"
      ],
      "execution_count": 63,
      "outputs": []
    },
    {
      "cell_type": "code",
      "metadata": {
        "id": "6dYMl-LOlgVA",
        "outputId": "e646b059-4cf7-451a-b2ed-7d7392b5d5c8",
        "colab": {
          "base_uri": "https://localhost:8080/",
          "height": 281
        }
      },
      "source": [
        "plt.figure(figsize=[10,4])\n",
        "plt.xlim([-.1,1.1])\n",
        "plt.ylim([0,1.1])\n",
        "plt.plot(thresholds,accuracies,\"k\")\n",
        "plt.plot(thresholds,recalls,\"red\")\n",
        "plt.plot(thresholds,specificities,\"blue\")\n",
        "plt.legend([\"Precision\",\"Sensitivity\",\"Specificity\"])\n",
        "plt.title(\"Precision - Sensitivity - Specificity vs Model\")\n",
        "plt.show()"
      ],
      "execution_count": 64,
      "outputs": [
        {
          "output_type": "display_data",
          "data": {
            "text/plain": [
              "<Figure size 720x288 with 1 Axes>"
            ],
            "image/png": "[encoded data removed]"
          },
          "metadata": {
            "needs_background": "light"
          }
        }
      ]
    },
    {
      "cell_type": "code",
      "metadata": {
        "id": "smyvspA4lgVE",
        "outputId": "ecae5b5c-c666-4b97-fa97-77cec28cc5be",
        "colab": {
          "base_uri": "https://localhost:8080/",
          "height": 265
        }
      },
      "source": [
        "plt.scatter(x, p_proba)\n",
        "plt.hlines(thresholds, 0, 30, alpha=0.1)\n",
        "plt.show()"
      ],
      "execution_count": 65,
      "outputs": [
        {
          "output_type": "display_data",
          "data": {
            "text/plain": [
              "<Figure size 432x288 with 1 Axes>"
            ],
            "image/png": "[encoded data removed]"
          },
          "metadata": {
            "needs_background": "light"
          }
        }
      ]
    },
    {
      "cell_type": "markdown",
      "metadata": {
        "id": "fO95qdJGlgVI"
      },
      "source": [
        "\n",
        "\n",
        "## Distribuciones muy pegadas"
      ]
    },
    {
      "cell_type": "code",
      "metadata": {
        "id": "kiBD5pt5lgVJ"
      },
      "source": [
        "total_p = 1000\n",
        "total_n = 1000\n",
        "px = [np.random.normal(13,3) for _ in range(total_p)]\n",
        "nx = [np.random.normal(17,3) for _ in range(total_n)]\n",
        "x = np.concatenate([px,nx])\n",
        "classes = np.concatenate([[\"p\"]*total_p,[\"n\"]*total_n])"
      ],
      "execution_count": 66,
      "outputs": []
    },
    {
      "cell_type": "code",
      "metadata": {
        "id": "95U1sejklgVU"
      },
      "source": [
        "lr = LogisticRegression()\n",
        "lr = lr.fit(x.reshape(-1,1),classes)\n",
        "\n",
        "predicted_classes_proba = lr.predict_proba(x.reshape(-1,1))\n",
        "\n",
        "n_proba, p_proba = zip(*predicted_classes_proba)"
      ],
      "execution_count": 67,
      "outputs": []
    },
    {
      "cell_type": "code",
      "metadata": {
        "id": "QTzW881RlgVn"
      },
      "source": [
        "thresholds = np.arange(0,1000,10)[::-1]/1000\n",
        "predictions = [np.array(list(map(lambda x: \"p\" if x else \"n\", p_proba > t_ ))) for t_ in thresholds ]\n",
        "\n",
        "accuracies = [accuracy(classes=classes, predicted=pred_, positive_class=\"p\") \n",
        "                for pred_ in predictions]\n",
        "recalls = [recall(classes=classes, predicted=pred_, positive_class=\"p\") \n",
        "                for pred_ in predictions]\n",
        "specificities = [specificity(classes=classes, predicted=pred_, positive_class=\"p\") \n",
        "                for pred_ in predictions]"
      ],
      "execution_count": 68,
      "outputs": []
    },
    {
      "cell_type": "code",
      "metadata": {
        "id": "1Rp8ebKPlgVs",
        "outputId": "2f6e2599-886f-4c3a-a2af-b986999e4193",
        "colab": {
          "base_uri": "https://localhost:8080/",
          "height": 281
        }
      },
      "source": [
        "plt.figure(figsize=[10,4])\n",
        "plt.xlim([-.1,1.1])\n",
        "plt.ylim([0,1.1])\n",
        "plt.plot(thresholds,accuracies,\"k\")\n",
        "plt.plot(thresholds,recalls,\"red\")\n",
        "plt.plot(thresholds,specificities,\"blue\")\n",
        "plt.legend([\"Precision\",\"Sensitivity\",\"Specificity\"])\n",
        "plt.title(\"Precision - Sensitivity - Specificity vs Model\")\n",
        "plt.show()"
      ],
      "execution_count": 69,
      "outputs": [
        {
          "output_type": "display_data",
          "data": {
            "text/plain": [
              "<Figure size 720x288 with 1 Axes>"
            ],
            "image/png": "[encoded data removed]"
          },
          "metadata": {
            "needs_background": "light"
          }
        }
      ]
    }
  ]
}