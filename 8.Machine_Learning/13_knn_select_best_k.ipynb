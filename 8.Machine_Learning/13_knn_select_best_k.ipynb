{
  "nbformat": 4,
  "nbformat_minor": 0,
  "metadata": {
    "colab": {
      "name": "13_knn_select_best_k.ipynb",
      "provenance": [],
      "include_colab_link": true
    },
    "kernelspec": {
      "name": "python3",
      "display_name": "Python 3"
    }
  },
  "cells": [
    {
      "cell_type": "markdown",
      "metadata": {
        "id": "view-in-github",
        "colab_type": "text"
      },
      "source": [
        "<a href=\"https://colab.research.google.com/github/al34n1x/DataScience/blob/master/8.Machine_Learning/13_knn_select_best_k.ipynb\" target=\"_parent\"><img src=\"https://colab.research.google.com/assets/colab-badge.svg\" alt=\"Open In Colab\"/></a>"
      ]
    },
    {
      "cell_type": "markdown",
      "metadata": {
        "id": "zVCYN5fn0o2C"
      },
      "source": [
        "\n",
        "\n",
        "\n",
        "# KNN elegir el mejor k\n",
        "\n",
        "\n",
        "El valor de K en KNN corresponde con el número de instancias a tener en cuenta a la hora de determinar la afinidad con las clases.\n",
        "\n",
        "Este método supone que los vecinos más cercanos (k) nos dan la mejor clasificación y esto se hace utilizando todos los atributos; el problema de dicha suposición es que es posible que se tengan muchos atributos irrelevantes que dominen sobre la clasificación: dos atributos relevantes perderían peso entre otros veinte irrelevantes.\n",
        "\n",
        "Para corregir el posible sesgo se puede asignar un peso a las distancias de cada atributo, dándole así mayor importancia a los atributos más relevantes.\n",
        "\n"
      ]
    },
    {
      "cell_type": "code",
      "metadata": {
        "id": "v6tCoRIn0o2D"
      },
      "source": [
        "from sklearn.neighbors import KNeighborsClassifier, KNeighborsRegressor\n",
        "from sklearn import datasets\n",
        "from sklearn.preprocessing import StandardScaler\n",
        "from sklearn.pipeline import Pipeline\n",
        "from sklearn.model_selection import GridSearchCV\n",
        "\n",
        "import numpy as np\n",
        "import matplotlib.pyplot as plt\n",
        "from matplotlib.colors import ListedColormap\n",
        "from sklearn.metrics import mean_squared_error\n",
        "\n",
        "%matplotlib inline"
      ],
      "execution_count": 1,
      "outputs": []
    },
    {
      "cell_type": "markdown",
      "metadata": {
        "id": "0wuPK4kg0o2G"
      },
      "source": [
        "\n",
        "\n",
        "Vamos a realizar intentar determinar el número óptimo de vecinos para el iris dataset, en el que tenemos 3 clases."
      ]
    },
    {
      "cell_type": "markdown",
      "metadata": {
        "id": "xMhGJD3e0o2G"
      },
      "source": [
        "\n",
        "\n",
        "Cargamos los datos"
      ]
    },
    {
      "cell_type": "code",
      "metadata": {
        "id": "nesejEWc0o2H"
      },
      "source": [
        "iris = datasets.load_iris()\n",
        "X = iris.data\n",
        "y = iris.target"
      ],
      "execution_count": 2,
      "outputs": []
    },
    {
      "cell_type": "markdown",
      "metadata": {
        "id": "MYgU38Xp0o2K"
      },
      "source": [
        "\n",
        "\n",
        "Vemos que tenemos 4 variables (iris.feature_names) con las que hacer la clasificación."
      ]
    },
    {
      "cell_type": "code",
      "metadata": {
        "id": "byNVrts60o2K",
        "colab": {
          "base_uri": "https://localhost:8080/"
        },
        "outputId": "7cb9757c-4556-4c6d-d4f0-0568683a1a9f"
      },
      "source": [
        "iris.feature_names"
      ],
      "execution_count": 3,
      "outputs": [
        {
          "output_type": "execute_result",
          "data": {
            "text/plain": [
              "['sepal length (cm)',\n",
              " 'sepal width (cm)',\n",
              " 'petal length (cm)',\n",
              " 'petal width (cm)']"
            ]
          },
          "metadata": {},
          "execution_count": 3
        }
      ]
    },
    {
      "cell_type": "markdown",
      "metadata": {
        "id": "ZWQMaXY00o2N"
      },
      "source": [
        "\n",
        "\n",
        "Sin embargo, para nuestro ejemplo nos vamos a quedar tan solo con las 2 primeras. De este modo podemos hacer una respresentación gráfica y comprobar las diferencias al seleccionar varios valores de k."
      ]
    },
    {
      "cell_type": "markdown",
      "metadata": {
        "id": "vnet_XOr0o2N"
      },
      "source": [
        "\n",
        "\n",
        "Nos quedamos con las 2 primeras features"
      ]
    },
    {
      "cell_type": "code",
      "metadata": {
        "id": "V1a0uxQ80o2O"
      },
      "source": [
        "X = X[:, :2]"
      ],
      "execution_count": 4,
      "outputs": []
    },
    {
      "cell_type": "markdown",
      "metadata": {
        "id": "mVQpp8R_0o2Q"
      },
      "source": [
        "\n",
        "\n",
        "Standarizamos los datos"
      ]
    },
    {
      "cell_type": "code",
      "metadata": {
        "id": "GKk69vpp0o2R"
      },
      "source": [
        "standardizer = StandardScaler()\n",
        "X_std = standardizer.fit_transform(X)"
      ],
      "execution_count": 5,
      "outputs": []
    },
    {
      "cell_type": "markdown",
      "metadata": {
        "id": "mVyNXwF40o2U"
      },
      "source": [
        "\n",
        "\n",
        "Establecemos un valor arbitrario de vecinos"
      ]
    },
    {
      "cell_type": "code",
      "metadata": {
        "id": "pzrpYs2e0o2V"
      },
      "source": [
        "k = 20"
      ],
      "execution_count": 6,
      "outputs": []
    },
    {
      "cell_type": "markdown",
      "metadata": {
        "id": "pFjERmF50o2Y"
      },
      "source": [
        "\n",
        "\n",
        "Ajustamos un KNN con los k vecinos indicados antes"
      ]
    },
    {
      "cell_type": "code",
      "metadata": {
        "id": "83pJ-qvf0o2Y"
      },
      "source": [
        "knn = KNeighborsClassifier(n_neighbors=k, metric='euclidean', n_jobs=-1).fit(X_std, y)"
      ],
      "execution_count": 7,
      "outputs": []
    },
    {
      "cell_type": "markdown",
      "metadata": {
        "id": "v6YzUOQG0o2a"
      },
      "source": [
        "\n",
        "\n",
        "Dibujamos el contorno. y asignamos colores a los puntos y las áreas clasificadoras."
      ]
    },
    {
      "cell_type": "code",
      "metadata": {
        "id": "CsA3uZta0o2b",
        "colab": {
          "base_uri": "https://localhost:8080/",
          "height": 281
        },
        "outputId": "c7e2eb16-9205-4e72-a21c-f5d5d07c0be1"
      },
      "source": [
        "# Defining the color map.\n",
        "cmap_light = ListedColormap(['#FFAAAA', '#AAFFAA', '#AAAAFF'])\n",
        "cmap_bold = ListedColormap(['#FF0000', '#00FF00', '#0000FF'])\n",
        "\n",
        "h = .02  # step size.\n",
        "\n",
        "x_min, x_max = X_std[:, 0].min() - 1, X_std[:, 0].max() + 1\n",
        "y_min, y_max = X_std[:, 1].min() - 1, X_std[:, 1].max() + 1\n",
        "xx, yy = np.meshgrid(np.arange(x_min, x_max, h),\n",
        "                     np.arange(y_min, y_max, h))\n",
        "\n",
        "\n",
        "# Get the predictions.\n",
        "\n",
        "Z = knn.predict(np.c_[xx.ravel(), yy.ravel()])\n",
        "\n",
        "\n",
        "# Return the data with its respective classification.\n",
        "\n",
        "Z = Z.reshape(xx.shape)\n",
        "plt.figure()\n",
        "plt.pcolormesh(xx, yy, Z, cmap=cmap_light)\n",
        "\n",
        "plt.scatter(X_std[:, 0], X_std[:, 1], c=y, cmap=cmap_bold,\n",
        "            edgecolor='k', s=20)\n",
        "plt.xlim(xx.min(), xx.max())\n",
        "plt.ylim(yy.min(), yy.max())\n",
        "plt.title(\"3-Class classification (k = %i)\" % (k))\n",
        "\n",
        "plt.show()"
      ],
      "execution_count": 8,
      "outputs": [
        {
          "output_type": "display_data",
          "data": {
            "text/plain": [
              "<Figure size 432x288 with 1 Axes>"
            ],
            "image/png": "[encoded data removed]"
          },
          "metadata": {
            "needs_background": "light"
          }
        }
      ]
    },
    {
      "cell_type": "markdown",
      "metadata": {
        "id": "MEf0byhA0o2d"
      },
      "source": [
        "\n",
        "\n",
        "Para evitar este proceso de probar varios k's hasta dar con el adecuado, y que en este caso podemos hacer de forma gráfica al tener sólo 2 dimensiones, usamos el método GridSearchCV que nos ofrece scikit-learn y permite hacer una búsqueda a través de varias opciones."
      ]
    },
    {
      "cell_type": "code",
      "metadata": {
        "id": "Fh08YlHm0o2d"
      },
      "source": [
        "knn = KNeighborsClassifier(metric='euclidean', n_jobs=-1)\n",
        "\n",
        "# We define the pipeline.\n",
        "pipe = Pipeline([('standardizer', standardizer), ('knn', knn)])\n",
        "\n",
        "# We define the search space for testing the different values of k.\n",
        "search_space = [{'knn__n_neighbors': [1, 2, 3, 4, 5, 6, 7, 8, 9, 10]}]"
      ],
      "execution_count": 9,
      "outputs": []
    },
    {
      "cell_type": "markdown",
      "metadata": {
        "id": "DeSrpBcj0o2g"
      },
      "source": [
        "\n",
        "\n",
        "Creamos la rejlla de optimización y ajustamos los modelos"
      ]
    },
    {
      "cell_type": "code",
      "metadata": {
        "id": "2CVhdrmN0o2i"
      },
      "source": [
        "clf = GridSearchCV(pipe, search_space, cv=5, verbose=0).fit(X_std, y)"
      ],
      "execution_count": 10,
      "outputs": []
    },
    {
      "cell_type": "markdown",
      "metadata": {
        "id": "kIwcansQ0o2k"
      },
      "source": [
        "\n",
        "\n",
        "Del mejor modelo clasificador obtenemos el mejor valor de k"
      ]
    },
    {
      "cell_type": "code",
      "metadata": {
        "id": "LaK0Y-hs0o2k",
        "colab": {
          "base_uri": "https://localhost:8080/"
        },
        "outputId": "f59e36e8-1ef2-4a3b-b411-c780ae04e1c8"
      },
      "source": [
        "clf.best_estimator_.get_params()['knn__n_neighbors']"
      ],
      "execution_count": 11,
      "outputs": [
        {
          "output_type": "execute_result",
          "data": {
            "text/plain": [
              "5"
            ]
          },
          "metadata": {},
          "execution_count": 11
        }
      ]
    },
    {
      "cell_type": "markdown",
      "metadata": {
        "id": "FrisWqHO0o2n"
      },
      "source": [
        "\n",
        "\n",
        "# Ejercicios"
      ]
    },
    {
      "cell_type": "markdown",
      "metadata": {
        "id": "nL2EPh970o2n"
      },
      "source": [
        "\n",
        "\n",
        "## Ejercicio 1 \n",
        "\n",
        "En algoritmo KNN se puede usar tanto para clasificación como para **regresión** y se encuentra implementado en scikit-learn, importándolo del siguiente modo:\n",
        "\n",
        "from sklearn.neighbors import KNeighborsRegressor\n",
        "\n",
        "Del mismo modo que cualquier modelo de regresión, tenemos la métrica mean_squared_error (mejor cuanto más pequeño sea el valor) con el que evaluar el modelo, y que se puede usar mediante este código:\n",
        "\n",
        "from sklearn.metrics import mean_squared_error\n",
        "\n",
        "mean_squared_error(y_real, y_pred)\n",
        "\n",
        "Dados los datos generados en la celda inferior X e y\n"
      ]
    },
    {
      "cell_type": "code",
      "metadata": {
        "id": "JVw50Iiq0o2n"
      },
      "source": [
        "import numpy as np\n",
        "np.random.seed(0)\n",
        "X = np.sort(5 * np.random.rand(40, 1), axis=0)\n",
        "y = np.sin(X).ravel()"
      ],
      "execution_count": 12,
      "outputs": []
    },
    {
      "cell_type": "markdown",
      "metadata": {
        "id": "-SNeiZhe0o2r"
      },
      "source": [
        "\n",
        "\n",
        "- a. Determine de forma manual cúal es el número optimo de k's\n",
        "- b. Encuentre el valor óptimo de k mediante un GridSearchCV\n"
      ]
    },
    {
      "cell_type": "markdown",
      "metadata": {
        "id": "DZTl-W0N0o2s"
      },
      "source": [
        "\n",
        "\n",
        "Determine de forma manual cúal es el número optimo de k's."
      ]
    },
    {
      "cell_type": "code",
      "metadata": {
        "id": "B-AlFCKe0o2t"
      },
      "source": [
        "# Respuesta aqui"
      ],
      "execution_count": 13,
      "outputs": []
    },
    {
      "cell_type": "markdown",
      "metadata": {
        "id": "0t_JrNZv0o2v"
      },
      "source": [
        "\n",
        "\n",
        "Encuentre el valor óptimo de k mediante un GridSearchCV"
      ]
    },
    {
      "cell_type": "code",
      "metadata": {
        "id": "wBI9DRH00o2x"
      },
      "source": [
        "# Respuesta aqui"
      ],
      "execution_count": 14,
      "outputs": []
    },
    {
      "cell_type": "markdown",
      "metadata": {
        "id": "R3RXUDVw0o20"
      },
      "source": [
        "\n",
        "\n",
        "## Ejercicio 2 \n",
        "\n",
        "Usando de nuevo el iris dataset empleado anteriormente, evalúe como afecta en el valor de k el uso de los distintos algoritmos que permiten calcular la distancia entre puntos. Estas lista de algoritmos se encuentra recogida en el parámetro 'algorithm' accesible ejecutando este código:\n",
        "\n",
        "help(KNeighborsClassifier)"
      ]
    },
    {
      "cell_type": "markdown",
      "metadata": {
        "id": "AsUTthE40o20"
      },
      "source": [
        "\n",
        "\n",
        "- a. Obtenga la lista de algoritmos disponibles\n",
        "- b. Encuentre el valor óptimo de k mediante un GridSearchCV con todos los algoritmos posibles para el parámetro 'algorithm'\n"
      ]
    },
    {
      "cell_type": "markdown",
      "metadata": {
        "id": "WO9S-Gsi0o21"
      },
      "source": [
        "\n",
        "\n",
        "Obtenga la lista de algoritmos disponibles"
      ]
    },
    {
      "cell_type": "code",
      "metadata": {
        "id": "pYWAxUM80o21"
      },
      "source": [
        "# Respuesta aqui"
      ],
      "execution_count": 15,
      "outputs": []
    },
    {
      "cell_type": "markdown",
      "metadata": {
        "id": "tuNMWjJJ0o23"
      },
      "source": [
        "\n",
        "\n",
        "Encuentre el valor óptimo de k mediante un GridSearchCV con todos los algoritmos posibles para el parámetro 'algorithm'"
      ]
    },
    {
      "cell_type": "code",
      "metadata": {
        "id": "hAvf8s4x0o23"
      },
      "source": [
        "# Respuesta aqui"
      ],
      "execution_count": 16,
      "outputs": []
    }
  ]
}