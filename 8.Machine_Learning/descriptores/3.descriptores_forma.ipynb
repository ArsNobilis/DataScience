{
  "cells": [
    {
      "cell_type": "markdown",
      "metadata": {
        "id": "view-in-github",
        "colab_type": "text"
      },
      "source": [
        "<a href=\"https://colab.research.google.com/github/al34n1x/DataScience/blob/master/8.Machine_Learning/descriptores/3.descriptores_forma.ipynb\" target=\"_parent\"><img src=\"https://colab.research.google.com/assets/colab-badge.svg\" alt=\"Open In Colab\"/></a>"
      ]
    },
    {
      "cell_type": "markdown",
      "source": [
        "# Descriptores Geométricos\n",
        "\n",
        "Los descriptores geométricos analizan la forma estructural de objetos binarios y sus contornos.\n",
        "Se pueden utilizar para identificar objetos y reconocer patrones en una imagen. \n",
        "\n",
        "Podemos encontrar ítems como los siguientes:\n",
        "\n",
        "- Área: Mide el número de píxeles que contiene la región de interés.\n",
        "- Bounding box (bbox): Consiste en el rectángulo más pequeño capaz de albergar la región de interés (rectángulo rojo). \n",
        "- Área de la bbox: Número de píxeles que contiene la bounding box. \n",
        "- Convex hull image: Consiste en el polígono convexo más pequeño capaz de albergar la región de interés (polígono cyan). \n",
        "- Área de la convex image: Mide el número de píxeles dentro de la convex image.\n",
        "- Excentricidad: Es la relación de la distancia entre los focos de la elipse y su longitud del eje principal. Una elipse con excentricidad=0 es un círculo, mientras que una excentricidad =1 denota un segmento de línea. \n",
        "- Diámetro equivalente: Consiste en el diámetro de un círculo cuya área sea la misma que la región de interés.\n",
        "- Extensión: Se define como el ratio de píxeles en la región con respecto al número total de píxeles contenidos en la bounding box. \n",
        "- Longitud del eje mayor: Se refiere a la longitud del eje mayor de una elipse que tiene el mismo segundo momento central normalizado que la región.\n",
        "- Longitud del eje menor: Igual para el eje menor de la elipse.\n",
        "- Orientación: Es el ángulo que forma la elipse anterior con respecto al eje horizontal. El valor se expresa en grados en un rango de [-90, 90].\n",
        "- Perímetro: Se define como el número de píxeles que forman parte del contorno del objeto de interés. \n",
        "- Solidez: Corresponde con la proporción de píxeles que contiene el área respecto a la convex hull image. En el caso de polígonos regulares, su valor será 1. "
      ],
      "metadata": {
        "id": "odaB43sXkHZE"
      }
    },
    {
      "cell_type": "code",
      "execution_count": null,
      "metadata": {
        "id": "5FOQKJwHj7EE"
      },
      "outputs": [],
      "source": [
        "# En primer lugar, obtenemos la máscara de la imagen original mediante la umbralización con Otsu\n",
        "import matplotlib.pyplot as plt\n",
        "import cv2\n",
        "import numpy as np\n",
        "img = cv2.imread('images/figuras.png')\n",
        "img_gray = cv2.cvtColor(img, cv2.COLOR_BGR2GRAY)\n",
        "_, mask = cv2.threshold(img_gray,0,1,cv2.THRESH_OTSU)\n",
        "\n",
        "plt.imshow(mask, cmap='gray')\n",
        "plt.show()"
      ]
    },
    {
      "cell_type": "code",
      "execution_count": null,
      "metadata": {
        "id": "PO7Nv-uZj7EF"
      },
      "outputs": [],
      "source": [
        "# Convertimos la imagen binaria en una imagen de etiquetas para tener acceso a cada objeto por separado\n",
        "from skimage.measure import label\n",
        "\n",
        "\"\"\"\n",
        "El label me permite generar diferentes instancias para los diferentes objetos \n",
        "con el objetivo de poder seleccionarlos después.\n",
        "\"\"\"\n",
        "\n",
        "lab, num = label(mask, return_num=True)  \n",
        "\n",
        "# Importante:\n",
        "# En 'num' devuelve 6 valores correspondientes a los 6 objetos que hay en la imagen.\n",
        "# Sin embargo, 'lab' contiene hasta 7 valores diferentes, ya que también tiene en cuenta el fondo de la imagen.\n",
        "\n",
        "print('número de objetos: ', num)\n",
        "v,c = np.unique(lab, return_counts=True)\n",
        "print('posibles valores de intensidad: ', v)\n",
        "\n",
        "plt.imshow(lab, cmap='gray')\n",
        "plt.show()"
      ]
    },
    {
      "cell_type": "code",
      "execution_count": null,
      "metadata": {
        "id": "Ffe6P5BGj7EG"
      },
      "outputs": [],
      "source": [
        "# Podemos acceder de manera independiente al objeto que nos interese a partir de su etiqueta correspondiente\n",
        "objeto = lab == 1\n",
        "objeto = objeto.astype('uint8')\n",
        "plt.imshow(objeto, cmap='gray')\n",
        "plt.show()"
      ]
    },
    {
      "cell_type": "code",
      "execution_count": null,
      "metadata": {
        "id": "6euI3hwgj7EG"
      },
      "outputs": [],
      "source": [
        "# Podemos acceder de manera independiente al objeto que nos interese a partir de su etiqueta correspondiente\n",
        "objeto = lab == 2 ## Le cambio el label y veo que me devuelve otra figura\n",
        "objeto = objeto.astype('uint8')\n",
        "plt.imshow(objeto, cmap='gray')\n",
        "plt.show()"
      ]
    },
    {
      "cell_type": "code",
      "execution_count": null,
      "metadata": {
        "id": "SvnMIfWEj7EH"
      },
      "outputs": [],
      "source": [
        "# Podemos acceder de manera independiente al objeto que nos interese a partir de su etiqueta correspondiente\n",
        "objeto = lab == 3 ## Le cambio el label y veo que me devuelve otra figura\n",
        "objeto = objeto.astype('uint8')\n",
        "plt.imshow(objeto, cmap='gray')\n",
        "plt.show()"
      ]
    },
    {
      "cell_type": "code",
      "execution_count": null,
      "metadata": {
        "id": "fbrmJGrWj7EH"
      },
      "outputs": [],
      "source": [
        "from skimage.measure import regionprops\n",
        "# https://scikit-image.org/docs/dev/api/skimage.measure.html#skimage.measure.regionprops\n",
        "\n",
        "\n",
        "\"\"\"\n",
        "Measure properties of labeled image regions.\n",
        "\n",
        "Parameters:\n",
        "\n",
        "    label_image(M, N[, P]) ndarray\n",
        "\n",
        "        Labeled input image. Labels with value 0 are ignored.\n",
        "\n",
        "        Changed in version 0.14.1: Previously, label_image was processed by numpy.squeeze and so any number of singleton dimensions was allowed. This resulted in inconsistent handling of images with singleton dimensions. To recover the old behaviour, use regionprops(np.squeeze(label_image), ...).\n",
        "    intensity_image(M, N[, P][, C]) ndarray, optional\n",
        "\n",
        "        Intensity (i.e., input) image with same size as labeled image, plus optionally an extra dimension for multichannel data. Currently, this extra channel dimension, if present, must be the last axis. Default is None.\n",
        "\n",
        "        Changed in version 0.18.0: The ability to provide an extra dimension for channels was added.\n",
        "    cachebool, optional\n",
        "\n",
        "        Determine whether to cache calculated properties. The computation is much faster for cached properties, whereas the memory consumption increases.\n",
        "    coordinatesDEPRECATED\n",
        "\n",
        "        This argument is deprecated and will be removed in a future version of scikit-image.\n",
        "\n",
        "        See Coordinate conventions for more details.\n",
        "\n",
        "        Deprecated since version 0.16.0: Use “rc” coordinates everywhere. It may be sufficient to call numpy.transpose on your label image to get the same values as 0.15 and earlier. However, for some properties, the transformation will be less trivial. For example, the new orientation is\n",
        "\n",
        "        plus the old orientation.\n",
        "    extra_propertiesIterable of callables\n",
        "\n",
        "        Add extra property computation functions that are not included with skimage. The name of the property is derived from the function name, the dtype is inferred by calling the function on a small sample. If the name of an extra property clashes with the name of an existing property the extra property wil not be visible and a UserWarning is issued. A property computation function must take a region mask as its first argument. If the property requires an intensity image, it must accept the intensity image as the second argument.\n",
        "    spacing: tuple of float, shape (ndim, )\n",
        "\n",
        "        The pixel spacing along each axis of the image.\n",
        "\n",
        "Returns:\n",
        "\n",
        "    propertieslist of RegionProperties\n",
        "\n",
        "        Each item describes one labeled region, and can be accessed using the attributes listed below.\n",
        "\n",
        "\n",
        "\n",
        "\"\"\"\n",
        "\n",
        "# Después, podemos extraer la bounding box de dicho objeto\n",
        "prop = regionprops(objeto)\n",
        "bbox = prop[0].bbox\n",
        "print(bbox)\n",
        "start_point = (bbox[1], bbox[0])\n",
        "end_point = (bbox[3], bbox[2])\n",
        "window = cv2.rectangle(img.copy(), start_point, end_point, (0, 255, 0), 10)\n",
        "                     \n",
        "plt.imshow(window, cmap='gray')\n",
        "plt.show()"
      ]
    },
    {
      "cell_type": "markdown",
      "source": [
        "La convex hull image - Me permite encontrar los contornos de la imagen - Esta función si o si necesita una imagen binaria."
      ],
      "metadata": {
        "id": "-Qjzt3illdsY"
      }
    },
    {
      "cell_type": "code",
      "execution_count": null,
      "metadata": {
        "id": "TjuBQwgej7EI"
      },
      "outputs": [],
      "source": [
        "from skimage.morphology import convex_hull_image\n",
        "\n",
        "convex_image = convex_hull_image(objeto)\n",
        "convex_image = convex_image.astype('uint8')\n",
        "conts,_ = cv2.findContours(convex_image, cv2.RETR_TREE, cv2.CHAIN_APPROX_SIMPLE) # Encontramos los contornos en una máscara \n",
        "imagen = cv2.drawContours(img.copy(), conts, -1, (255,0,0), 5) # Dibujamos los contornos\n",
        "                     \n",
        "plt.imshow(imagen, cmap='gray')\n",
        "plt.show()"
      ]
    },
    {
      "cell_type": "code",
      "execution_count": null,
      "metadata": {
        "id": "Qt-t2xO-j7EI"
      },
      "outputs": [],
      "source": [
        "# Repetimos el proceso completo para todos los objetos de la imagen\n",
        "imagen = img.copy()\n",
        "for i in range(1, num+1): \n",
        "    objeto = lab == i\n",
        "    objeto = objeto.astype('uint8')\n",
        "    \n",
        "    # bbox\n",
        "    prop = regionprops(objeto)\n",
        "    bbox = prop[0].bbox\n",
        "    imagen = cv2.rectangle(imagen, (bbox[1], bbox[0]), (bbox[3], bbox[2]), (255, 0, 0), 5)\n",
        "    \n",
        "    # covex hull\n",
        "    convex_image = convex_hull_image(objeto)\n",
        "    convex_image = convex_image.astype('uint8')\n",
        "    conts,_ = cv2.findContours(convex_image, cv2.RETR_TREE, cv2.CHAIN_APPROX_SIMPLE)\n",
        "    imagen = cv2.drawContours(imagen, conts, -1, (0,255,255), 8)\n",
        "\n",
        "plt.imshow(imagen, cmap='gray')\n",
        "plt.show()"
      ]
    },
    {
      "cell_type": "code",
      "execution_count": null,
      "metadata": {
        "id": "A1usr2wwj7EI"
      },
      "outputs": [],
      "source": [
        "# Vamos a extraer diferentes descriptores geométricos que nos ayudarán a caracterizar los objetos.\n",
        "# pip install tabulate\n",
        "from tabulate import tabulate\n",
        "import math\n",
        "\n",
        "new_lab, new_num = label(mask, return_num=True)\n",
        "\n",
        "# Extraemos las característicias geométricas\n",
        "headers = ['','Raro', 'Rayo', 'Círculo', 'Cuadrado', 'Triángulo', 'Rombo']\n",
        "A,BB,CA,E,ED,EX,MA,MiA,OR,P,S,CO,R = ['area'], ['bbox_area'], ['convex_area'], ['eccentricity'], ['equiv_diameter'], \\\n",
        "['extent'], ['major_axis'], ['minor_axis'], ['orientation'], ['perimeter'], ['solidity'], ['compactness'], ['rectangularity']\n",
        "\n",
        "for i in range(1,new_num+1):\n",
        "    objeto = new_lab == i\n",
        "    prop = regionprops(objeto.astype(np.uint8))\n",
        "    \n",
        "    A.append(np.round(prop[0].area, 4))\n",
        "    BB.append(np.round(prop[0].bbox_area, 4))\n",
        "    CA.append(np.round(prop[0].convex_area, 4))\n",
        "    E.append(np.round(prop[0].eccentricity, 4))\n",
        "    ED.append(np.round(prop[0].equivalent_diameter, 4))\n",
        "    EX.append(np.round(prop[0].extent, 4))\n",
        "    MA.append(np.round(prop[0].major_axis_length, 4))\n",
        "    MiA.append(np.round(prop[0].minor_axis_length, 4))\n",
        "    OR.append(np.round(prop[0].orientation, 4))\n",
        "    P.append(np.round(prop[0].perimeter, 4))\n",
        "    S.append(np.round(prop[0].solidity, 4))\n",
        "    CO.append(np.round(4*math.pi*prop[0].area/prop[0].perimeter**2, 4))\n",
        "    R.append(np.round(prop[0].area/prop[0].bbox_area, 4))\n",
        "\n",
        "\n",
        "my_data = [tuple(A), tuple(BB), tuple(CA), tuple(E), tuple(ED), tuple(EX), \\\n",
        "          tuple(MA), tuple(MiA), tuple(OR), tuple(P), tuple(S), tuple(CO), tuple(R)]\n",
        "\n",
        "print(tabulate(my_data, headers=headers))"
      ]
    }
  ],
  "metadata": {
    "kernelspec": {
      "display_name": "Python 3 (ipykernel)",
      "language": "python",
      "name": "python3"
    },
    "language_info": {
      "codemirror_mode": {
        "name": "ipython",
        "version": 3
      },
      "file_extension": ".py",
      "mimetype": "text/x-python",
      "name": "python",
      "nbconvert_exporter": "python",
      "pygments_lexer": "ipython3",
      "version": "3.10.4"
    },
    "colab": {
      "provenance": [],
      "include_colab_link": true
    }
  },
  "nbformat": 4,
  "nbformat_minor": 0
}