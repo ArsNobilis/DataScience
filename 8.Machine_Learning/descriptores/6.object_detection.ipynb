{
  "nbformat": 4,
  "nbformat_minor": 0,
  "metadata": {
    "colab": {
      "provenance": [],
      "authorship_tag": "ABX9TyOPWwtyj+DSFxcelAOa5x9/",
      "include_colab_link": true
    },
    "kernelspec": {
      "name": "python3",
      "display_name": "Python 3"
    },
    "language_info": {
      "name": "python"
    }
  },
  "cells": [
    {
      "cell_type": "markdown",
      "metadata": {
        "id": "view-in-github",
        "colab_type": "text"
      },
      "source": [
        "<a href=\"https://colab.research.google.com/github/al34n1x/DataScience/blob/master/8.Machine_Learning/descriptores/6.object_detection.ipynb\" target=\"_parent\"><img src=\"https://colab.research.google.com/assets/colab-badge.svg\" alt=\"Open In Colab\"/></a>"
      ]
    },
    {
      "cell_type": "markdown",
      "source": [
        "# Implementación de modelo predictor para detección de objetos:\n",
        "\n",
        "La siguiente implementación utiliza librerías como `OpenCV` y `Tensorflow` para la detección de objetos basado en imágenes.\n",
        "Los requisitos y settings debajo descriptos aplican principalmente para poder ser ejecutados en un ambiente de `Google Colab`. Si se desea correrlo de forma local utilizando `Jupyter Notebook`, se recomienda realizar las configuraciones e instalaciones de paquetes dentro de un virtual environment o `Conda Environments` (https://conda.io/projects/conda/en/latest/user-guide/concepts/environments.html)\n",
        "\n",
        "Fuente Implementación: https://github.com/ZaheedaT/computer-vision-flaskapp\n"
      ],
      "metadata": {
        "id": "6ynA3v_qMaA6"
      }
    },
    {
      "cell_type": "code",
      "source": [
        "import warnings\n",
        "warnings.filterwarnings('ignore')"
      ],
      "metadata": {
        "id": "3ERYmC_4HwER"
      },
      "execution_count": 14,
      "outputs": []
    },
    {
      "cell_type": "code",
      "source": [
        "!pip install cvlib\n",
        "!pip install h5py\n",
        "!pip install typing-extensions\n",
        "!pip install wheel\n",
        "!pip install imageai\n",
        "!pip install tensorflow"
      ],
      "metadata": {
        "id": "vWYzOUbBFSt5"
      },
      "execution_count": null,
      "outputs": []
    },
    {
      "cell_type": "code",
      "execution_count": 7,
      "metadata": {
        "id": "aZov2dWMFKsT"
      },
      "outputs": [],
      "source": [
        "import datetime\n",
        "import os\n",
        "import json\n",
        "import numpy as np\n",
        "import cv2\n",
        "import cvlib as cv\n",
        "from cvlib.object_detection import draw_bbox\n",
        "from imageai.Detection import VideoObjectDetection\n",
        "from bson import json_util\n",
        "import tensorflow as tf"
      ]
    },
    {
      "cell_type": "code",
      "source": [
        "def detect_and_draw_box(img_filepath, img_output, model=\"yolo.h5\", confidence=0.5):\n",
        "\n",
        "  img = cv2.imread(img_filepath)\n",
        "  bbox, label, conf = cv.detect_common_objects(img, confidence=confidence, model=model)\n",
        "  output_image = draw_bbox(img, bbox, label, conf) \n",
        "  output_image_path = os.path.join(img_output, 'output_image.jpg')\n",
        "  cv2.imwrite(output_image_path, output_image)\n",
        "\n",
        "  response = write_response(bbox, label, conf, width = img.shape[1], height= img.shape[0])\n",
        "  write_json(img_output, \"out_response.json\", data=response)\n",
        "  #add_data(response)\n",
        "  filetype = 'image'\n",
        "  \n",
        "  return output_image_path, response, filetype"
      ],
      "metadata": {
        "id": "J10ez5ACFNkb"
      },
      "execution_count": 4,
      "outputs": []
    },
    {
      "cell_type": "markdown",
      "source": [
        "- **img = cv2.imread(img_filepath)**: OpenCV lee la imagen en una matriz numpy para que nuestro modelo la entienda.\n",
        "- **bbox, label, conf = cv.detect_common_objects(img,confidence, model)**: detect_common_objects utiliza un preentrenado para detectar 80 objetos comunes.\n",
        "Devuelve las coordenadas del cuadro delimitador (un cuadro alrededor de un objeto detectado), las etiquetas predichas correspondientes y las puntuaciones de confianza para los objetos detectados en la imagen.\n",
        "- **output_image = draw_bbox(img, bbox, label, conf)**: luego dibujamos los cuadros y las etiquetas en la imagen para obtener una imagen de salida.\n",
        "- **output_image_path = os.path.join(img_output, 'output_image.jpg')**: Declaramos el nombre de salida de la imagen y la ruta donde se debe guardar.\n",
        "- **cv2.imwrite(output_image_path, output_image)**: que se utiliza para guardar una imagen en cualquier dispositivo o ruta de almacenamiento."
      ],
      "metadata": {
        "id": "96LqgT1uOirc"
      }
    },
    {
      "cell_type": "code",
      "source": [
        "def write_response(bbox, label, conf,width, height):\n",
        "\n",
        "    response= dict()\n",
        "    response['Bounding Box Coordinates'] = bbox\n",
        "    response['Object Class'] = label\n",
        "    response['Confidence'] = conf\n",
        "    now = datetime.datetime.now()\n",
        "    timestamp = str(now.strftime(\"%Y-%m-%d_%H:%M:%S\"))\n",
        "    response['Timestamp'] = timestamp\n",
        "    response['Image Metadata'] = {'width': width, 'height': height}\n",
        "\n",
        "    return response"
      ],
      "metadata": {
        "id": "t1FLJUAMGPJ4"
      },
      "execution_count": 2,
      "outputs": []
    },
    {
      "cell_type": "code",
      "source": [
        "def write_json(target_path, target_file, data):\n",
        "\n",
        "    with open(os.path.join(target_path, target_file), 'w') as f:\n",
        "        json.dump(data, f)"
      ],
      "metadata": {
        "id": "FcikSK4IGkDX"
      },
      "execution_count": 3,
      "outputs": []
    },
    {
      "cell_type": "code",
      "source": [
        "INPUT_FOLDER = os.path.join('images', 'input', 'photographer.png')\n",
        "OUTPUT_FOLDER = os.path.join('images', 'output')\n",
        "\n",
        "output_image_path, response, filetype = detect_and_draw_box(INPUT_FOLDER, OUTPUT_FOLDER)"
      ],
      "metadata": {
        "id": "7Z2LNIrbICJA"
      },
      "execution_count": null,
      "outputs": []
    },
    {
      "cell_type": "code",
      "source": [
        "INPUT_FOLDER = os.path.join('images', 'input', 'car_pedestrian.png')\n",
        "OUTPUT_FOLDER = os.path.join('images', 'output')\n",
        "\n",
        "output_image_path, response, filetype = detect_and_draw_box(INPUT_FOLDER, OUTPUT_FOLDER)"
      ],
      "metadata": {
        "id": "_E-_VDSFJcbq"
      },
      "execution_count": 10,
      "outputs": []
    }
  ]
}