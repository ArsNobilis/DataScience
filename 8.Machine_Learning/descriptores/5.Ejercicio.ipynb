{
  "cells": [
    {
      "cell_type": "markdown",
      "metadata": {
        "id": "view-in-github",
        "colab_type": "text"
      },
      "source": [
        "<a href=\"https://colab.research.google.com/github/al34n1x/DataScience/blob/master/8.Machine_Learning/descriptores/5.Ejercicio.ipynb\" target=\"_parent\"><img src=\"https://colab.research.google.com/assets/colab-badge.svg\" alt=\"Open In Colab\"/></a>"
      ]
    },
    {
      "cell_type": "markdown",
      "metadata": {
        "id": "CJcLtBz6sm9f"
      },
      "source": [
        "#### 0) Cargar una de las imágenes histológicas"
      ]
    },
    {
      "cell_type": "code",
      "execution_count": null,
      "metadata": {
        "id": "GzOTesirsm9h"
      },
      "outputs": [],
      "source": [
        "import matplotlib.pyplot as plt\n",
        "from skimage import io\n",
        "import numpy as np\n",
        "import cv2\n",
        "from skimage.measure import label\n",
        "from skimage import morphology\n",
        "from skimage.measure import regionprops\n",
        "from skimage.morphology import convex_hull_image\n",
        "from scipy.ndimage.morphology import binary_fill_holes as bfh\n",
        "from tabulate import tabulate\n",
        "import math"
      ]
    },
    {
      "cell_type": "code",
      "execution_count": null,
      "metadata": {
        "id": "wsYP-k_RvlQ5"
      },
      "outputs": [],
      "source": [
        "# Utilizar la librería skimage.io para leer la imagen 'histo_x.jpg' en formato RGB.\n",
        "img = io.imread('images/histo_1.jpg')\n",
        "# Normalizar la imagen para que los píxeles se encuentren en el rango [0, 1]\n",
        "img_norm = cv2.normalize(img, None, alpha=0, beta=1, norm_type=cv2.NORM_MINMAX, dtype=cv2.CV_32F)\n",
        "# Visualizar la imagen\n",
        "plt.imshow(img_norm, cmap='gray')\n",
        "plt.show()"
      ]
    },
    {
      "cell_type": "markdown",
      "metadata": {
        "id": "sgjQjxQzsm9i"
      },
      "source": [
        "#### 1) Realizar una transformación de color para convertir la imagen al espacio de color CMYK"
      ]
    },
    {
      "cell_type": "code",
      "execution_count": null,
      "metadata": {
        "id": "XXhyboJ-vlQ6"
      },
      "outputs": [],
      "source": [
        "def convert_to_CMYK(rgb_p):\n",
        "    with np.errstate(invalid='ignore', divide='ignore'):\n",
        "        K = 1 - np.max(rgb_p, axis=2)\n",
        "        C = (1-rgb_p[:,:,0] - K)/(1-K)\n",
        "        M = (1-rgb_p[:,:,1] - K)/(1-K)\n",
        "        Y = (1-rgb_p[:,:,2] - K)/(1-K)\n",
        "    CMYK = (np.dstack((C,M,Y,K)))\n",
        "    return CMYK"
      ]
    },
    {
      "cell_type": "code",
      "execution_count": null,
      "metadata": {
        "id": "DgCPbWSWsm9j"
      },
      "outputs": [],
      "source": [
        "# Visualizar la imagen del canal magenta\n",
        "rgb = cv2.cvtColor(img, cv2.COLOR_BGR2RGB)\n",
        "rgb_p = rgb.astype('uint8')/255\n",
        "CMYK = convert_to_CMYK(rgb_p)\n",
        "C,M,Y,K = cv2.split(CMYK)\n",
        "plt.imshow(M, cmap='gray') # Ploteamos Canal Magenta\n",
        "plt.title('Imagen magenta')\n",
        "plt.show()"
      ]
    },
    {
      "cell_type": "markdown",
      "metadata": {
        "id": "VXJhx4vssm9j"
      },
      "source": [
        "#### 2) Umbralizar la imagen para separar los píxeles del fondo de la región tisular"
      ]
    },
    {
      "cell_type": "markdown",
      "source": [
        "Aplicar un filtro gaussiano de tamaño 5x5 y después utilizar el método de Otsu de manera que los píxeles correspondientes al lumen y al background de la imagen sean 1s y el resto de los píxeles tengan un valor de 0."
      ],
      "metadata": {
        "id": "z_sKCA6VRr3G"
      }
    },
    {
      "cell_type": "code",
      "execution_count": null,
      "metadata": {
        "id": "tk8nEbAksm9k"
      },
      "outputs": [],
      "source": [
        "img_gaus = cv2.GaussianBlur(M, (5,5), 0)\n",
        "img_gaus = (img_gaus * 255).astype('uint8')\n",
        "t, mask = cv2.threshold(img_gaus,0,1,cv2.THRESH_BINARY_INV+cv2.THRESH_OTSU)\n",
        "plt.imshow(mask, cmap='gray')\n",
        "plt.title('Máscara Otsu t=' + str(t))\n",
        "plt.show()"
      ]
    },
    {
      "cell_type": "markdown",
      "metadata": {
        "id": "yA7QEGwgsm9l"
      },
      "source": [
        "#### 3) Limpiar la imagen eliminando los artefactos de lumen (objetos blancos pequeños que no son lúmenes)"
      ]
    },
    {
      "cell_type": "markdown",
      "source": [
        "Utilizar la librería skimage.morphology.remove_small_objects para eliminar aquellos objetos cuya área sea menor a 300 píxeles.\n",
        "\n",
        "Más información en https://scikit-image.org/docs/dev/api/skimage.morphology.html#skimage.morphology.remove_small_objects"
      ],
      "metadata": {
        "id": "bBm7cwsZR2Y7"
      }
    },
    {
      "cell_type": "code",
      "execution_count": null,
      "metadata": {
        "id": "9u4G4n0bsm9l"
      },
      "outputs": [],
      "source": [
        "mask = morphology.remove_small_objects(np.array(mask) == 1, min_size=300)\n",
        "plt.imshow(mask, cmap='gray')\n",
        "plt.title('Mascara sin hoyos')\n",
        "plt.show()"
      ]
    },
    {
      "cell_type": "markdown",
      "metadata": {
        "id": "xvoad6BCsm9m"
      },
      "source": [
        "#### 4) Rellenar con 0s el fondo de la imagen para quedarnos únicamente con los lúmenes"
      ]
    },
    {
      "cell_type": "markdown",
      "source": [
        "Aplicar el algoritmo de expansión a partir de semillas (region growing) de manera que únicamente los lúmenes sean blancos y el resto de la imagen negra.  \n",
        ">Nota: Se pueden fijar las semillas de manera manual."
      ],
      "metadata": {
        "id": "aibbeASLR-8s"
      }
    },
    {
      "cell_type": "code",
      "execution_count": null,
      "metadata": {
        "id": "EMFuP8gJsm9n"
      },
      "outputs": [],
      "source": [
        "new_mask = mask.copy().astype('uint8')\n",
        "h, w = mask.shape\n",
        "ref = np.zeros((h+2, w+2), np.uint8)\n",
        "\n",
        "cv2.floodFill(new_mask, ref, (0,0), 0);\n",
        "cv2.floodFill(new_mask, ref, (800,800), 0);\n",
        "\n",
        "plt.imshow(new_mask, cmap='gray')\n",
        "plt.title('Mascara sin fondo')\n",
        "plt.show()"
      ]
    },
    {
      "cell_type": "markdown",
      "metadata": {
        "id": "NW73SRjtsm9n"
      },
      "source": [
        "#### 5) Rellenar los objetos de los lúmenes"
      ]
    },
    {
      "cell_type": "markdown",
      "source": [
        "Rellenar los lúmenes con la función binary_fill_holes de la librería `scipy.ndimage.morphology`"
      ],
      "metadata": {
        "id": "u3sU9OjPSSOs"
      }
    },
    {
      "cell_type": "code",
      "execution_count": null,
      "metadata": {
        "id": "aZdRk1GxvlQ_"
      },
      "outputs": [],
      "source": [
        "bordes = new_mask.copy()\n",
        "filled_bordes = bfh(bordes)\n",
        "plt.imshow(filled_bordes.astype('uint8'), cmap='gray')\n",
        "plt.title('cleaned lumen mask')\n",
        "plt.show()"
      ]
    },
    {
      "cell_type": "markdown",
      "source": [
        "Separamos los objetos"
      ],
      "metadata": {
        "id": "u_W2sEycSVBg"
      }
    },
    {
      "cell_type": "code",
      "execution_count": null,
      "metadata": {
        "id": "s6PYOhC2sm9o"
      },
      "outputs": [],
      "source": [
        "lab, num = label(bordes, return_num=True)\n",
        "print('número de objetos: ', num)\n",
        "v,c = np.unique(lab, return_counts=True)\n",
        "print('posibles valores de intensidad: ', v)\n",
        "plt.imshow(lab, cmap='gray')\n",
        "plt.show()"
      ]
    },
    {
      "cell_type": "markdown",
      "metadata": {
        "id": "1eNAeskfsm9o"
      },
      "source": [
        "#### 6) Detectar y dibujar los contornos de los lúmenes sobre la imagen original"
      ]
    },
    {
      "cell_type": "markdown",
      "source": [
        "Dibujar los contornos de los lúmenes en color verde sobre la imagen original RGB. "
      ],
      "metadata": {
        "id": "Z1sjbHKFSZvk"
      }
    },
    {
      "cell_type": "code",
      "execution_count": null,
      "metadata": {
        "id": "_kIjAaH5sm9p"
      },
      "outputs": [],
      "source": [
        "imagen = img.copy()\n",
        "for i in range(1, num+1): \n",
        "    objeto = lab == i\n",
        "    objeto = objeto.astype('uint8')\n",
        "    \n",
        "    # covex hull\n",
        "    convex_image = convex_hull_image(objeto)\n",
        "    convex_image = convex_image.astype('uint8')\n",
        "    conts,_ = cv2.findContours(convex_image, cv2.RETR_TREE, cv2.CHAIN_APPROX_SIMPLE)\n",
        "    imagen = cv2.drawContours(imagen, conts, -1, (0,255,0), 10)\n",
        "\n",
        "plt.imshow(imagen, cmap='gray')\n",
        "plt.show()"
      ]
    },
    {
      "cell_type": "markdown",
      "metadata": {
        "id": "fpuJxNSvsm9q"
      },
      "source": [
        "#### 7) Extraer 13 características geométricas que permitan caracterizar el lumen recortado "
      ]
    },
    {
      "cell_type": "code",
      "execution_count": null,
      "metadata": {
        "id": "gxvkb7ACsm9q"
      },
      "outputs": [],
      "source": [
        "# Calcular las siguientes características del crop del lumen de mayor área, redondeando su valor hasta el cuarto decimal.\n",
        "# 1) Área\n",
        "# 2) Área de la bounding box\n",
        "# 3) Área convexa\n",
        "# 4) Exentricidad\n",
        "# 5) Diámetro equivalente\n",
        "# 6) Extensión\n",
        "# 7) Diámetro Feret\n",
        "# 8) Longitud del eje mayor\n",
        "# 9) Longitud del eje menor\n",
        "# 10) Orientación\n",
        "# 11) Perímetro\n",
        "# 12) Solidez\n",
        "# 13) Compacidad\n",
        "\n",
        "# Determinar cuál es el lumen de mayor área y hacer un crop del mismo sobre la imagen original RGB.\n",
        "# Visualizar el lumen cropeado.\n",
        "new_lab, new_num = label(bordes, return_num=True)\n",
        "\n",
        "# Extraemos las característicias geométricas\n",
        "headers = v\n",
        "A,BB,CA,E,ED,EX,MA,MiA,OR,P,S,CO,R = ['area'], ['bbox_area'], ['convex_area'], ['eccentricity'], ['equiv_diameter'], \\\n",
        "['extent'], ['major_axis'], ['minor_axis'], ['orientation'], ['perimeter'], ['solidity'], ['compactness'], ['rectangularity']\n",
        "\n",
        "for i in range(1,new_num+1):\n",
        "    objeto = new_lab == i\n",
        "    prop = regionprops(objeto.astype(np.uint8))\n",
        "    \n",
        "    A.append(np.round(prop[0].area, 4))\n",
        "    BB.append(np.round(prop[0].bbox_area, 4))\n",
        "    CA.append(np.round(prop[0].convex_area, 4))\n",
        "    E.append(np.round(prop[0].eccentricity, 4))\n",
        "    ED.append(np.round(prop[0].equivalent_diameter, 4))\n",
        "    EX.append(np.round(prop[0].extent, 4))\n",
        "    MA.append(np.round(prop[0].major_axis_length, 4))\n",
        "    MiA.append(np.round(prop[0].minor_axis_length, 4))\n",
        "    OR.append(np.round(prop[0].orientation, 4))\n",
        "    P.append(np.round(prop[0].perimeter, 4))\n",
        "    S.append(np.round(prop[0].solidity, 4))\n",
        "    CO.append(np.round(4*math.pi*prop[0].area/prop[0].perimeter**2, 4))\n",
        "    R.append(np.round(prop[0].area/prop[0].bbox_area, 4))\n",
        "\n",
        "\n",
        "my_data = [tuple(A), tuple(BB), tuple(CA), tuple(E), tuple(ED), tuple(EX), \\\n",
        "          tuple(MA), tuple(MiA), tuple(OR), tuple(P), tuple(S), tuple(CO), tuple(R)]\n",
        "\n",
        "print(tabulate(my_data, headers=headers))"
      ]
    },
    {
      "cell_type": "code",
      "execution_count": null,
      "metadata": {
        "id": "oM7IdYHdvlRB"
      },
      "outputs": [],
      "source": [
        "objeto = lab == 8\n",
        "objeto = objeto.astype('uint8')\n",
        "\n",
        "convex_image = convex_hull_image(objeto)\n",
        "convex_image = convex_image.astype('uint8')\n",
        "plt.imshow(convex_image, cmap='gray')\n",
        "plt.show()\n",
        "\n",
        "conts,_ = cv2.findContours(convex_image, cv2.RETR_TREE, cv2.CHAIN_APPROX_SIMPLE) # Encontramos los contornos en una máscara \n",
        "imagen = cv2.drawContours(img.copy(), conts, -1, (0,255, 128), 10) # Dibujamos los contornos\n",
        "                     \n",
        "plt.imshow(imagen, cmap='gray')\n",
        "plt.show()"
      ]
    }
  ],
  "metadata": {
    "colab": {
      "provenance": [],
      "include_colab_link": true
    },
    "kernelspec": {
      "display_name": "Python 3 (ipykernel)",
      "language": "python",
      "name": "python3"
    },
    "language_info": {
      "codemirror_mode": {
        "name": "ipython",
        "version": 3
      },
      "file_extension": ".py",
      "mimetype": "text/x-python",
      "name": "python",
      "nbconvert_exporter": "python",
      "pygments_lexer": "ipython3",
      "version": "3.10.4"
    }
  },
  "nbformat": 4,
  "nbformat_minor": 0
}