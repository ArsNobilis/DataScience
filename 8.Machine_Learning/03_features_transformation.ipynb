{
  "nbformat": 4,
  "nbformat_minor": 0,
  "metadata": {
    "colab": {
      "name": "03_features_transformation.ipynb",
      "provenance": [],
      "include_colab_link": true
    },
    "kernelspec": {
      "name": "python3",
      "display_name": "Python 3"
    }
  },
  "cells": [
    {
      "cell_type": "markdown",
      "metadata": {
        "id": "view-in-github",
        "colab_type": "text"
      },
      "source": [
        "<a href=\"https://colab.research.google.com/github/al34n1x/DataScience/blob/master/8.Machine_Learning/03_features_transformation.ipynb\" target=\"_parent\"><img src=\"https://colab.research.google.com/assets/colab-badge.svg\" alt=\"Open In Colab\"/></a>"
      ]
    },
    {
      "cell_type": "markdown",
      "metadata": {
        "id": "Va42QVywwwaE"
      },
      "source": [
        "\n",
        "\n",
        "# Transformación de variables"
      ]
    },
    {
      "cell_type": "markdown",
      "metadata": {
        "id": "EJto6Hj5wwaF"
      },
      "source": [
        "\n",
        "\n",
        "# Reescalado de variables\n",
        "\n",
        "Reescalar consiste en ajustar los datos a una escala determinada, con unos límites superior e inferior. Una de escalas más usadas es la minmax, en la que se escalan los valores mediante la siguiente expresión.\n",
        "\n",
        "\n"
      ]
    },
    {
      "cell_type": "markdown",
      "metadata": {
        "id": "pz8ol-JjwwaJ"
      },
      "source": [
        "\n",
        "\n",
        "\\begin{equation}\n",
        "Z = \\frac{x - min(x)}{max(x) - min(x)}\n",
        "\\end{equation}"
      ]
    },
    {
      "cell_type": "markdown",
      "metadata": {
        "id": "LuicNnUzwwaK"
      },
      "source": [
        "\n",
        "\n",
        "En Python podemos aplicar esta escala con los siguiente pasos."
      ]
    },
    {
      "cell_type": "code",
      "metadata": {
        "id": "lSKDB4uFwwaM"
      },
      "source": [
        "from sklearn import preprocessing\n",
        "import numpy as np"
      ],
      "execution_count": null,
      "outputs": []
    },
    {
      "cell_type": "markdown",
      "metadata": {
        "id": "XnetXRFVwwaS"
      },
      "source": [
        "\n",
        "\n",
        "Creamos un conjunto de datos"
      ]
    },
    {
      "cell_type": "code",
      "metadata": {
        "id": "uWSSLM9BwwaU"
      },
      "source": [
        "\n",
        "x = np.array([[-500.5], \n",
        "              [-100.1], \n",
        "              [0], \n",
        "              [100.1], \n",
        "              [900.9]])"
      ],
      "execution_count": null,
      "outputs": []
    },
    {
      "cell_type": "markdown",
      "metadata": {
        "id": "W_QI2Jkewwad"
      },
      "source": [
        "\n",
        "\n",
        "Creamos una objeto MinMaxScaler"
      ]
    },
    {
      "cell_type": "code",
      "metadata": {
        "id": "ZH3kzyJEwwae"
      },
      "source": [
        "minmax_scale = preprocessing.MinMaxScaler(feature_range=(0, 1))"
      ],
      "execution_count": null,
      "outputs": []
    },
    {
      "cell_type": "markdown",
      "metadata": {
        "id": "roJvq4Ppwwak"
      },
      "source": [
        "\n",
        "\n",
        "Aplicamos la escala"
      ]
    },
    {
      "cell_type": "code",
      "metadata": {
        "id": "NzmLH58Wwwam"
      },
      "source": [
        "x_scale = minmax_scale.fit_transform(x)"
      ],
      "execution_count": null,
      "outputs": []
    },
    {
      "cell_type": "markdown",
      "metadata": {
        "id": "tivCKriOwwav"
      },
      "source": [
        "\n",
        "\n",
        "Vemos la transformación"
      ]
    },
    {
      "cell_type": "code",
      "metadata": {
        "id": "PgPWM1oZwwaw"
      },
      "source": [
        "x_scale"
      ],
      "execution_count": null,
      "outputs": []
    },
    {
      "cell_type": "markdown",
      "metadata": {
        "id": "o5om5W-Kwwa0"
      },
      "source": [
        "\n",
        "\n",
        "# Standarización de variables\n",
        "\n",
        "La standarización es otro método de escalado. Consiste en reescalar una variable para que tenga media 0 y una varianza igual a 1.\n",
        "\n",
        "Vemos como aplicarlo en Python.\n",
        "\n"
      ]
    },
    {
      "cell_type": "code",
      "metadata": {
        "id": "XZ2MiRTrwwa2"
      },
      "source": [
        "from sklearn import preprocessing\n",
        "import numpy as np"
      ],
      "execution_count": null,
      "outputs": []
    },
    {
      "cell_type": "markdown",
      "metadata": {
        "id": "qruR4XMEwwa7"
      },
      "source": [
        "\n",
        "\n",
        "Creamos un conjutno de datos"
      ]
    },
    {
      "cell_type": "code",
      "metadata": {
        "id": "QzFn-IOewwa8"
      },
      "source": [
        "x = np.array([[-500.5], \n",
        "              [-100.1], \n",
        "              [0], \n",
        "              [100.1], \n",
        "              [900.9]])"
      ],
      "execution_count": null,
      "outputs": []
    },
    {
      "cell_type": "markdown",
      "metadata": {
        "id": "ENxiF18BwwbC"
      },
      "source": [
        "\n",
        "\n",
        "Creamos el objeto para escalar"
      ]
    },
    {
      "cell_type": "code",
      "metadata": {
        "id": "W7ifkjMGwwbD"
      },
      "source": [
        "scaler = preprocessing.StandardScaler()"
      ],
      "execution_count": null,
      "outputs": []
    },
    {
      "cell_type": "markdown",
      "metadata": {
        "id": "y2Sltn1SwwbJ"
      },
      "source": [
        "\n",
        "\n",
        "Lo aplicamos"
      ]
    },
    {
      "cell_type": "code",
      "metadata": {
        "id": "9Z-Yp6u2wwbL"
      },
      "source": [
        "standardized = scaler.fit_transform(x)"
      ],
      "execution_count": null,
      "outputs": []
    },
    {
      "cell_type": "markdown",
      "metadata": {
        "id": "lDruzCj1wwbQ"
      },
      "source": [
        "\n",
        "\n",
        "Vemos la transformación"
      ]
    },
    {
      "cell_type": "code",
      "metadata": {
        "id": "BPG-BtHcwwbS"
      },
      "source": [
        "standardized"
      ],
      "execution_count": null,
      "outputs": []
    },
    {
      "cell_type": "markdown",
      "metadata": {
        "id": "i1NgvOFVwwbW"
      },
      "source": [
        "\n",
        "\n",
        "# Discretización de variables\n",
        "\n",
        "Consiste en el proceso de asignar los datos a una serie de valores discretos."
      ]
    },
    {
      "cell_type": "code",
      "metadata": {
        "id": "kUYQ6volwwbX"
      },
      "source": [
        "from sklearn.preprocessing import Binarizer\n",
        "import numpy as np"
      ],
      "execution_count": null,
      "outputs": []
    },
    {
      "cell_type": "code",
      "metadata": {
        "id": "jFqLQPTZwwbb"
      },
      "source": [
        "age = np.array([[6], \n",
        "                [12], \n",
        "                [20], \n",
        "                [36], \n",
        "                [65]])"
      ],
      "execution_count": null,
      "outputs": []
    },
    {
      "cell_type": "markdown",
      "metadata": {
        "id": "UegOUnUXwwbh"
      },
      "source": [
        "\n",
        "\n",
        "Tenemos dos opciones en Python, usar un Binarizer, que asigna un valor u otro en función de un límite, o crear unos bins."
      ]
    },
    {
      "cell_type": "markdown",
      "metadata": {
        "id": "OVKUFQgVwwbh"
      },
      "source": [
        "\n",
        "\n",
        "Creamos el Binarizer indicando el límite de edad de 18"
      ]
    },
    {
      "cell_type": "code",
      "metadata": {
        "id": "d5uJHXH-wwbi"
      },
      "source": [
        "binarizer = Binarizer(threshold=18)"
      ],
      "execution_count": null,
      "outputs": []
    },
    {
      "cell_type": "markdown",
      "metadata": {
        "id": "qlzfaYFswwbm"
      },
      "source": [
        "\n",
        "\n",
        "Aplicamos la transformación"
      ]
    },
    {
      "cell_type": "code",
      "metadata": {
        "id": "tb2rfKpPwwbm"
      },
      "source": [
        "binarizer.fit_transform(age)"
      ],
      "execution_count": null,
      "outputs": []
    },
    {
      "cell_type": "markdown",
      "metadata": {
        "id": "HnuPREO6wwbr"
      },
      "source": [
        "\n",
        "\n",
        "Creamos una serir de bins a los que asignar los valores"
      ]
    },
    {
      "cell_type": "code",
      "metadata": {
        "id": "6zkZKPCuwwbr"
      },
      "source": [
        "np.digitize(age, bins=[20,30,64])"
      ],
      "execution_count": null,
      "outputs": []
    },
    {
      "cell_type": "markdown",
      "metadata": {
        "id": "3-t1RU04wwbv"
      },
      "source": [
        "\n",
        "\n",
        "# Reshape\n",
        "\n",
        "El proceso de reshape consiste en dar una nueva forma a la estructura de los datos, sin modificarlos.\n",
        "\n"
      ]
    },
    {
      "cell_type": "markdown",
      "metadata": {
        "id": "RE4DooEewwbv"
      },
      "source": [
        "\n",
        "\n",
        "Por ejemplo, dada la matriz 4x3"
      ]
    },
    {
      "cell_type": "code",
      "metadata": {
        "id": "oVhj6bMlwwbw"
      },
      "source": [
        "matrix = np.array([[1, 2, 3],\n",
        "                   [4, 5, 6],\n",
        "                   [7, 8, 9],\n",
        "                   [10, 11, 12]])\n",
        "matrix"
      ],
      "execution_count": null,
      "outputs": []
    },
    {
      "cell_type": "markdown",
      "metadata": {
        "id": "tsxQYTH0wwb0"
      },
      "source": [
        "\n",
        "\n",
        "Podemos transformar los datos por ejemplo en una matriz de 2x6"
      ]
    },
    {
      "cell_type": "code",
      "metadata": {
        "id": "ysPG8vfRwwb3"
      },
      "source": [
        "matrix.reshape(2, 6)"
      ],
      "execution_count": null,
      "outputs": []
    },
    {
      "cell_type": "markdown",
      "metadata": {
        "id": "P5ZZ86_Jwwb6"
      },
      "source": [
        "\n",
        "\n",
        "# One-Hot Encoder\n",
        "\n",
        "El proceso de One-hot encoding consiste en la transformación de variables categóricas en una nueva forma que se puede alimentar a los algoritmos de modo que de lugar a una mejora en las predicciones.\n"
      ]
    },
    {
      "cell_type": "code",
      "metadata": {
        "id": "XPyBYeLzwwb7"
      },
      "source": [
        "from sklearn.preprocessing import MultiLabelBinarizer\n",
        "import numpy as np\n",
        "import pandas as pd\n",
        "from sklearn import linear_model, decomposition, datasets\n",
        "from sklearn.pipeline import Pipeline\n",
        "from sklearn.model_selection import GridSearchCV, cross_val_score\n",
        "from sklearn.preprocessing import StandardScaler\n"
      ],
      "execution_count": null,
      "outputs": []
    },
    {
      "cell_type": "markdown",
      "metadata": {
        "id": "W6DzYHYVwwb_"
      },
      "source": [
        "\n",
        "\n",
        "Creamos unos datos categóricos de ejemplo"
      ]
    },
    {
      "cell_type": "code",
      "metadata": {
        "id": "oVbLhDHWwwcB"
      },
      "source": [
        "y = [('Texas', 'Florida'), \n",
        "    ('California', 'Alabama'), \n",
        "    ('Texas', 'Florida'), \n",
        "    ('Delware', 'Florida'), \n",
        "    ('Texas', 'Alabama')]\n",
        "y"
      ],
      "execution_count": null,
      "outputs": []
    },
    {
      "cell_type": "markdown",
      "metadata": {
        "id": "elakffI6wwcF"
      },
      "source": [
        "\n",
        "\n",
        "Donde tenemos 5 grupos con 5 elementos únicos. Podemos transformar esta información en un array de 5x5 en cada elemento esté representado por un 1 ó 0, indicando la existencia o no del mismo."
      ]
    },
    {
      "cell_type": "markdown",
      "metadata": {
        "id": "XoT_vuNbwwcG"
      },
      "source": [
        "\n",
        "\n",
        "Creamos un objeto MultiLabelBinarizer"
      ]
    },
    {
      "cell_type": "code",
      "metadata": {
        "id": "GaFcrvdNwwcG"
      },
      "source": [
        "one_hot = MultiLabelBinarizer()\n"
      ],
      "execution_count": null,
      "outputs": []
    },
    {
      "cell_type": "markdown",
      "metadata": {
        "id": "gWb6h_w3wwcM"
      },
      "source": [
        "\n",
        "\n",
        "Realizamos la transformación"
      ]
    },
    {
      "cell_type": "code",
      "metadata": {
        "id": "Uhvyo9WRwwcM"
      },
      "source": [
        "one_hot.fit_transform(y)"
      ],
      "execution_count": null,
      "outputs": []
    },
    {
      "cell_type": "markdown",
      "metadata": {
        "id": "Z37l0Xs5wwcP"
      },
      "source": [
        "\n",
        "\n",
        "Vemos cúal es el mapeo de datos"
      ]
    },
    {
      "cell_type": "code",
      "metadata": {
        "id": "04wWIoLCwwcQ"
      },
      "source": [
        "one_hot.classes_"
      ],
      "execution_count": null,
      "outputs": []
    },
    {
      "cell_type": "markdown",
      "metadata": {
        "id": "Etw8U6UJwwcU"
      },
      "source": [
        "\n",
        "\n",
        "# Pipelines\n",
        "\n",
        "Un pipeline consiste en una serie encadenada de transformaciones sobre los datos ( por ejemplo normalizar númericos, tratar NaNs, etc...) junto con un estimador (algoritmo). Este proceso permite realizar todos los procesos en bloque."
      ]
    },
    {
      "cell_type": "markdown",
      "metadata": {
        "id": "RT6_VIyRwwcU"
      },
      "source": [
        "\n",
        "\n",
        "Cargamos una dataset de ejemplo con datos sobre cancer"
      ]
    },
    {
      "cell_type": "code",
      "metadata": {
        "id": "7M3QyAenwwcV"
      },
      "source": [
        "dataset = datasets.load_breast_cancer()"
      ],
      "execution_count": null,
      "outputs": []
    },
    {
      "cell_type": "code",
      "metadata": {
        "id": "d9OOQKSCzr6y"
      },
      "source": [
        "dataset.DESCR"
      ],
      "execution_count": null,
      "outputs": []
    },
    {
      "cell_type": "code",
      "metadata": {
        "id": "evUqGdbhz1Ry"
      },
      "source": [
        "dataset.data.shape"
      ],
      "execution_count": null,
      "outputs": []
    },
    {
      "cell_type": "code",
      "metadata": {
        "id": "7hVPF49Az4v8"
      },
      "source": [
        ""
      ],
      "execution_count": null,
      "outputs": []
    },
    {
      "cell_type": "markdown",
      "metadata": {
        "id": "iU4aWUGYwwcZ"
      },
      "source": [
        "\n",
        "\n",
        "Create X from the dataset's features"
      ]
    },
    {
      "cell_type": "code",
      "metadata": {
        "id": "q1F5m0JuwwcZ"
      },
      "source": [
        "X = dataset.data"
      ],
      "execution_count": null,
      "outputs": []
    },
    {
      "cell_type": "markdown",
      "metadata": {
        "id": "VgSLF9HMwwco"
      },
      "source": [
        "\n",
        "\n",
        "Create y from the dataset's output"
      ]
    },
    {
      "cell_type": "code",
      "metadata": {
        "id": "zELNwlA8wwcp"
      },
      "source": [
        "y = dataset.target"
      ],
      "execution_count": null,
      "outputs": []
    },
    {
      "cell_type": "markdown",
      "metadata": {
        "id": "qW2abbjEwwcr"
      },
      "source": [
        "\n",
        "\n",
        "A continuación creamos una serie de transformaciones sobre los datos:\n",
        "\n",
        "    - escalado\n",
        "    - reducción de dimensiones mediante un PCA\n",
        "\n",
        "Y por último aplicamos un estimador, en este caso una LogisticRegression.\n"
      ]
    },
    {
      "cell_type": "markdown",
      "metadata": {
        "id": "6FHoWnBKwwcs"
      },
      "source": [
        "\n",
        "\n",
        "Creamos el objeto de escalado"
      ]
    },
    {
      "cell_type": "code",
      "metadata": {
        "id": "Dl61NlqYwwcs"
      },
      "source": [
        "sc = StandardScaler()"
      ],
      "execution_count": null,
      "outputs": []
    },
    {
      "cell_type": "markdown",
      "metadata": {
        "id": "ZYPDT6PFwwcv"
      },
      "source": [
        "\n",
        "\n",
        "Creamos el objeto PCA"
      ]
    },
    {
      "cell_type": "code",
      "metadata": {
        "id": "03oP2vsgwwcw"
      },
      "source": [
        "pca = decomposition.PCA()"
      ],
      "execution_count": null,
      "outputs": []
    },
    {
      "cell_type": "markdown",
      "metadata": {
        "id": "qJe2nAxNwwc1"
      },
      "source": [
        "\n",
        "\n",
        "Creamos el estimador logistic regression"
      ]
    },
    {
      "cell_type": "code",
      "metadata": {
        "id": "3OJdJhxgwwc2"
      },
      "source": [
        "logistic = linear_model.LogisticRegression(solver='liblinear')"
      ],
      "execution_count": null,
      "outputs": []
    },
    {
      "cell_type": "markdown",
      "metadata": {
        "id": "9b-Rvxhfwwc5"
      },
      "source": [
        "\n",
        "\n",
        "Por último enlazamos en un pipeline los 3 pasos."
      ]
    },
    {
      "cell_type": "code",
      "metadata": {
        "id": "lmAwA0LNwwc6"
      },
      "source": [
        "pipe = Pipeline(steps=[('sc', sc), \n",
        "                       ('pca', pca), \n",
        "                       ('logistic', logistic)])"
      ],
      "execution_count": null,
      "outputs": []
    },
    {
      "cell_type": "markdown",
      "metadata": {
        "id": "18NUrq0nwwc8"
      },
      "source": [
        "\n",
        "\n",
        "Adicionalmente creamos una rejilla de parámetros que nos permita obtener el modelo con mejores métricas."
      ]
    },
    {
      "cell_type": "markdown",
      "metadata": {
        "id": "JjIJZbs8wwc9"
      },
      "source": [
        "\n",
        "\n",
        "Creamos una lista de componentes para el PCA"
      ]
    },
    {
      "cell_type": "code",
      "metadata": {
        "id": "DW-8yrAbwwc9"
      },
      "source": [
        "n_components = list(range(1,X.shape[1]+1,1))\n",
        "n_components = [2,3,4,5,10]"
      ],
      "execution_count": null,
      "outputs": []
    },
    {
      "cell_type": "markdown",
      "metadata": {
        "id": "8KRr8pirwwc_"
      },
      "source": [
        "\n",
        "\n",
        "Creamos una lista de componentes para el parámetro de regularización de la regresión."
      ]
    },
    {
      "cell_type": "code",
      "metadata": {
        "id": "qfZBjuAtwwdA"
      },
      "source": [
        "C = np.logspace(-4, 4, 50)"
      ],
      "execution_count": null,
      "outputs": []
    },
    {
      "cell_type": "markdown",
      "metadata": {
        "id": "9ymvXSVpwwdD"
      },
      "source": [
        "\n",
        "\n",
        "Creamos una lista de componentes para la penalización de la regresión."
      ]
    },
    {
      "cell_type": "code",
      "metadata": {
        "id": "1YVukTaWwwdE"
      },
      "source": [
        "#penalty = ['l2']\n",
        "penalty = ['l1','l2']"
      ],
      "execution_count": null,
      "outputs": []
    },
    {
      "cell_type": "markdown",
      "metadata": {
        "id": "YZjZVf72wwdG"
      },
      "source": [
        "\n",
        "\n",
        "Por último generamos un diccionario con todos estos parámetros."
      ]
    },
    {
      "cell_type": "code",
      "metadata": {
        "id": "bw0UtiUHwwdH"
      },
      "source": [
        "parameters = dict(pca__n_components=n_components, \n",
        "                  logistic__C=C,\n",
        "                  logistic__penalty=penalty)"
      ],
      "execution_count": null,
      "outputs": []
    },
    {
      "cell_type": "code",
      "metadata": {
        "id": "akEqhdB0Bn0P"
      },
      "source": [
        "parameters"
      ],
      "execution_count": null,
      "outputs": []
    },
    {
      "cell_type": "code",
      "metadata": {
        "id": "bNOjqswoBpTs"
      },
      "source": [
        ""
      ],
      "execution_count": null,
      "outputs": []
    },
    {
      "cell_type": "markdown",
      "metadata": {
        "id": "rJGRE6DXwwdK"
      },
      "source": [
        "\n",
        "\n",
        "Uniendo estos elementos en un objeto GridSearchCV podemos hacer una búsqueda de los parámetros que optimizan el resultado y evaluarlo mediante validación cruzada."
      ]
    },
    {
      "cell_type": "markdown",
      "metadata": {
        "id": "ccI6EV_rwwdK"
      },
      "source": [
        "\n",
        "\n",
        "Creamos un objeto gridsearch"
      ]
    },
    {
      "cell_type": "code",
      "metadata": {
        "id": "1nuS2E6hwwdL"
      },
      "source": [
        "clf = GridSearchCV(pipe, parameters, n_jobs=-1)\n"
      ],
      "execution_count": null,
      "outputs": []
    },
    {
      "cell_type": "markdown",
      "metadata": {
        "id": "tFWCucy8wwdN"
      },
      "source": [
        "\n",
        "\n",
        "Ajustamos la rejilla"
      ]
    },
    {
      "cell_type": "code",
      "metadata": {
        "id": "db13RZyFCrni"
      },
      "source": [
        "clf.fit(X, y)"
      ],
      "execution_count": null,
      "outputs": []
    },
    {
      "cell_type": "markdown",
      "metadata": {
        "id": "um97de6AwwdQ"
      },
      "source": [
        "\n",
        "\n",
        "Vemos los mejores parámetros"
      ]
    },
    {
      "cell_type": "code",
      "metadata": {
        "id": "FWLLZExmwwdQ"
      },
      "source": [
        "print('Best Penalty:', clf.best_estimator_.get_params()['logistic__penalty'])\n",
        "print('Best C:', clf.best_estimator_.get_params()['logistic__C'])\n",
        "print('Best Number Of Components:', clf.best_estimator_.get_params()['pca__n_components'])"
      ],
      "execution_count": null,
      "outputs": []
    },
    {
      "cell_type": "markdown",
      "metadata": {
        "id": "_qOuVxRvwwdV"
      },
      "source": [
        "\n",
        "\n",
        "Ajustamos el gridsearch usando validación cruzada con k=3"
      ]
    },
    {
      "cell_type": "code",
      "metadata": {
        "id": "Z15kMPelwwdW"
      },
      "source": [
        "cross_val_score(clf, X, y)"
      ],
      "execution_count": null,
      "outputs": []
    },
    {
      "cell_type": "markdown",
      "metadata": {
        "id": "_l72qE_2wwdY"
      },
      "source": [
        "\n",
        "\n",
        "# Ejercicios \n",
        "\n",
        "Dados los siguientes datos, la representación gráfica de las variables numéricas y la accuracy de un KNN."
      ]
    },
    {
      "cell_type": "code",
      "metadata": {
        "id": "obuF6TBXwwdZ"
      },
      "source": [
        "import pandas as pd"
      ],
      "execution_count": null,
      "outputs": []
    },
    {
      "cell_type": "code",
      "metadata": {
        "id": "LA2XwZsawwda"
      },
      "source": [
        "X_train = pd.read_csv('https://github.com/al34n1x/DataScience/raw/master/data/X_train.csv',squeeze=True, delimiter=',')\n",
        "Y_train = pd.read_csv('https://github.com/al34n1x/DataScience/raw/master/data/Y_train.csv',squeeze=True, delimiter=',')\n",
        "X_test = pd.read_csv('https://github.com/al34n1x/DataScience/raw/master/data/X_test.csv',squeeze=True, delimiter=',')\n",
        "Y_test = pd.read_csv('https://github.com/al34n1x/DataScience/raw/master/data/Y_test.csv',squeeze=True, delimiter=',')"
      ],
      "execution_count": null,
      "outputs": []
    },
    {
      "cell_type": "code",
      "metadata": {
        "id": "UdGCyjgRwwdd"
      },
      "source": [
        "print (X_train.head())"
      ],
      "execution_count": null,
      "outputs": []
    },
    {
      "cell_type": "code",
      "metadata": {
        "id": "m2wen5LKwwdh"
      },
      "source": [
        "import matplotlib.pyplot as plt\n",
        "%matplotlib inline"
      ],
      "execution_count": null,
      "outputs": []
    },
    {
      "cell_type": "markdown",
      "metadata": {
        "id": "ROcJqMtZwwdj"
      },
      "source": [
        "\n",
        "\n",
        "Representamos las variables numéricas"
      ]
    },
    {
      "cell_type": "code",
      "metadata": {
        "id": "oGAKbvwjwwdk"
      },
      "source": [
        "X_train[X_train.dtypes[(X_train.dtypes==\"float64\")|(X_train.dtypes==\"int64\")]\n",
        "                        .index.values].hist(figsize=[11,11])"
      ],
      "execution_count": null,
      "outputs": []
    },
    {
      "cell_type": "markdown",
      "metadata": {
        "id": "smxDkv2Mwwdn"
      },
      "source": [
        "\n",
        "\n",
        "Ajustamos a un modelo KNN"
      ]
    },
    {
      "cell_type": "code",
      "metadata": {
        "id": "jHM94rjLwwdn"
      },
      "source": [
        "from sklearn.neighbors import KNeighborsClassifier\n",
        "knn=KNeighborsClassifier(n_neighbors=5)\n",
        "knn.fit(X_train[['ApplicantIncome', 'CoapplicantIncome','LoanAmount', \n",
        "                   'Loan_Amount_Term', 'Credit_History']],Y_train)"
      ],
      "execution_count": null,
      "outputs": []
    },
    {
      "cell_type": "markdown",
      "metadata": {
        "id": "ItGG7Lkrwwdq"
      },
      "source": [
        "\n",
        "\n",
        "Obtenemos el valor de accuracy"
      ]
    },
    {
      "cell_type": "code",
      "metadata": {
        "id": "6XK4F5Mwwwdr"
      },
      "source": [
        "from sklearn.metrics import accuracy_score\n",
        "accuracy_score(Y_test,knn.predict(X_test[['ApplicantIncome', 'CoapplicantIncome',\n",
        "                             'LoanAmount', 'Loan_Amount_Term', 'Credit_History']]))"
      ],
      "execution_count": null,
      "outputs": []
    },
    {
      "cell_type": "markdown",
      "metadata": {
        "id": "KFLPCTngwwdt"
      },
      "source": [
        "\n",
        "\n",
        "- a. Realice un escalado min/max sobre las variables numéricas y represente su distribución.\n",
        "- b. Estudie como afecta al resultado del clasificador la aplicación de un escalado min/max."
      ]
    },
    {
      "cell_type": "markdown",
      "metadata": {
        "id": "o1NSrKsOwwdu"
      },
      "source": [
        "\n",
        "\n",
        "Realice un escalado min/max sobre las variables numéricas y represente su distribución."
      ]
    },
    {
      "cell_type": "code",
      "metadata": {
        "id": "Q5JltKgKwwdu"
      },
      "source": [
        "# Respuesta aqui"
      ],
      "execution_count": null,
      "outputs": []
    },
    {
      "cell_type": "code",
      "metadata": {
        "id": "-350TOnNwwdv"
      },
      "source": [
        "# Respuesta aqui"
      ],
      "execution_count": null,
      "outputs": []
    },
    {
      "cell_type": "code",
      "metadata": {
        "id": "qyJuO8kcwwd0"
      },
      "source": [
        "# Respuesta aqui"
      ],
      "execution_count": null,
      "outputs": []
    },
    {
      "cell_type": "markdown",
      "metadata": {
        "id": "iJiZue-hwwd3"
      },
      "source": [
        "\n",
        "\n",
        "Estudie como afecta al resultado del clasificador la aplicación de un escalado min/max."
      ]
    },
    {
      "cell_type": "code",
      "metadata": {
        "id": "E6_jsUuHwwd3"
      },
      "source": [
        "# Respuesta aqui"
      ],
      "execution_count": null,
      "outputs": []
    }
  ]
}