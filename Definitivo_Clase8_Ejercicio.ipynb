{
  "cells": [
    {
      "cell_type": "markdown",
      "metadata": {
        "id": "view-in-github",
        "colab_type": "text"
      },
      "source": [
        "<a href=\"https://colab.research.google.com/github/ArsNobilis/DataScience/blob/master/Definitivo_Clase8_Ejercicio.ipynb\" target=\"_parent\"><img src=\"https://colab.research.google.com/assets/colab-badge.svg\" alt=\"Open In Colab\"/></a>"
      ]
    },
    {
      "cell_type": "markdown",
      "source": [
        ""
      ],
      "metadata": {
        "id": "JDzIVbvkAvjz"
      }
    },
    {
      "cell_type": "code",
      "execution_count": 6,
      "metadata": {
        "colab": {
          "base_uri": "https://localhost:8080/"
        },
        "id": "K4qILk35IHEg",
        "outputId": "d158799a-e0d0-40f3-b941-faddd71defc2"
      },
      "outputs": [
        {
          "name": "stdout",
          "output_type": "stream",
          "text": [
            "ingrese c para cargar cliente\n",
            " p para cargar pedido\n",
            " v para ver data de cliente o de pedidos\n",
            " vcp para ver pedidos por clientes\n",
            " p\n",
            "idPedido: 1\n",
            "Producto: compu\n",
            "Cantidad: 6\n",
            "ingrese c para cargar cliente\n",
            " p para cargar pedido\n",
            " v para ver data de cliente o de pedidos\n",
            " vcp para ver pedidos por clientes\n",
            " p\n",
            "idPedido: 1\n",
            "Producto: uuu\n",
            "Cantidad: 0\n",
            "ingrese c para cargar cliente\n",
            " p para cargar pedido\n",
            " v para ver data de cliente o de pedidos\n",
            " vcp para ver pedidos por clientes\n",
            " v\n",
            "si desea ver los Clientes ingrese 1, si desea ver los Pedidos ingrese 2: 2\n",
            "idPedido, producto, cantidad\n",
            "1, compu, 6\n",
            "1, uuu, 0\n",
            "ingrese c para cargar cliente\n",
            " p para cargar pedido\n",
            " v para ver data de cliente o de pedidos\n",
            " vcp para ver pedidos por clientes\n",
            " p\n",
            "idPedido: 2\n",
            "Producto: compu\n",
            "Cantidad: 9\n",
            "ingrese c para cargar cliente\n",
            " p para cargar pedido\n",
            " v para ver data de cliente o de pedidos\n",
            " vcp para ver pedidos por clientes\n",
            " \n"
          ]
        }
      ],
      "source": [
        "# https://github.com/al34n1x/DataScience/blob/master/1.Intro/appendix.Ejercicios_Diccionario_Archivos.ipynb\n",
        "\n",
        "import csv\n",
        "\n",
        "clientesPath = './clientesDB.csv'\n",
        "pedidosPath = './pedidosDB.csv'\n",
        "fieldnamesClientes = ['idCliente','razon_social','cuit','direccion']\n",
        "fieldnamesPedidos = ['idPedido','producto','cantidad']\n",
        "\n",
        "def ultimaID(path):\n",
        "  try:\n",
        "    row = 1\n",
        "    with open(path, mode = 'r') as f:\n",
        "      reader = csv.DictReader(f, delimiter = ',')\n",
        "      for line in reader:\n",
        "        row += 1\n",
        "  except FileNotFoundError:\n",
        "    row = 1\n",
        "  return row\n",
        "\n",
        "\n",
        "\n",
        "def cargaClientes():\n",
        "    dic = {}\n",
        "    print(\"ingrese los datos del user\")\n",
        "    dic['idCliente'] = ultimaID(clientesPath)\n",
        "    dic['razon_social'] = input(\"Razon Social: \")\n",
        "    dic['cuit'] = input(\"Cuit: \")\n",
        "    dic['direccion'] = input(\"Direccion: \")\n",
        "\n",
        "    return dic\n",
        "\n",
        "def escribirDict(path,dict,fieldnames):\n",
        "    if dict == 0:\n",
        "        print('Error')\n",
        "        return 0\n",
        "    with open(path,'a',newline='') as f:\n",
        "        writer = csv.DictWriter(f,fieldnames=fieldnames)\n",
        "        if f.tell() == 0:  #file.tell() devuelve la posicion actual del archivo, si es igual a 0 es porq no tiene header\n",
        "            writer.writeheader()\n",
        "        writer.writerow(dict)\n",
        "\n",
        "def buscarIdCliente(id):\n",
        "        file = csv.DictReader(open(clientesPath))\n",
        "        for row in file:\n",
        "            if row['idCliente'] == id:\n",
        "                return True  \n",
        "        return False\n",
        "\n",
        "def cargaPedido():\n",
        "    dic = {}\n",
        "    dic['idPedido'] = input('idPedido: ')\n",
        "    if not buscarIdCliente(dic['idPedido']):\n",
        "        print('no se encontro el ID de cliente: ' + dic['idPedido'])\n",
        "        return 0\n",
        "    dic['producto'] = input('Producto: ')\n",
        "    dic['cantidad'] = input('Cantidad: ')\n",
        "    return dic\n",
        "\n",
        "def buscarCliente():\n",
        "    while True: \n",
        "        busqueda = input(\"1: Buscar por Razón Social\\n2: Buscar por CUIT\\n3: Buscar por dirección\\n\") \n",
        "        if busqueda == \"1\":\n",
        "            claveBusqueda = \"razon_social\"\n",
        "            datoBusqueda = input(\"Ingrese la Razón Social:\\n\")\n",
        "            devuelveCliente(claveBusqueda, datoBusqueda)\n",
        "            break\n",
        "        elif busqueda == \"2\":\n",
        "            claveBusqueda = \"cuit\"\n",
        "            datoBusqueda = input(\"Ingrese el número de CUIT:\\n\")\n",
        "            devuelveCliente(claveBusqueda, datoBusqueda)\n",
        "            break\n",
        "        elif busqueda == \"3\":\n",
        "            claveBusqueda = \"direccion\"\n",
        "            datoBusqueda = input(\"Ingrese el número de CUIT:\\n\")\n",
        "            devuelveCliente(claveBusqueda, datoBusqueda)\n",
        "            break\n",
        "        else:\n",
        "            print(\"Ingresó un número erróneo\")\n",
        "\n",
        "def devuelveCliente(claveBusqueda, datoBusqueda):            \n",
        "    with open(clientesPath, mode='r') as csv_file:\n",
        "        csv_reader = csv.DictReader(csv_file)\n",
        "        \n",
        "        for row in csv_reader:\n",
        "            if row[claveBusqueda] == datoBusqueda:\n",
        "                print(row)\n",
        "\n",
        "def buscarPedido():\n",
        "    while True: \n",
        "        busqueda = input(\"1: Buscar por ID\\n2: Pedido\\n3: Cantidad\\n\") \n",
        "        if busqueda == \"1\":\n",
        "            claveBusqueda = \"idPedido\"\n",
        "            datoBusqueda = input(\"Ingrese ID:\\n\")\n",
        "            devuelvePedido(claveBusqueda, datoBusqueda)\n",
        "            break\n",
        "        elif busqueda == \"2\":\n",
        "            claveBusqueda = \"producto\"\n",
        "            datoBusqueda = input(\"Producto:\\n\")\n",
        "            devuelvePedido(claveBusqueda, datoBusqueda)\n",
        "            break\n",
        "        elif busqueda == \"3\":\n",
        "            claveBusqueda = \"cantidad\"\n",
        "            datoBusqueda = input(\"Cantidad:\\n\")\n",
        "            devuelvePedido(claveBusqueda, datoBusqueda)\n",
        "            break\n",
        "        else:\n",
        "            print(\"Ingresó un número erróneo\")\n",
        "\n",
        "def devuelvePedido(claveBusqueda, datoBusqueda):            \n",
        "    with open(pedidosPath, mode='r') as csv_file:\n",
        "        csv_reader = csv.DictReader(csv_file)\n",
        "        \n",
        "        for row in csv_reader:\n",
        "            if row[claveBusqueda] == datoBusqueda:\n",
        "                print(row)\n",
        "\n",
        "def mostrarTablas():\n",
        "    import csv\n",
        "    # se pide ingresar la opcion a visualizar, para clientes 1, para pedidos 2\n",
        "    n=int(input('si desea ver los Clientes ingrese 1, si desea ver los Pedidos ingrese 2: '))\n",
        "    if n==1:\n",
        "        ruta = './clientesDB.csv'\n",
        "    elif n==2:\n",
        "        ruta = './pedidosDB.csv'\n",
        "    else:\n",
        "        print(\"ingrese una opcion valida\")\n",
        "    with open(ruta, newline='') as csvfile:\n",
        "        reader = csv.reader(csvfile, delimiter=',', quotechar='\"')\n",
        "        for row in reader:\n",
        "            print(', '.join(row))\n",
        "\n",
        "\n",
        "def buscarPedido():\n",
        "\n",
        "    claveBusqueda = input(\"Ingrese la Razón Social: \") \n",
        "    with open(clientesPath, mode='r') as csv_file:\n",
        "      csv_reader = csv.DictReader(csv_file)\n",
        "      for row in csv_reader:\n",
        "          if row['razon_social'] == claveBusqueda:\n",
        "            datoBusqueda = row['idCliente']\n",
        "\n",
        "\n",
        "    devuelvePedido(datoBusqueda)\n",
        "    \n",
        "def devuelvePedido(datoBusqueda):            \n",
        "    with open(pedidosPath, mode='r') as csv_file:\n",
        "        csv_reader = csv.DictReader(csv_file)\n",
        "        \n",
        "        for row in csv_reader:\n",
        "            if row['idPedido'] == datoBusqueda:\n",
        "                print(f'El producto es {row[\"producto\"]}, cantidad: {row[\"cantidad\"]}')\n",
        "\n",
        "def main():\n",
        "    while True:\n",
        "        userInput = input(\"ingrese c para cargar cliente\\n p para cargar pedido\\n v para ver data de cliente o de pedidos\\n vcp para ver pedidos por clientes\\n \")\n",
        "        if( userInput == 'c'):\n",
        "                cliente = cargaClientes()\n",
        "                escribirDict(clientesPath,cliente,fieldnamesClientes)\n",
        "        elif(userInput == 'p'):\n",
        "            pedido = cargaPedido()\n",
        "            escribirDict(pedidosPath,pedido,fieldnamesPedidos)\n",
        "        elif(userInput == 'v'):\n",
        "            pedido = mostrarTablas()\n",
        "        elif userInput == 'vcp':\n",
        "            buscarPedido()\n",
        "        else:\n",
        "            break\n",
        "\n",
        "\n",
        "main()"
      ]
    },
    {
      "cell_type": "code",
      "source": [
        "from google.colab import drive\n",
        "drive.mount('/content/drive')"
      ],
      "metadata": {
        "colab": {
          "base_uri": "https://localhost:8080/"
        },
        "id": "UDN_PaIx0Xt4",
        "outputId": "1eee5cf1-7384-41ce-c07b-04fb8f857edf"
      },
      "execution_count": 7,
      "outputs": [
        {
          "output_type": "stream",
          "name": "stdout",
          "text": [
            "Mounted at /content/drive\n"
          ]
        }
      ]
    },
    {
      "cell_type": "markdown",
      "source": [
        "# Consignas del TP\n",
        "\n",
        "Ejercicios Diccionarios y archivos\n",
        "\n",
        "\n",
        "Una empresa de logística posee una base de clientes con la siguiente información:\n",
        "- idClient: (int)\n",
        "  - Razon Social: (string)\n",
        "  - cuit: (string)\n",
        "  - direccion: (string)\n",
        "\n",
        "\n",
        "Por otro lado, la empresa cuenta con una base de los pedidos realizados por los clientes, dicha base cuenta con la siguiente estructura:\n",
        "idPedido: (int)\n",
        "  - idCliente: (int)\n",
        "  - producto: (string)\n",
        "  - cantidad: (int)\n",
        "\n",
        "\n",
        "Completar los siguiente Ítems:\n",
        "1. Crear una función que permita la carga de clientes y los guarde en un archivo (Utilizar manejo de excepciones)\n",
        "2. Crear una función que permita la carga de pedidos y los guarde en un archivo (Utilizar manejo de excepciones)\n",
        "3. Crear una función que imprima por pantalla el listado de clientes.\n",
        "4. Crear una función que imprima por pantalla el listado de pedidos.\n",
        "5. [BONUS] Crear una función que le pase el id or razón social de un cliente y me liste todos los pedidos realizados.\n",
        "\n"
      ],
      "metadata": {
        "id": "TVZBpC0TL7dT"
      }
    },
    {
      "cell_type": "markdown",
      "source": [
        "## Importamos libreria csv y creamos las constantes"
      ],
      "metadata": {
        "id": "zLPnM_eVMKeL"
      }
    },
    {
      "cell_type": "code",
      "source": [
        "import csv\n",
        "\n",
        "clientesPath = './content/sample_data/clientesDB.csv'\n",
        "pedidosPath = './pedidosDB.csv'\n",
        "fieldnamesClientes = ['idClient','Razon Social','Cuit','Direccion']\n",
        "fieldnamesPedidos = ['idPedido','Producto','Cantidad']"
      ],
      "metadata": {
        "id": "7FbLeqCCL675"
      },
      "execution_count": null,
      "outputs": []
    },
    {
      "cell_type": "markdown",
      "source": [
        "## Función `ultimaID(path)`\n",
        "\n",
        "Toma como parámetro el path del archivo a trabajar. \n",
        "\n",
        "Realiza la suma de todas las líneas recorriendo el `csv` con lo que la suma de `row` es el último `id` se de cliente o pedidos. "
      ],
      "metadata": {
        "id": "OtOjVeyAMYOj"
      }
    },
    {
      "cell_type": "code",
      "source": [
        "def ultimaID(path):\n",
        "  try:\n",
        "    row = 1\n",
        "    with open(path, mode = 'r') as f:\n",
        "      reader = csv.DictReader(f, delimiter = ',')\n",
        "      for line in reader:\n",
        "        row += 1\n",
        "  except FileNotFoundError:\n",
        "    row = 1\n",
        "  return row\n"
      ],
      "metadata": {
        "id": "yg9f48ksMZIK"
      },
      "execution_count": null,
      "outputs": []
    },
    {
      "cell_type": "markdown",
      "source": [
        "## Función `cargaClientes()`\n",
        "Empieza definiendo un diccionario vacio y \n",
        "- adjudica a idCliente el valor \n",
        "\n",
        "- Pide los datos del `csv` de los clientes\n",
        "  - Razón Social\n",
        "  - Cuit\n",
        "  - Dirección"
      ],
      "metadata": {
        "id": "Jj_DViX8NqF5"
      }
    },
    {
      "cell_type": "code",
      "source": [
        "def cargaClientes():\n",
        "    dic = {}\n",
        "    print(\"ingrese los datos del user\")\n",
        "    dic['idClient'] = ultimaID(clientesPath)\n",
        "    dic['Razon Social'] = input(\"Razon Social: \")\n",
        "    dic['Cuit'] = input(\"Cuit: \")\n",
        "    dic['Direccion'] = input(\"Direccion: \")\n",
        "\n",
        "    return dic"
      ],
      "metadata": {
        "id": "bV9NoXWnNqnS"
      },
      "execution_count": null,
      "outputs": []
    },
    {
      "cell_type": "markdown",
      "source": [
        "## Función `escribirDict(path,dict,fieldnames)`\n",
        "\n",
        "Toma como parámetros\n",
        "- `path` es el path correspondiente al archivo en donde se va a grabar el `csv` \n",
        "- `dict` es el diccionario que toma los datos para generar el `csv``\n",
        "- `fieldnames` es una lista con los nombres de campos que van a ser el encabezado del csv\n",
        "\n",
        "Se realiza una primer verificación que imprime `Error` si no existe el diccionario pasado como parámetro.\n",
        "\n",
        "Utiliza el método `.tell()` para verificar si existe el encabezado o no.\n",
        "\n",
        "Agrega los datos del diccionario al `csv`"
      ],
      "metadata": {
        "id": "-DDuBohUPNb_"
      }
    },
    {
      "cell_type": "code",
      "source": [
        "def escribirDict(path,dict,fieldnames):\n",
        "    if dict == 0:\n",
        "        print('Error')\n",
        "        return 0\n",
        "    with open(path,'a',newline='') as f:\n",
        "        writer = csv.DictWriter(f,fieldnames=fieldnames)\n",
        "        if f.tell() == 0:  #file.tell() devuelve la posicion actual del archivo, si es igual a 0 es porq no tiene header\n",
        "            writer.writeheader()\n",
        "        writer.writerow(dict)"
      ],
      "metadata": {
        "id": "HuWDhE2OPODB"
      },
      "execution_count": null,
      "outputs": []
    },
    {
      "cell_type": "markdown",
      "source": [
        "## Función `buscaIdCliente(id)`\n",
        "\n",
        "Toma el parámetro id.\n",
        "\n",
        "Pasa los datos del `csv` a una variable abierto como diccionario y recorre las filas cotejando si idCliente es igual al ingresado como parámetro.\n",
        "\n",
        "Devuelve `True` o `False`\n"
      ],
      "metadata": {
        "id": "Syn21OE-Sjdt"
      }
    },
    {
      "cell_type": "code",
      "source": [
        "def buscarIdCliente(id):\n",
        "        file = csv.DictReader(open(clientesPath))\n",
        "        for row in file:\n",
        "            if row['idClient'] == id:\n",
        "                return True\n",
        "        \n",
        "        return False"
      ],
      "metadata": {
        "id": "pYMDgC4USkM3"
      },
      "execution_count": null,
      "outputs": []
    },
    {
      "cell_type": "markdown",
      "source": [
        "## Función `cargaPedido()`\n",
        "\n",
        "Empieza definiendo un diccionario vacio y \n",
        "- adjudica a idPedido el valor ingresado por el usuario\n",
        "\n",
        "- Utiliza la función `buscarIdCliente`que toma como parámetro el `idPedido`\n",
        "    \n",
        "- Ingreso por el usuario de\n",
        "  - `Producto`\n",
        "  - `Cantidad`\n",
        "\n",
        "Devuelve el diccionario"
      ],
      "metadata": {
        "id": "j8CaHz6HTgmH"
      }
    },
    {
      "cell_type": "code",
      "source": [
        "def cargaPedido():\n",
        "    dic = {}\n",
        "    dic['idPedido'] = input('idPedido: ')\n",
        "    if not buscarIdCliente(dic['idPedido']):\n",
        "        print('no se encontro el ID de cliente: ' + dic['idPedido'])\n",
        "        return 0\n",
        "    dic['Producto'] = input('Producto: ')\n",
        "    dic['Cantidad'] = input('Cantidad: ')\n",
        "\n",
        "    return dic"
      ],
      "metadata": {
        "id": "j1WIfzbzTgLP"
      },
      "execution_count": null,
      "outputs": []
    },
    {
      "cell_type": "markdown",
      "source": [
        "## Funcion de búsqueda de pedidos"
      ],
      "metadata": {
        "id": "NryM47mfgh6E"
      }
    },
    {
      "cell_type": "code",
      "source": [
        "def mostrarTablas():\n",
        "    import csv\n",
        "    # se pide ingresar la opcion a visualizar, para clientes 1, para pedidos 2\n",
        "    n=int(input('si desea ver los Clientes ingrese 1, si desea ver los Pedidos ingrese 2: '))\n",
        "    if n==1:\n",
        "        ruta = './clientesDB.csv'\n",
        "    elif n==2:\n",
        "        ruta = './pedidosDB.csv'\n",
        "    else:\n",
        "        print(\"ingrese una opcion valida\")\n",
        "    with open(ruta, newline='') as csvfile:\n",
        "        reader = csv.reader(csvfile, delimiter=',', quotechar='\"')\n",
        "        for row in reader:\n",
        "            print(', '.join(row))\n"
      ],
      "metadata": {
        "id": "7fOCEMcp-K4J"
      },
      "execution_count": null,
      "outputs": []
    },
    {
      "cell_type": "markdown",
      "source": [
        "## Buscar Pedido según Razón Social"
      ],
      "metadata": {
        "id": "7BiAdzheuJ6c"
      }
    },
    {
      "cell_type": "code",
      "source": [
        "def buscarPedido():\n",
        "\n",
        "    claveBusqueda = input(\"Ingrese la Razón Social: \") \n",
        "    with open(clientesPath, mode='r') as csv_file:\n",
        "      csv_reader = csv.DictReader(csv_file)\n",
        "      for row in csv_reader:\n",
        "          if row['razon_social'] == claveBusqueda:\n",
        "            datoBusqueda = row['idClient']\n",
        "\n",
        "    devuelvePedido(datoBusqueda)\n",
        "    "
      ],
      "metadata": {
        "id": "qMNCvi1huJoM"
      },
      "execution_count": null,
      "outputs": []
    },
    {
      "cell_type": "code",
      "source": [
        "def devuelvePedido(datoBusqueda):            \n",
        "    with open(pedidosPath, mode='r') as csv_file:\n",
        "        csv_reader = csv.DictReader(csv_file)\n",
        "        \n",
        "        for row in csv_reader:\n",
        "            if row['idPedido'] == datoBusqueda:\n",
        "                print(f'El producto es {row[\"producto\"]}, cantidad: {row[\"cantidad\"]}')\n"
      ],
      "metadata": {
        "id": "8SonIb_WvmfA"
      },
      "execution_count": null,
      "outputs": []
    },
    {
      "cell_type": "markdown",
      "source": [
        "## Función `main()`\n",
        "\n",
        "Permite que usuario ingrese la opción para agregar cliente, pedido o ver resultado de búsqueda por cliente / pedido.\n",
        "\n",
        "\n"
      ],
      "metadata": {
        "id": "ZufcBB1JWn_w"
      }
    },
    {
      "cell_type": "code",
      "source": [
        "def main():\n",
        "    while True:\n",
        "        userInput = input(\"ingrese c para cargar cliente, p para cargar pedido, vc para ver el data de cliente o vp para ver data de pedidos\")\n",
        "        if( userInput == 'c'):\n",
        "                cliente = cargaClientes()\n",
        "                escribirDict(clientesPath,cliente,fieldnamesClientes)\n",
        "        elif(userInput == 'p'):\n",
        "            pedido = cargaPedido()\n",
        "            escribirDict(pedidosPath,pedido,fieldnamesPedidos)\n",
        "        elif(userInput == 'vc'):\n",
        "            pedido = buscarCliente()\n",
        "        elif(userInput == 'vp'):\n",
        "            pedido = buscarPedido()\n",
        "        else:\n",
        "            break"
      ],
      "metadata": {
        "id": "2vO7bvTuWnt5"
      },
      "execution_count": null,
      "outputs": []
    }
  ],
  "metadata": {
    "colab": {
      "collapsed_sections": [
        "Jj_DViX8NqF5",
        "-DDuBohUPNb_"
      ],
      "name": "Definitivo Clase8 Ejercicio.ipynb",
      "provenance": [],
      "include_colab_link": true
    },
    "kernelspec": {
      "display_name": "Python 3",
      "name": "python3"
    },
    "language_info": {
      "name": "python"
    }
  },
  "nbformat": 4,
  "nbformat_minor": 0
}