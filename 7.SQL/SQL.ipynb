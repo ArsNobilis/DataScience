{
  "nbformat": 4,
  "nbformat_minor": 0,
  "metadata": {
    "colab": {
      "name": "9.SQL.ipynb",
      "provenance": [],
      "collapsed_sections": []
    },
    "kernelspec": {
      "name": "python3",
      "display_name": "Python 3"
    },
    "language_info": {
      "name": "python"
    }
  },
  "cells": [
    {
      "cell_type": "markdown",
      "source": [
        "# SQL - Conceptos generales"
      ],
      "metadata": {
        "id": "Z1a7D7BEQTje"
      }
    },
    {
      "cell_type": "markdown",
      "source": [
        "Las bases de datos SQL generalmente operan con el modelo cliente-servidor. \n",
        "Se cuenta con un servidor de BD donde se accede a la información y se ejecutan las instrucciones, y el/los cliente/s se conectan mediante una interfaz a través de la cual le envían peticiones y reciben las respuestas.\n",
        "\n",
        "\n",
        "SQLite es Open Source y se ha instalado por defecto con Python, es decir forma parte de la biblioteca estándar, no tenemos que instalar ningún módulo con pip. \n",
        "\n",
        "Al utilizar SQLite no hay necesidad de tener un servidor externo corriendo, lo que simplifica la implementación de los ejemplos que aquí veremos, ya que en caso contrario, deberíamos primero instalar un servidor de base de datos en nuestra computadora, crear las tablas allí y luego conectarnos usando un **conector** (todas las bases de datos proveen los conectores para todos los lenguajes de programación que soportan), por ejemplo si estamos programando en python y queremos conectarnos a una base de datos MySql, debemos descargar primero el conector que a día de hoy (9/6/22) está en la versión \"Connector/Python 8.0.29\": https://dev.mysql.com/downloads/connector/python/\n",
        "\n"
      ],
      "metadata": {
        "id": "bGyzCm1iRJXr"
      }
    },
    {
      "cell_type": "markdown",
      "source": [
        "# 4 conceptos de bases de datos relacionales\n",
        "\n",
        "Para realizar operaciones en una base de datos relacional es importante conocer los siguientes conceptos: DDL, DML, DCL y TCL\n",
        "\n",
        "Definamos cada uno y luego vayamos avanzando sobre ejemplos prácticos.\n",
        "\n"
      ],
      "metadata": {
        "id": "SVUIi0fKS_b9"
      }
    },
    {
      "cell_type": "markdown",
      "source": [
        "# DDL (Data Definition Language) \n",
        "\n",
        "Este lenguaje permite crear las estructuras que almacenarán los datos.\n",
        "\n",
        "Operaciones soportadas por DDL:\n",
        "- CREATE: Utilizado para crear nuevas tablas, campos e índices.\n",
        "- ALTER: Utilizado para modificar las tablas agregando campos o cambiando la definición de los campos.\n",
        "- DROP: Empleado para eliminar tablas e índices.\n",
        "- TRUNCATE: Empleado para eliminar todos los registros de una tabla.\n",
        "- COMMENT: Utilizado para agregar comentarios al diccionario de datos.\n",
        "- RENAME: Tal como su nombre lo indica es utilizado para renombrar objetos.\n",
        "\n"
      ],
      "metadata": {
        "id": "wiYwqLFRUg4L"
      }
    },
    {
      "cell_type": "markdown",
      "source": [
        "# DML (Data Manipulation Language)\n",
        "\n",
        "Este lenguaje permite realizar diferentes acciones a los datos que se encuentran en una base de datos.\n",
        "Permite recuperar, almacenar, modificar, eliminar, insertar y actualizar datos de una base de datos. Es lo que más a menudo vamos a estar utilizando.\n",
        "\n",
        "Operaciones soportadas por DML:\n",
        "- SELECT: Utilizado para consultar registros de la base de datos que satisfagan un criterio determinado.\n",
        "- INSERT: Utilizado para cargar de datos en la base de datos en una única operación.\n",
        "- UPDATE: Utilizado para modificar los valores de los campos y registros especificados\n",
        "- DELETE: Utilizado para eliminar registros de una tabla de una base de datos."
      ],
      "metadata": {
        "id": "wc1IpF4KUsWY"
      }
    },
    {
      "cell_type": "markdown",
      "source": [
        "# DCL (Data Control Language)\n",
        "\n",
        "Este lenguaje permite crear roles, permisos e integridad referencial, así como el control al acceso a la base de datos.\n",
        "\n",
        "Operaciones soportadas por DCL:\n",
        "- GRANT: Usado para otorgar privilegios de acceso de usuario a la base de datos.\n",
        "- REVOKE: Utilizado para retirar privilegios de acceso otorgados con el comando GRANT.\n"
      ],
      "metadata": {
        "id": "EAL4QjPQVNge"
      }
    },
    {
      "cell_type": "markdown",
      "source": [
        "# TCL (Transactional Control Language)\n",
        "\n",
        "Permite administrar diferentes transacciones que ocurren dentro de una base de datos.\n",
        "\n",
        "Operaciones soportadas por TCL:\n",
        "- COMMIT: Empleado para persistir en la base de datos el trabajo hecho.\n",
        "- ROLLBACK: Utilizado para deshacer la modificación que hice desde el último COMMIT.\n"
      ],
      "metadata": {
        "id": "5dwZOkb1VhV_"
      }
    },
    {
      "cell_type": "markdown",
      "source": [
        "\n",
        "\n",
        "---\n",
        "\n",
        "Comencemos creando una instancia de SQLite:"
      ],
      "metadata": {
        "id": "Tz-sRWnCWot8"
      }
    },
    {
      "cell_type": "markdown",
      "source": [
        "Para crear o abrir una conexión con una base de datos existente debemos llamar a la función 'connect' del módulo 'sqlite3' y luego abrir una conexion a una base de datos"
      ],
      "metadata": {
        "id": "EEbCtEumXwRC"
      }
    },
    {
      "cell_type": "code",
      "source": [
        "import sqlite3"
      ],
      "metadata": {
        "id": "yG1Otc8DX0zh"
      },
      "execution_count": null,
      "outputs": []
    },
    {
      "cell_type": "markdown",
      "source": [
        "Valiendonos del Lenguaje DDL podemos comenzar a crear las tablas que nuestra base de datos contendrá.\n",
        "\n",
        "Por ejemplo vamos a crear una tabla de Clientes y otra tabla de Articulos.\n",
        "\n",
        "![image.png](data:image/png;base64,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)\n",
        "\n",
        "Creación de la primer tabla:"
      ],
      "metadata": {
        "id": "hUmzKvLxYCaF"
      }
    },
    {
      "cell_type": "markdown",
      "source": [
        "Tipos de datos de SQLite:\n",
        "\n",
        "\n",
        "- NULL. The value is a NULL value.\n",
        "\n",
        "- INTEGER. The value is a signed integer, stored in 0, 1, 2, 3, 4, 6, or 8 bytes depending on the magnitude of the value.\n",
        "\n",
        "- REAL. The value is a floating point value, stored as an 8-byte IEEE floating point number.\n",
        "\n",
        "- TEXT. The value is a text string, stored using the database encoding (UTF-8, UTF-16BE or UTF-16LE).\n",
        "\n",
        "- BLOB. The value is a blob of data, stored exactly as it was input.\n",
        "\n",
        "**Tipos de datos para fechas**\n",
        "\n",
        "SQLite no tiene un formato específico para fechas, pero las built-in functions de SQLite permiten guardar fecha en cualquiera de los siguientes 3 formatos:\n",
        "\n",
        "- TEXT as ISO8601 strings (\"YYYY-MM-DD HH:MM:SS.SSS\").\n",
        "\n",
        "- REAL as Julian day numbers, the number of days since noon in Greenwich on November 24, 4714 B.C. according to the proleptic Gregorian calendar.\n",
        "\n",
        "- INTEGER as Unix Time, the number of seconds since 1970-01-01 00:00:00 UTC. "
      ],
      "metadata": {
        "id": "c0q7ghyU0XFJ"
      }
    },
    {
      "cell_type": "code",
      "source": [
        "connection=sqlite3.connect(\"Diplo_DB.db\") # Al ejecutar esta linea por primera vez creara la base de datos en la misma ubicación que nuestro script.\n",
        "# Las veces sucesivas, solo se conectará.\n",
        "\n",
        "try:\n",
        "    connection.execute(\"\"\"CREATE TABLE Clientes (\n",
        "                            ClienteID INTEGER PRIMARY KEY AUTOINCREMENT,\n",
        "                            Nombre TEXT,\n",
        "                            Direccion TEXT,\n",
        "                            Ciudad TEXT,\n",
        "                            CP INTEGER,\n",
        "                            Pais TEXT\n",
        "                        )\"\"\")\n",
        "    print('Tabla Clientes creada')\n",
        "except sqlite3.OperationalError:\n",
        "    print(\"Error al crear la tabla\")\n",
        "connection.close() # Luego de ejecutar las instrucciones, es una buena práctica siempre cerrar la conexión."
      ],
      "metadata": {
        "id": "wtafMzwFWtaN"
      },
      "execution_count": null,
      "outputs": []
    },
    {
      "cell_type": "markdown",
      "source": [
        "Más adelante veremos la utilidad de utilizar primary keys."
      ],
      "metadata": {
        "id": "Mf9i3h9VWJET"
      }
    },
    {
      "cell_type": "markdown",
      "source": [
        "Creación de la segunda tabla:\n",
        "\n",
        "¿Qué tiene de raro? ¿Qué cambiarían?"
      ],
      "metadata": {
        "id": "fDfmNT-YaAlM"
      }
    },
    {
      "cell_type": "code",
      "source": [
        "connection=sqlite3.connect(\"Diplo_DB.db\") # Al ejecutar esta linea por primera vez creara la base de datos en la misma ubicación que nuestro script.\n",
        "# Las veces sucesivas, solo se conectará.\n",
        "\n",
        "try:\n",
        "    connection.execute(\"\"\"CREATE TABLE Articulos (\n",
        "                            ArticuloID INTEGER PRIMARY KEY AUTOINCREMENT,\n",
        "                            Descripcion TEXT,\n",
        "                            Precio INTEGER\n",
        "                          )\"\"\")\n",
        "    print('Tabla Articulos creada')\n",
        "except sqlite3.OperationalError:\n",
        "    print(\"Error al crear la tabla\")\n",
        "connection.close()"
      ],
      "metadata": {
        "id": "OoXSnHx5Y-YZ"
      },
      "execution_count": null,
      "outputs": []
    },
    {
      "cell_type": "markdown",
      "source": [
        "Lamentablemente, al día de hoy, por el modo de funcionamiento interno de este ligero motor de bases de datos, SQLite actualmente no soporta el comando de SQL \"ALTER COLUMN\"\n",
        "\n",
        "Acá podemos ver el listado completo de funcionalidades SQL aún no soportadas https://www.sqlite.org/omitted.html\n",
        "\n",
        "![image.png](data:image/png;base64,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)\n",
        "\n"
      ],
      "metadata": {
        "id": "jg4tRzIzaJSA"
      }
    },
    {
      "cell_type": "markdown",
      "source": [
        "Lo bueno, es que fiel al estilo python, las columnas no son fuertemente tipadas, por lo que nos permitirá asignar valores reales a la columna que fue definida como \"integer\".\n",
        "\n",
        "Pero ojo, esto no es una buena práctica, ya que solo funcionará con este motor de bases de datos, pero en cualquier otro, no nos permitirá hacer este cambio, por lo que para mantener la consistencia entre la definición y los datos, vamos a simplemente eliminar la tabla y volver a definirla correctamente."
      ],
      "metadata": {
        "id": "KR58QNHXb84T"
      }
    },
    {
      "cell_type": "code",
      "source": [
        "connection=sqlite3.connect(\"Diplo_DB.db\")\n",
        "try:\n",
        "    connection.execute(\"\"\"DROP TABLE Articulos\"\"\")\n",
        "    print('Tabla Articulos eliminada')\n",
        "except sqlite3.OperationalError:\n",
        "    print(\"La operación no pude realizarse\")\n",
        "connection.close()"
      ],
      "metadata": {
        "id": "6rdO-hr9aMSM"
      },
      "execution_count": null,
      "outputs": []
    },
    {
      "cell_type": "code",
      "source": [
        "connection=sqlite3.connect(\"Diplo_DB.db\")\n",
        "try:\n",
        "    connection.execute(\"\"\"CREATE TABLE Articulos (\n",
        "                            ArticuloID INTEGER PRIMARY KEY AUTOINCREMENT,\n",
        "                            Descripcion TEXT,\n",
        "                            Precio REAL\n",
        "                        )\"\"\")\n",
        "    print('Tabla Articulos creada')\n",
        "except sqlite3.OperationalError:\n",
        "    print(\"Error al crear la tabla\")\n",
        "connection.close()"
      ],
      "metadata": {
        "id": "DytjukV6dRTG"
      },
      "execution_count": null,
      "outputs": []
    },
    {
      "cell_type": "markdown",
      "source": [
        "En este punto tenemos dos tablas en nuestra base de datos, ambas aún sin elementos. \n",
        "\n",
        "Empecemos cargando articulos a la tabla correspondiente.\n",
        "\n",
        "**¿Qué sentencia habría que usar?**"
      ],
      "metadata": {
        "id": "8oLE-LKZZV9U"
      }
    },
    {
      "cell_type": "code",
      "source": [
        "connection=sqlite3.connect(\"Diplo_DB.db\")\n",
        "cursor = connection.cursor()\n",
        "cursor.execute('''INSERT INTO Articulos(Descripcion, Precio) \n",
        "              VALUES ('Resma A4', 148.0)''')\n",
        "cursor.execute('''INSERT INTO Articulos(Descripcion, Precio)\n",
        "              VALUES ('Resma Oficio', 150.0)''')\n",
        "cursor.execute('''INSERT INTO Articulos(Descripcion, Precio) \n",
        "              VALUES ('Resma Carta', 149.0)''')\n",
        "cursor.execute('''INSERT INTO Articulos(Descripcion, Precio)\n",
        "              VALUES ('Teclado', 1150.50)''')\n",
        "cursor.execute('''INSERT INTO Articulos(Descripcion, Precio)\n",
        "              VALUES ('Mouse', 848.0)''')\n",
        "cursor.execute('''INSERT INTO Articulos(Descripcion, Precio)\n",
        "              VALUES ('Lapicera azul BIC', 110.0)''')\n",
        "cursor.execute('''INSERT INTO Articulos(Descripcion, Precio)\n",
        "              VALUES ('Carpeta Oficio', 750.0)''')\n",
        "cursor.execute('''INSERT INTO Articulos(Descripcion, Precio)\n",
        "              VALUES ('Goma de borrar', 150.75)''')\n",
        "cursor.execute('''INSERT INTO Articulos(Descripcion, Precio)\n",
        "              VALUES ('Corrector líquido', 290)''')\n",
        "cursor.execute('''INSERT INTO Articulos(Descripcion, Precio)\n",
        "              VALUES ('Repuesto agenda 2022', 780.75)''')\n",
        "cursor.execute('''INSERT INTO Articulos(Descripcion, Precio)\n",
        "              VALUES ('Lapiz negro', 89)''')\n",
        "cursor.execute('''INSERT INTO Articulos(Descripcion, Precio)\n",
        "              VALUES ('Goma de borrar', 97)''')\n",
        "connection.commit() # Hacemos commit para persistir los cambios en la base\n",
        "print('Cambios insertados')\n",
        "cursor.close()\n",
        "connection.close()"
      ],
      "metadata": {
        "id": "OWnLzy7SfDaW"
      },
      "execution_count": null,
      "outputs": []
    },
    {
      "cell_type": "markdown",
      "source": [
        "Antes de seguir insertando datos vamos a ver cómo va quedando la tabla. Para esto tenemos que usar otra sentencia de DML. \n",
        "\n",
        "**¿Cuál era?**"
      ],
      "metadata": {
        "id": "juSTeS0vinPZ"
      }
    },
    {
      "cell_type": "code",
      "source": [
        "connection=sqlite3.connect(\"Diplo_DB.db\")\n",
        "cursor = connection.cursor()\n",
        "cursor.execute('''SELECT * from Articulos''') #Este cursor recibirá una lista que tendrá cada uno de los elementos de la tabla\n",
        "# en este caso las columnas pedidas son * es decir \"TODAS\"\n",
        "result = cursor.fetchall(); #con fetchall me cargará en la variable result TODOS los elementos que haya leido el cursor\n",
        "print(f'Cantidad de elementos leídos: {len(result)}')\n",
        "print(f'Listado de elementos: {result}')\n",
        "cursor.close()\n",
        "connection.close()"
      ],
      "metadata": {
        "id": "4nyf6mMph4B7"
      },
      "execution_count": null,
      "outputs": []
    },
    {
      "cell_type": "markdown",
      "source": [
        "¿Por qué muestra por cada artículo 3 datos?"
      ],
      "metadata": {
        "id": "8WAjkFbGkV2g"
      }
    },
    {
      "cell_type": "markdown",
      "source": [
        "¿Y si quisiera mostrar únicamente los nombres de los artículos?"
      ],
      "metadata": {
        "id": "maSqsWC1j7Ls"
      }
    },
    {
      "cell_type": "code",
      "source": [
        "connection=sqlite3.connect(\"Diplo_DB.db\")\n",
        "cursor = connection.cursor()\n",
        "cursor.execute('''SELECT Descripcion from Articulos''') #Este cursor recibirá una lista que tendrá cada uno de los elementos de la tabla\n",
        "# en este caso las columnas pedidas son * es decir \"TODAS\"\n",
        "result = cursor.fetchall(); #con fetchall me cargará en la variable result TODOS los elementos que haya leido el cursor\n",
        "print(f'Cantidad de elementos leídos: {len(result)}')\n",
        "print(f'Listado de elementos: {result}')\n",
        "cursor.close()\n",
        "connection.close()"
      ],
      "metadata": {
        "id": "gbTYq8Srj-5q"
      },
      "execution_count": null,
      "outputs": []
    },
    {
      "cell_type": "markdown",
      "source": [
        "¿Y si quisiera mostrar por ejemplo únicamente los \"nombres de los artículos cuyo valor supere los $500\"?\n",
        "\n",
        "Veamos más en detalle los posibles filtros que le podemos asignar a la cáusula SELECT."
      ],
      "metadata": {
        "id": "JPX2rTtVkfGc"
      }
    },
    {
      "cell_type": "markdown",
      "source": [
        "# Cláusula SELECT\n",
        "\n",
        "La instrucción SELECT se utiliza para seleccionar datos de una base de datos.\n",
        "\n",
        "Los datos devueltos se almacenan en una tabla de resultados.\n",
        "\n",
        "Cómo se puede entonces refinar la selección de datos, con las siguientes instrucciones. Y atención porque deben respetar el orden de ejecución con que las escribí:\n",
        "\n",
        "- FROM        -- Specify the tables to be queried\n",
        "- WHERE       -- Filter the returned rows\n",
        "- GROUP BY    -- Aggregate rows\n",
        "- HAVING      -- Filter the aggregates\n",
        "- SELECT      -- Specify the columns to show\n",
        "- ORDER BY    -- Order the returned rows\n",
        "- LIMIT       -- Limit the returned rows\n",
        "\n",
        "Sería erróneo por ejemplo intentar ejecutar \"FROM Tabla SELECT ...\" o \"SELECT Where ... FROM Tabla\".\n",
        "\n",
        "Así mismo, algunos operadores van de la mano con otros, también sería erróneo ejecutar: \"SELECT * FROM Tabla HAVING\" .El HAVING requerirá primero haber hecho un agrupamiento."
      ],
      "metadata": {
        "id": "a14KiIDgQXK8"
      }
    },
    {
      "cell_type": "markdown",
      "source": [
        "Para hacer un poco más sencilla la codificación de ahora en adelante y no copiar todo el tiempo las mismas líneas de código, voy a definir una funcion que reciba una cadena de texto y se encarge de iniciar la conexión, hacer la query, cerrar la conexión y devolver el resultado."
      ],
      "metadata": {
        "id": "Y7RXPXyUl-4P"
      }
    },
    {
      "cell_type": "code",
      "source": [
        "def query(query_a_ejecutar):\n",
        "  connection=sqlite3.connect(\"Diplo_DB.db\")\n",
        "  cursor = connection.cursor()\n",
        "  try: #Ya que está hago uso de try y catch para obtener una respuesta adecuada ante errores\n",
        "    cursor.execute(f'''{query_a_ejecutar}''')\n",
        "    result = cursor.fetchall()\n",
        "  except sqlite3.OperationalError:\n",
        "    print(\"Error al procesar la query\")\n",
        "    result = -1 #En caso de error devolverá el código de error -1\n",
        "  finally:\n",
        "    cursor.close()\n",
        "    connection.close()\n",
        "    return result"
      ],
      "metadata": {
        "id": "juRZy77imOdQ"
      },
      "execution_count": null,
      "outputs": []
    },
    {
      "cell_type": "markdown",
      "source": [
        "Para poder mostrar \"Los nombres y precios de los articulos cuyo valor sea superior a $500\" debo usar **condiciones**.\n",
        "\n",
        "Las condiciones son expresiones lógicas a comprobar para la condición de filtro, que tras su resolución devuelven para cada fila TRUE o FALSE, en función de que se cumplan o no. Se puede utilizar cualquier expresión lógica y en ella utilizar diversos operadores como:\n",
        "\n",
        "    > (Mayor)\n",
        "    >= (Mayor o igual)\n",
        "    < (Menor)\n",
        "    <= (Menor o igual)\n",
        "    = (Igual)\n",
        "    <> o != (Distinto)\n",
        "    IS [NOT] NULL (para comprobar si el valor de una columna es o no es nula, es decir, si contiene o no contiene algún valor)\n"
      ],
      "metadata": {
        "id": "pZ7s2kw5wwRR"
      }
    },
    {
      "cell_type": "code",
      "source": [
        "text = 'SELECT Descripcion, Precio FROM Articulos WHERE Precio > 500'\n",
        "print(query(text))"
      ],
      "metadata": {
        "id": "xzB1mv2Pmn_h"
      },
      "execution_count": null,
      "outputs": []
    },
    {
      "cell_type": "markdown",
      "source": [
        "Vemos que esto es una lista, entonces podríamos iterar para ver la información de manera más ordenada:"
      ],
      "metadata": {
        "id": "RB6MvdAp7xJ8"
      }
    },
    {
      "cell_type": "code",
      "source": [
        "resultado = query(text)\n",
        "\n",
        "for item in resultado:\n",
        "  print(item)"
      ],
      "metadata": {
        "id": "R82lF-gx722i"
      },
      "execution_count": null,
      "outputs": []
    },
    {
      "cell_type": "markdown",
      "source": [
        "¿Si quiero además ordenar por precio de menor a mayor?"
      ],
      "metadata": {
        "id": "JNeA6jTcom7n"
      }
    },
    {
      "cell_type": "code",
      "source": [
        "text = 'SELECT Descripcion, Precio FROM Articulos WHERE Precio > 500 ORDER BY Precio'\n",
        "print(query(text))"
      ],
      "metadata": {
        "id": "zjP0xA5YoaLT"
      },
      "execution_count": null,
      "outputs": []
    },
    {
      "cell_type": "markdown",
      "source": [
        "**Otros operadores**\n",
        "\n",
        "- LIKE: para la comparación de un modelo. Para ello utiliza los caracteres comodín especiales: “%” y “_”. Con el primero indicamos que en su lugar puede ir cualquier cadena de caracteres, y con el segundo que puede ir cualquier carácter individual (un solo carácter). \n",
        "\n",
        "Con la combinación de estos caracteres podremos obtener múltiples patrones de búsqueda. \n",
        "Por ejemplo:\n",
        "\n",
        "El nombre empieza por A: Nombre LIKE ‘A%’\n",
        "\n",
        "El nombre acaba por A: Nombre LIKE ‘%A’\n",
        "\n",
        "El nombre contiene la letra A: Nombre LIKE ‘%A%’\n",
        "\n",
        "El nombre empieza por A y después contiene un solo carácter cualquiera: Nombre LIKE ‘A_’\n",
        "\n",
        "El nombre empieza una A, después cualquier carácter, luego una E y al final cualquier cadena de caracteres: Nombre LIKE ‘A_E%’\n",
        "\n",
        "- BETWEEN: para un intervalo de valores. \n",
        "\n",
        "Por ejemplo:\n",
        "\n",
        "Clientes entre el 30 y el 100: CodCliente BETWEEN 30 AND 100\n",
        "\n",
        "Clientes nacidos entre 1970 y 1979: FechaNac BETWEEN ‘19700101’ AND ‘19791231’\n",
        "\n",
        "- IN( ): Para especificar una relación de valores concretos. \n",
        "\n",
        "Por ejemplo: Ventas de los Clientes 10, 15, 30 y 75: CodCliente IN(10, 15, 30, 75)\n",
        "\n",
        "Por supuesto es posible combinar varias condiciones simples de los operadores anteriores utilizando los operadores lógicos OR, AND y NOT, así como el uso de paréntesis para controlar la prioridad de los operadores (como en matemáticas). Por ejemplo:  … (Cliente = 100 AND Provincia = 30) OR Ventas > 1000 … que sería para los clientes de las provincias 100 y 30 o cualquier cliente cuyas ventas superen 1000."
      ],
      "metadata": {
        "id": "gBD4zNQtxHEH"
      }
    },
    {
      "cell_type": "code",
      "source": [
        "text = 'SELECT Descripcion, Precio FROM Articulos WHERE Precio BETWEEN 750 AND 1500'\n",
        "print(query(text))"
      ],
      "metadata": {
        "id": "Ww_xWvF6v7pj"
      },
      "execution_count": null,
      "outputs": []
    },
    {
      "cell_type": "code",
      "source": [
        "text = 'SELECT Descripcion, Precio FROM Articulos WHERE Descripcion LIKE \\'%Res%\\''\n",
        "print(query(text))"
      ],
      "metadata": {
        "id": "VOyoh93exznu"
      },
      "execution_count": null,
      "outputs": []
    },
    {
      "cell_type": "markdown",
      "source": [
        "Y no olvidemos que siempre nos vamos a poder valer de nuestros ya conocidos DataFrames de Pandas para visualizar la información de manera más bonita.\n",
        "\n",
        "Como siempre hay varias maneras de hacerlo:\n",
        "\n",
        "1° opción: Crear un DataFrame a partir del diccionario resultante de la query."
      ],
      "metadata": {
        "id": "o2fmLVpJ3qyX"
      }
    },
    {
      "cell_type": "code",
      "source": [
        "import pandas as pd\n",
        "df = pd.DataFrame(query(text)) \n",
        "df"
      ],
      "metadata": {
        "id": "aoY04d3v3yIJ"
      },
      "execution_count": null,
      "outputs": []
    },
    {
      "cell_type": "markdown",
      "source": [
        "2° opción: Utilizar el método integrado de pandas para leer desde una query"
      ],
      "metadata": {
        "id": "I2pRYgqE4ouw"
      }
    },
    {
      "cell_type": "code",
      "source": [
        "connection=sqlite3.connect(\"Diplo_DB.db\")\n",
        "df = pd.read_sql_query(\"SELECT Descripcion, Precio FROM Articulos\", connection)\n",
        "connection.close()\n",
        "df"
      ],
      "metadata": {
        "id": "-B5VnXTx4OwP"
      },
      "execution_count": null,
      "outputs": []
    },
    {
      "cell_type": "markdown",
      "source": [
        "De manera análoga podremos trabajar con Pandas y luego guardar el contenido del Dataframe en la base de datos:\n",
        "\n",
        "`df.to_sql(\"nombre_de_la_tabla\", connection, if_exists=\"replace\")`"
      ],
      "metadata": {
        "id": "S9vCU2W45PYQ"
      }
    },
    {
      "cell_type": "markdown",
      "source": [
        "# Cláusula UPDATE\n",
        "\n",
        "¿Y si ahora quisieramos actualizar el precio de algún producto?\n",
        "\n",
        "Por ejemplo quiero que las \"Resmas\" de cualquier tipo pasen a valer $350. Entonces tendremos que usar la cláusula **UPDATE**"
      ],
      "metadata": {
        "id": "bwHEpOKkzp-R"
      }
    },
    {
      "cell_type": "code",
      "source": [
        "def update(query_a_ejecutar):\n",
        "  connection=sqlite3.connect(\"Diplo_DB.db\")\n",
        "  cursor = connection.cursor()\n",
        "  try: #Ya que está hago uso de try y catch para obtener una respuesta adecuada ante errores\n",
        "    cursor.execute(f'''{query_a_ejecutar}''')\n",
        "    connection.commit() #Persisto el cambio en la base\n",
        "    print('Campo actualizado')\n",
        "    result = 1\n",
        "  except sqlite3.Error as error:\n",
        "    print(f'Error al actualizar: {error}')\n",
        "    result = -1 #En caso de error devolverá el código de error -1\n",
        "  finally:\n",
        "    cursor.close()\n",
        "    connection.close()\n",
        "    return result"
      ],
      "metadata": {
        "id": "XbiQYkCO1B9_"
      },
      "execution_count": null,
      "outputs": []
    },
    {
      "cell_type": "code",
      "source": [
        "text = 'UPDATE Articulos SET Precio = 350 WHERE Descripcion LIKE \\'%Resma%\\''\n",
        "update(text)"
      ],
      "metadata": {
        "id": "CV9VlDmszwIH"
      },
      "execution_count": null,
      "outputs": []
    },
    {
      "cell_type": "markdown",
      "source": [
        "Comprobemos los resultados"
      ],
      "metadata": {
        "id": "PN_cIUyu1-BU"
      }
    },
    {
      "cell_type": "code",
      "source": [
        "text = 'SELECT * FROM Articulos WHERE Descripcion LIKE \\'Resma%\\''\n",
        "resultado = query(text)\n",
        "for item in resultado:\n",
        "  print(item)"
      ],
      "metadata": {
        "id": "kQL9TMXjz6Wx"
      },
      "execution_count": null,
      "outputs": []
    },
    {
      "cell_type": "markdown",
      "source": [
        "\n",
        "\n",
        "---\n",
        "\n",
        "Ya vimos los principales usos de SELECT y UPDATE.\n",
        "\n",
        "Ahora completemos la tabla de clientes, que quedó vacía al principio."
      ],
      "metadata": {
        "id": "vEa8JDc45m56"
      }
    },
    {
      "cell_type": "code",
      "source": [
        "connection=sqlite3.connect(\"Diplo_DB.db\")\n",
        "cursor = connection.cursor()\n",
        "cursor.execute('''INSERT INTO Clientes(Nombre, Direccion, Ciudad, CP, Pais) \n",
        "              VALUES ('Juan Lopez', 'Lima 956', 'CABA', 1582, 'Argentina')''')\n",
        "cursor.execute('''INSERT INTO Clientes(Nombre, Direccion, Ciudad, CP, Pais) \n",
        "              VALUES ('Esteban Fernandez', 'Perú 867', 'CABA', 2652, 'Argentina')''')\n",
        "cursor.execute('''INSERT INTO Clientes(Nombre, Direccion, Ciudad, CP, Pais) \n",
        "              VALUES ('Anibal Freijo', 'Estados Unidos 230', 'Lima', 4282, 'Perú')''')\n",
        "cursor.execute('''INSERT INTO Clientes(Nombre, Direccion, Ciudad, CP, Pais) \n",
        "              VALUES ('Anthony Kiedis', '152 street 4242', 'California', 122, 'Estados Unidos')''')\n",
        "cursor.execute('''INSERT INTO Clientes(Nombre, Direccion, Ciudad, CP, Pais) \n",
        "              VALUES ('Antonio Quispe', 'Lavalle 2552', 'La paz', 65182, 'Bolivia')''')\n",
        "cursor.execute('''INSERT INTO Clientes(Nombre, Direccion, Ciudad, CP, Pais) \n",
        "              VALUES ('Jorge Poroto', 'Av. Rivadavia 25425', 'Buenos Aires', 1522, 'Argentina')''')\n",
        "cursor.execute('''INSERT INTO Clientes(Nombre, Direccion, Ciudad, CP, Pais) \n",
        "              VALUES ('Manuel Benitez', 'De la palma 1254', 'Mburucuyá', 12822, 'Argentina')''')\n",
        "connection.commit() # Hacemos commit para persistir los cambios en la base\n",
        "print('Cambios insertados')\n",
        "cursor.close()\n",
        "connection.close()"
      ],
      "metadata": {
        "id": "FZr_zyW-7IRl"
      },
      "execution_count": null,
      "outputs": []
    },
    {
      "cell_type": "code",
      "source": [
        "text = 'SELECT * FROM Clientes'\n",
        "for item in query(text):\n",
        "  print(item)"
      ],
      "metadata": {
        "id": "h3xnI1-e7J_Z"
      },
      "execution_count": null,
      "outputs": []
    },
    {
      "cell_type": "markdown",
      "source": [
        "¿Cómo haríamos para **dar de baja** a un cliente?"
      ],
      "metadata": {
        "id": "AsxCVf3_8JxN"
      }
    },
    {
      "cell_type": "code",
      "source": [
        "connection=sqlite3.connect(\"Diplo_DB.db\")\n",
        "cursor = connection.cursor()\n",
        "cursor.execute('''DELETE FROM Clientes WHERE Nombre = \\'Anthony Kiedis\\'''')\n",
        "connection.commit()\n",
        "cursor.close()\n",
        "connection.close()"
      ],
      "metadata": {
        "id": "q2JF4-eq8MY3"
      },
      "execution_count": null,
      "outputs": []
    },
    {
      "cell_type": "code",
      "source": [
        "text = 'SELECT * FROM Clientes'\n",
        "for item in query(text):\n",
        "  print(item)"
      ],
      "metadata": {
        "id": "ri-NEAML8vhM"
      },
      "execution_count": null,
      "outputs": []
    },
    {
      "cell_type": "markdown",
      "source": [
        "\n",
        "\n",
        "---\n",
        "\n"
      ],
      "metadata": {
        "id": "PSIVU_hOTwA1"
      }
    },
    {
      "cell_type": "markdown",
      "source": [
        "\n",
        "# Introduciendo el modelo Relacional\n",
        "\n",
        "Hasta aquí la introducción a SQL.\n",
        "\n",
        "Ahora veamos más a detalle de qué se trata el \"Modelo Relacional\" en las Bases de Datos Relacionales (como por ej. las bases de datos SQL)"
      ],
      "metadata": {
        "id": "Mx6jq240UJhS"
      }
    },
    {
      "cell_type": "markdown",
      "source": [
        "![image.png](data:image/png;base64,iVBORw0KGgoAAAANSUhEUgAAA0YAAAC+CAYAAAARDR/xAAAgAElEQVR4Xu2dv28dx9W/D/8CCSmSMoBf0wEIVS6EhCoD27CEAPwWIZBKKmLSbiIWVBGArkJAhRWAehv9YGN1gVx8iQQSERtIKjlBgLgyCEQkXKRLKqVKyXdn7+69e/fu3p2dO7M7P54LBJHJ3dkzz5k5PJ+Zs3PXLrOP8IEABCAAAQhAAAIQgAAEIJAwgTWEUcLep+sQgAAEIAABCEAAAhCAQE4AYcRAgAAEIAABCEAAAhCAAASSJ4AwSn4IAAACEIAABCAAAQhAAAIQQBgxBiAAAQhAAAIQgAAEIACB5AkgjJIfAgCAAAQgAAEIQAACEIAABBBGjAEIQAACEIAABCAAAQhAIHkC2sLoo48+Sh4WACCgS+D4+Fj3Uq6DAAQgAAEIQAACEPCAQC9h9ODBAw9MxgQI+E1gf39fEEZ++wjrIAABCEAAAhCAQJ0AwogxAQHLBBBGloHSHAQgAAEIQAACEBiAAMJoAMg8Ii0CCKO0/E1vIQABCEAAAhCIgwDCKA4/0guPCCCMPHIGpkAAAhCAAAQgAAFNAggjTVBcBgFdAggjXVJcBwEIQAACEIAABPwhgDDyxxdYEgkBhFEkjqQbEIAABCAAAQgkRQBhlJS76ewQBBBGQ1DmGRCAAAQgAAEIQMAuAYSRXZ60BgFBGDEIIAABCEAAAhCAQHgEEEbh+QyLPSeAMPLcQZgHAQhAAAIQgAAEGgggjBgWELBMAGFkGSjNQQACEIAABCAAgQEIjCiMvpNH778rv/5b1ss7X8ibo/cG6C6PgIB7Aggj94x5AgQgAAEIQAACELBNwKkw+mrvqvz885rJ1+/LN19+Im9JkzCq/EzuyBdvjgS5ZNvltOeaAMLINWHahwAEIAABCEAAAvYJOBJGX8ne1Z9LrommQij791d7cjVTStfvfyOZNmrYMXIpjCo2sUNlfyTR4pQAwojBAAEIQAACEIAABMIj4EAYdYib7x7J3h8/kKNGYeQSIMLIJV3anhFAGDEaIAABCEAAAhCAQHgE7AujTPi8/+6vRb06NNkZequFSkcpXW1XZ7Es77rc/+ZLyZuvPvPOHZHPP8+frz53vngjR+9VRNGcNbNyvaXt5/c0tzFpPzzHY7E7Aggjd2xpGQIQgAAEIAABCLgiYF0YfffofXk3P1GhFCVtpusKo9l1U6E1FUKFOJKZGCtL97I6vcKOUvy07Rj1a78q9pSYenELYeRqcIbaLsIoVM9hNwQgAAEIQAACKRPwXxgV7yVlMqtyGENNzHzwx8Vdqul95c5SizDSaP+xfFyIrMouVcqjhr4vJYAwYoBAAAIQgAAEIACB8Ah4L4yqO1CNeFXJ3a8ujIVR3/arNiwvFQxvMGCxHQIIIzscaQUCEIAABCAAAQgMScC6MJp738fCO0azd3+WHN/d9F6T5o6RVvvKI5VnII6GHKLhPQthFJ7PsBgCEIAABCAAAQjYF0bV7ydq+i6ipafSNbx3tCBwGpy2gjAqjxDPjoqYHebQOS444a4TUcIXIIwSdj5dhwAEIOCYwEcffeT4CTQPgXgIHB8f9+qMA2FU210x/R6j6al0FbFUbSt/zPvZ2z+P5Uutd4za2uluP3/H6B/35E15/FxFiHEqXa/xlsTFCKMk3EwnIQABCIxCQAmjBw8ejPJsHgqBkAiY5GNuhFFBbfEI7OwXTYJn6c8mjbW9C5S/56MljFQr9SO3Z+V5y9qfHb5QHQ59dphCGkbYuioBk4m46jO5HwIQgAAE0iCAMErDz/RydQIm+ZhTYbR6l2gBAuERMJmI4fXSH4spK/HHF1jiN4G+JSV+9yZd6xBG6fqenvcjYJKPIYz6MeZqCHQSMJmInY1yQSsBkgQGBwS6CRCXuhmFcgUxLxRPYefYBEziHsJobK/x/OgImEzE6CAM2CGShAFh86hgCRCXgnXdguHEvHh8SU/cEjCJewgjtz6h9QQJmEzEBDFZ6zJJgjWUNBQxAeJSPM4l5sXjS3riloBJ3LMijE5OTtz2jNYh4CGBra2tRqtMJqKH3QvGJJKEYFyFoSMSIC6NCN/yo4l5loHSXLQETOKeNWHUliRGS5uOJU1ALQYgjPwYAiQJfvgBK/wmYJIg+N2jdK0j5qXre3rej4BJ3LMqjK5cudLP4iVX/+c//xGb7VkzjIaSJ6DGps/CSNn397//Xf785z/L4eHh1F8HBwdy69Yt+fGPfxyVD0kSonInnXFEwCRBcGTKSs2mFt+aYBHzVhpC3JwQAZO4hzBKaIDQVTsEfBdGn3766Zwgqvf66dOnEtMR1yQJdsY1rcRNwCRB8JFIavENYeTjKMSmUAiYxD0nwkgljqafcpeIHSNTgtznmoDvwuhPf/qT/PSnP12K4fe//7387Gc/c41qkPYRRoNg5iGBEzBJEHzscmrxLT1h9J08ev9d+fXfsp7f+ULeHL3n4zDEpkAImMQ9hFEgzsVMfwj4Loz++c9/ivoiR1U2973vfU/++9//yuPHj/P/lZ+PP/5YHj165A/UFSxBGK0Aj1uTIWCSIPgIJ7X4ZksYfbV3VX7+edGaFcFRETByR754cyR2JAzCyMd5F6pNJnFvFGF09erVBcZv3rzJf7byjtHFQ7lxW+TZq7vydqiexG6vCfgujJrg/fvf/5Yf/OAHc7+6vLz0mrOucQgjXVJclzIBkwQhFF4xxzc7wugr2bv6cyl1UbYV00PIVO6dE1QIo1DmR8p2msS9wYWREkVN+djamogSR72E0emurN18OvP5zku5vPd6Ioyeidw2FUg64kpds74nX+dP35GX5xtyOP3viUk7Ly/lyYcpD8k4+x6iMFKeWFOTrPJBGMU5Po179d0jef/dX8vGF2+E6hVjit7eaJIgeNuZBsNijW9WhNFXe3J1ul00afGO9jxvE0auRgc7Rq7IptiuSdwbVRipPK0USX2F0cXDG7K+d01eXj6RUnuc7u6K3MsEiqkgKkeNjjBS11avq99TCKdriKPo5mKIwuj169fyox/9aOqLmA5g0N8xqq5wNgzL6/flmy8/kbeiG7HLOjRh8v//3zfy5Qd/nAkjUYmU9FhVTgpakJ01SRBC6WjM8c2GMJqW0V2/k+0VfS6fL7y/Uxcj/zN7z6dxEKgdp1/JRcu7QN89el/ezV8SqnxUfM2quT/OFl8mjy8WYKai7brc/+ZL+eStNmHUEL8XYnZ9Z6yvCAxlxGOnLgGTuDeqMKp2rJ8wupCHk3o5uVuvlysFSnXHaG53Z1OOzrP7ZFJyt31tT/aKTafJDo9qe132JltBsnl0Lq9uvajsDhX3q+cuE0Z14aTrRa7znkCIwuiTTz6Ze8foX//6l3z/+9/3nrWOgWbCqE8piY4V1WuGXmHta1/t+obVZHXF9ftfyOMP3pO30lKKK8L093aTBMHf3sxbFnN8a/KBfsxTd8/i0fX738i9f7xbvGtUjYFVMZKJp88z8ZQ/WF1zS16UZXhtpXTTn1faqYoWtRv9sWR/g0yF0XwfvvzkLZmJr6IfxY63El2qn+qavPfZu1UvbrELHspctm2nSdwbXBipTtfL6UpRpH6nVUqXC50zOajsFk1hLgijd+SztezLOMtrq7/PSt+mOzqqLO9wQ87Vu0lzuz+nstt0f/26xl2m2r22PU57oxAITRj97ne/k1/84hdTVn/5y1+i+i4j/STBVU18fRgGJowK86eJhpUXs0eZmjx0CQGTBCEEoLHHt5WFUWXhI9+lyXeDC9kzLadbFhs13jEqY8bC7k/N+op46bNjNBNB5a5S1m5NCD2Wj4tdqso1IQxgbHRKwCTujSKMquKoKop6CaO2crm6MFI7R7V3f6bvBFXbaNv9mdttKv2XvVOkhFbXjpEgjJyO+JEaD0kY/fWvf5Wf/OQn0Yoi1TG7wqi5FCNbglwos2suF7ku1//2t7xUZP6TrWp+8yP5rHcZSVnSUlu5rTa+ajlJ647RbNV1pKnGYy0SMEkQLD7eSVMpxLdVhdHsNLplOyvL3uvRF0YLz6obbyiMmtut2fWri7wUuB57q7tHTgYhjXpNwCTujS6MFNHeO0a54DiUDVUS11VK13YIQ9M7QaVQ6hQ8xTjouk73XSWvhxXG1QmEIozUsbY//OEPp+bH9N1FVZ/YF0Yv5Nb06Nmm0pCOcpEv35b/bSo96Z0UNJW0dNjWu5xk2TtGZ0XNPzEgBgImCYLP/U4lvq0mjFoWespGp4sqEQgjdWJMJf7Nrx2xyOPzXHZpm0ncG10YGe0YZRQ7D1+YCiJVSndTsi2e+RPiuoTRtFRPibCG+5UnlwqjJfe5HAW07ZxAKMLot7/9raigoD7qy1yVMIrxYyaMFkm0ndK0UMveVS5Sqemf+4LCvsJI40jdum3/M33p2aCchFPpYpwe0z6ZJAg+A0klvq0kjFoWShZL0+wIo+yFnqJMryX+9I2BRYneQgxWUFr6NuMVZkmzz3MuRNtM4t7owkiB7r9jNHHPRBwVpySoH7Qd110vh9s8kvP6TlJNKJ3urok6CXzx8IXsOeX9S4/rrhzSEOJowuZWAqEIo+rxtTGdQld3jJkwWnb4Qtsq6+Se7AtBGl5erlrV8gfZMCmY7+9y295jxZTI1ULAJEHwGWYq8W0VYdT4bk6jqJDZKXQL7xi27JBLk5jS300vS9xmZXLLTqXrPnwhXxT6xz15U37XQFO89XlAY5sTAiZxb3RhZLpj5IQgjUJAg0CIwijWMjrlLqvCqPK+TfmHu75aOZow0rAt/+Z5xJHGLE7vEpMEwWdKVWEUc3wzF0Ztgka1WFlgycvpPpA/thy9PXl+0xfEGhzXrb4OofZO45072QHi2Sl42VlyKx3X3fjO57RNn0cytrkkYBL3RhNGCoQ6nU59qWv1o3UqnUuKtA2BDgKhCKM//OEP056o7zB65513ovStTWHU9JLvaKV0tZVbLdsWPEw5SZSD3qBTJgmCwWMGuyWV+GYujAZzBQ+CgLcETOLeqMKoiSTCyNvxhWEFgVCEUSoOsymMltbeT9/56SoXqay+zp0Yt1gOoldGMvGkjm2Uk6Qy6vv30yRB6P8U7hiCgH7MG8IangEBfwmYxD0nwsgGIpV8liLJRnu0AQFbBEIRRurUpuPjYzk8PBT1jtH29naUc0o/SdD7HqOZWFEj5rpklR5ZqUf+Xe35O0Z5udqcUKmMrKkQaio9ye41LiOZPKPLttnhC9XRbnAQg63JQjveEDBJELwxvsGQVOJbkw/0Y57PHsQ2CLgnYBL3EEbu/cITIiMQijD69NNPc1FUfmKtwydJiGyC0R0nBEwSBCeGWGo0lfiGMLI0YGgmSQImcQ9hlORQodOrEAhFGFVfTlb9PTg4kN/85jerdN3LexFGXroFozwjYJIgeNaFOXNSiW99hdHJyYnPbsM2CDghsLW11diuSdyzKoyc9JZGIeAhAfXHx+ZEdNHFVFZUEUYuRg9txkbAJEHwmUEq8c1EGLX9bfLZn9gGAVMCtvMxq8LI5jtBvGNkOkS4zzWBUHaMVA3+/fv35fHjx/LgwQP55S9/mfg7Rq5HBu1DwF8CsQmjVOKbqTAiH/N3LmKZPQIu8jGEkT3/0FIiBFxMxETQOenmsh0jykqcIKdRjwn4vpPtMbpgTOuKeWoMIIyCcSeGrkDART6GMFrBIdyaJgEXEzFNknZ6rZMk2HkSrUDAbwK2S0r87m261unEvOpXn5iS4utTTMlx31AEXORjCKOhvMdzoiHgYiJGA2eEjvRJEmyYR5mvDYq0YZsAcck2UX/b6xPz1Lgw/SCMTMlx31AEXMQ9hFHpvYuHcuO2yLNXd+XtoTzKc4Ik4GIiBgnCE6P7JAk2TEYY2aBIG7YJEJdsE/W3vT4xr0sYXb16daGjb968yX/mpTAiV/N3YI5gmYu4F6YwUhNjfU/k6Fxe3S1kzKqTZdX7RxgQPHIcAi4m4jg9ieOpNpOEZUS8TBLicCG9sECAuGQBYiBN2Ip5ShRdXi52em1NRImjfjHvQh7eWJc9OZLzZQvM1VzLJO/quqfID7/Ou7UjL8835DDLFyf/PfnsvLyUJx8G4mzMXErARdwLVxjdPpNr8q1sPHsluTbqmixdg2vV+7va5/fREHAxEaOBM0JHbCUJXab3SxK6WuP3ELBLgLhkl6fPrdmKeVVhpMRQKZKMhFGeQ9XysiaIq+ZaOvcvE1+FcLqGOPJ5iGvb5iLuBSyMsrK3gzNZP9mSSyX96xNhukKQrRhcPpEPp5P2qTzNlg52Xp7LxmG2upH/O1s9WC8n9eT3IpvZhlQmumRSYrd9bU/2nlbamrZfXEf9nfZADv1CFxMxdCZj2m8rSVB9CK6sZEzwPNsrAsQlr9zh1BhbMc/mjtHFwxtyW57Jwdm6HG4U1TxFXjbLn+7Ja7WrVGzfbO7siHy7UbzCcCq7azflaUFu5+hIvn1eeb2hzPGeidwuX3uo7w6pXE/d37UrpSOunHqQxm0RcBH3whZG2Xbt+e6anGyVwkZNonfks2xyZWoo3ypVk3X97EAu773Oyu+ey7YSO+e7snbz24nwUf8+3JBzNdnK32ciJ7/v+Xbx8z2ZrS6oyZt9uWfTBLTladrxmoCLieh1hz03zqskYe4PdQmuWFDpw9HmH25KS/qQD/Za4lKwruttuK2YVy4GVcvpyt0i9Tv9XXJVRperlVlOpcrpmnZnGkXLLXmRCaazg0qJWz0GLgijllyvaaF84f3xWh7X2wPc4AsBF3EveGGUTzw16MtVhOpqQrlysH4mB6rOtLrKUP+3zn3T9ubrVfM61lIo+TJasMMZARcT0ZmxCTRsK0mwUlZiS9DYaqf0P6Ul0c8E4lL0Lp520FbMKxssY19VFPUSRnPxSomOQ9moVNzMHWrVFIvq+VeZa1UFjW6uN60QKnabGmMpwiiW2eIi7oUvjDLvqt2dz2R7su2qI3B0Jma+0lETVE2TNZbRRT+0CbiYiNoP58IFAraSBCtlJUsETb4LXdaQlKW6eQlurYSkUuarfjtfbpIHvLnFoGqZ73rbMygtiX7mEJeid7FzYaQeYLJjNB/bJmZuqsOxbr1YPO1XJ/9yLYxsLzylM/S866mLuBeFMJomFpvqNJQlpXQ9dozmSvDmtmEnSUxZqufdKMEg5wRcTETnRkf8AFvCSCGqi6PeSYJuKd1pVsKbvx+5np/kNFdCUk8KlpWUZO86tr5EPH1GwzuYlJZENyOIS9G5tLVDNmNeNe6Z7RhNTqObi2Eq9pSvKNRjTbnoPLez01JKpxani2qcudcb8jZNS+nI4WKaKS7iXiTCSC26FhOxUtc6Pa5x2dZqdfW1eqRjLrKKGtnGiV0ppyuvjWm00ZdWAi4mIrjNCXiVJCxbiayLJhU3mkpI+ggj3djUtWOU71pV3p00dwd3jkQgpbi0pjL47HPZdNb0SPyHfKyrmKf6YLQY1LjQkpXTvdyW54eL3w95mr0bfjM7ZWFuN7wWH9WhWPdez3bZp9d2Hb7Q+U4lB2YNOVZdP8tF3AtTGLkmTfsQWELAxUQEuDkB/5OErG/5H+vi8Jfq1wvYFEZtz6gv8DSJN0pLzAegJ3emFJeUMFKiqBRIpQtSEUquYp7ZjpEnEwAzkiTgIu4hjJIcSnR6FQIuJuIq9qR+r1dJQpvAqP18WhbyqqGEpNwxKstIqqUnucaqnJjZ9HJy8eWKs2fUdr4XbKS0JIY5lFJcKoVR3W9VoRSzSLId8xRHVUasvtS1+tE/lS6GGUQfQiTgIu4hjEIcCdg8KgEXE3HUDgX+cNtJQv10ujJZ0EoSluy8lOUjCndXCYk6cXZabpK9xPws+4aQ8uCGxpKSwoeNz8i/iqAs/W36JnhKSwKfArn5KcWlNmFU9WPMu0m2Y17b+NeKeTFMHvoQLAEXcQ9hFOxwwPCxCLiYiGP1pSmRCG2l1XaSsPLRtT44ExuSIxBrXGpypI4wqt8X025Sn5hnYyKosVWKJBvt0QYEbBFwEfcQRra8QzvJEHAxEX2AF2rdfp8kQflO50NZiQ4lrvGJgMu4VN998aHfqyzghC6S+sQ8G75CGNmgSBsuCLiIewgjF56izagJuJiIPgALtW6/T5KgK4ya/EFZiQ+jFBvaCLiMSyY7NKF4KsSSuz4xz4YfEEY2KNKGCwIu4p5VYeSi07QJAR8JnJxkRxtvbTWatr+/L8fHxz6avdQmneTHxySCJCG4oYbBDgi4SBBKM3Vig4MujdJkCLtJOjFvFHg8FAIjELCdj1kVRjZrUFmhGGF08UgtAi4TEC0DHF1kkvz4kEToJAnEJkeDhma9IeAyLpnEBm/ArGCIjwtBqjvEvBWcyq1REXAR9xBGUQ0ROjMEAVsTkbp9O94iSbDDkVbCJmArLjVRSFUY1Vn4sBCEMAp7nmK9XQIu4h7CyK6PaC0BArYmYszJxpArrTrCKIFhSRchILZLSkqkMccq02EzZIyr26gT89glN/Us94VEwFY+Vu0zwiikEYCtXhCwNRFTSjZcrrSSJHgxLTBiZAK24hI7RnqORBjpceIqCLgk4CLuIYxceoy2oyRgayKmJIzmVmPW1ubGxSrH7qqGEEZRTjM61ZOArbiEMGoH73KBp4+7iXl9aHFtzARcxL0whZH6dvnpN7lPXL7z8lLUt8XLkm+eX2lwuGp3JaO4eQwCtiZiqsKo7rNVkw2ShDFmAc/0jYCtuIQwmhEYc1do2fjyKuYty8dsTxKTPMzkHtt2054zAi7iXrjC6LbIs1d35W2Fu5iY10px5MwFNAwBEVsTEWG0OJpMEhGvkgQmCARGImArLqUujFZdqBnC/V7FvLrwIB8bYgjwjIKAi7gXhzAqxZESS89Eblf+f/vanuw93ZGXl0/kw7mVjU05On8ld3NldSq7azflaQF6svtU+9nRkXz7vBBjc+1U2s6eO3nepKHpLhZDOCoCtiYiwigxYcTKZVRxwLfO2IpLqQkjk8WYsX3vtTCq5mNq8bol77p4eEPW976eoNw8kvN8obs575rmcecbcjjN787kWpa1PS2amOVb5G5jj88hn+8i7sUjjPIJlX3pZnXiZOV2s12k4vdKIM1N3Fvy4sa6nB0UpXi5Ry/kYf1n06TmHfksE1GZ0spL9/LJfXYgl/de5+V90+ed7sra4UYx2YccJjzLNQFbExFhNPHUqiu0XiUJ5eBT8/9mudSSr5JMYkR18abc8e4zYHXEVX3hRsXEttLjPs/mWq8J2IpLbcLIt86v8m7iqjFnbBZexbzGmFTmW1tyovKyet6lFrDXz+Sg+Pnp7q7Ik3vyuinvquZV5bPy+5/Ldrm4ncdblZa1tJFXGJG7jT1uXTzfRdyLWxg1lNsViwuFf7LdnlJIVZOUpolenZAL7WYTvN6OTgLjYpTQpnMCtiZiqsLI9gqtV0mCWlbJV0KvTXapi9GY/+G/V6x2mgiiclTrxpXqdZS6OI8JPjzAVlzyoS9dNpjEztDFUJWJVzFvmTBqWJTJVomy2KgEk6rSKSpu8vXo7N3xam7V9LO2PCxfGD+UjZfb8vyw8ppFtY2ymmjuFQxyt6655vvvXcS9eIRRfcI0TYL6pNOdjEwu3+fGoPbZmogmf9wH7ajFh7lMSrxKEvLd5jzQFGW6FYhNf9SbykxkkiAsluVOdrJn1Sfn8urWi8pBNJXy4GXCqC3uWfQ3TQ1PwFZcGt7y/k/UiZ22F2D6W+nuDq9iXp+F5AUkZdmb5iI1wsjdoAq0ZRdxLxJhNJlceXnberHqUBdGRe1qWQI3GwMNZXOmpXT1naQmIRbo4MPsGQFbE1Hnj3uo3IdMSrxLEiolInP+W/ijrko72spMWspy55KQtvLgoq6/jD9LS11mu1qhjjXsnhCwFZdC4NkWO10uwPjExbuYN5frVPKx4l3thbwri0m7L27Jk/wl73IxKa+Pm3+toWm3u6kcefrqQsOrETqvQZC7+TS8e9niIu6FK4zmauYbVkoXhJGaf7VjvssX/mo/z1/iUwKr8owdzcMX5k7KQxj1GuChXGxrItbFgw/9D7Fu3+8koeLVpl3t2rs/eZnJsrLc+k5Q0/3lQTMIIx+m1GA22IpLgxm8woNKYTTkAswK5lq/1buY15aPqZ435l2T933KtzA3j7LdbyWS6rlYNe8q2yqF0dwzayV55G7Wx5yvDbqIe2EKI189hF1JEHAxEX0AZ7KD5cMKrVdJQlnrPj3xskMY6ZT3tpXFLXvfiFI6H6bUoDbEGpeaIJZxZ5WFnEGdY/lhfsU8y53TaU73XUudtrgmaAIu4h7CKOghgfFjEHAxEcfoR/2ZOsLIxxVa35KEzsMXprvZ86ckTf3RVj4yPfq2PM2pWrJS8+ZSYbTkPh8GIjYYEYg1LhnBiPwm32Le4LgRRoMj9/WBLuIewshXb2OXtwRcTEQfOhtq3b6PScLcd3Qo57Yd191UZtJxcMzp7pqok8Dz8pO5wxey56jy4LxUf08mJ3AWpXnLSl18GHzYsDKBWOPSymAibMDHmBchZroUAAEXcQ9hFIDjMdEvAi4mog89DLVunyTBh9GDDWMTiDUujc3Vx+cT83z0CjaNQcBF3EMYjeFJnhk0ARcT0QcgodbtkyT4MHqwYWwCscalsbn6+Hxino9ewaYxCLiIewijMTzJM4Mm4GIiBg1kZONJEkZ2AI/3ggBxyQs3DGIEMW8QzDwkAAIu4p5VYRQAQ0yEgBUCJyfZ989sbTW2tb+/L8fHx1aeQyPdBEgSuhlxRfwEXCQI8VMLs4c6MS/MnmE1BPoTsJ2PWRVGV65c6d+jljtUkLfZnjXDaCh5AiQgfg0BnSTBZiwhNvnlf6yZECAupTMSiHnp+JqeLifgIu4hjBh1EOhJwMVE7GkCl1cIkCQwHCCAMEppDBDzUvI2fV1GwEU+hjBizEGgJwEXE7GnCVzeUxgBDAIpELBdUpICsxD7iDAK0WvY7IKAix11TxkAABE1SURBVHwMYeTCU7QZNQEXEzFqYI47R5LgGDDNB0GAuBSEm6wYScyzgpFGIiDgIu4hjPp+g3Lf6yMYeHRhnoCLiQhjcwIkCebsuDMeAsSleHzZ1RNiXhchfp8KARdxL2xhdLora+or4MtP9dvlX92Vt3VGRl+h0/d6HRu4JigCLiZiUAA8M5YkwTOHYM4oBIhLo2Af5aFexTyVE63vydezRExeXj6RD1chQ561Cr2k7nUR94IVRhcPb8j63rW5CXi6uyvypOeE7DsB+16f1BBNo7MuJmIa5Nz00qskwU0XaRUCnQSIS52IornAq5hXz4nUgvXhhpzrLk5H4xU6MgYBF3EvUGF0IQ9v3BZ59kru1reFykn6TOR2fkmxc1SdvPUVjs2jfBJnjWZiq1z32JSj86L9luu1dqTGGCk80ykBFxPRqcGRN+5VkmCDNYsvNigm1wZxKR2XexXzFuLVqeyuZd/zd74hh1kOtn1tT/ae7kwWsedyqUqOJeqem1LW/+wcHcm3z4v8be6eop10XE1POwi4iHthCqN8opzJQdN2bacwekc+yyZgNkvlidrrbUtC1KrHyZZkj8gnbOf1DN9kCLiYiMnAc9BR75KEubIS1eGef8wRRg5GSfxNphCX1tbWckdeXl7G79AlPfQu5lUWofNqnufbcq4Wp7NYeK3MtXLxkwmmMm+bxrlb8uLGupwdFDmZ6vf0d/P5Wt722UGWl61UqJf02Imt8y7iXrjCqLobVPV0lzDqu5O07PrYRhj90SLgYiJqPZiLGgn4nCQYuQxhZIQt9ZtijUulGCoFkfpvhNFH8uDBg8YhXx7ZPtiXWrdV1NTj2MK7SMWiUbGzNK3uqQqjpvyrbVE89QCQaP9dxL0whVG+8nAoG2Wpmw1hlK9uPJftavmcEl8Io0SnW3u3XUxEIJsTCEYY9SwjmZSgTLjsFKuuk3crG8p9zfFxZyQEYopLdTFUdRHCSCSImNckjJoWtJsWgpYtcCOMIolYdrrhIu4FKozUTmvL4Qv3JnWtuaCpTKDp9u4rtTU7E1Vz275N28Ft1/NioZ1RHWArLiZigBi8Mdm7JKGxlG5LTvqUkVRLUNpeZp6W+1JW4s1gHNGQ0OPSMjGEMJofWN7FPC3BM3mPaPpawrRL6p1xSulGDB1BP9pF3AtWGE12W6urp/myqlzeey2TcxnmD1PY3NkR+XZjchhD5Zjv6s/Pd9ekPP1b53oOXwh6Phkb72IiGhtj4cbQ6/aDSRKaBNOyMpIeB8cQiyxMhMCbCDEu6YohhFEMwihP2uaP9i4Ovnq79nMOXwg8GA1ovou4F7QwGpA9j4LAlICLiTg03pjq9oMRRlqrqkXy0HSiZlu5L7vXQ08fL58XSlwyEUMII4+FkZezAaNSIeAi7iGMUhk99NMaARcT0ZpxSxqKtW4/CGFUHEfbr4yk9lUDtfcdZ+XBml9mPcQg4xmjEfA1LlXjjoJj4+CEepujQa882Ea/dPvhVczTNZrrIOCAgIu4hzBy4CiajJuAi4noipju6mzILzR7lSQsO1HOpIxEDYxKm63lvq4GEO0GQ8CnuKQbd4KB22Ho0PHTq5gXixPpR5AEXMQ9hFGQQwGjxyTgYiLa7I9JUjL0H3ab/SVJsEmTtkIlMHZcMok7obKu2z10/CTmxTJy6MeqBFzEPYTRql7h/uQIuJiIq0JcNSkZ+g/7qv2t3k+SYJMmbYVKYIy4tGrcCZU1wigWz9GP0Am4iHsIo9BHBfYPTsDFROzbCer2Z8QQRn1HD9fHSGCouIQYWhw9Qy8sEfNinMH0yYSAi7hnVRiZdIp7IBAigfLbxZts39/fl+PjY+vdSi0h0U02SBKsDzUaDJCAiwShxJBa7Onrft1Y1bfdtut1Yp6tZ9EOBHwmcOXKlex7S5/J1tZWo5km+ZhVYaQMtPVRQd5me7bsoh0IuExA6nRTTkh0kw2dJMFmLCE2EQN8JOAyLqUch3R8rRurdNrSuaYr5t2+nZ33zwcCiRBAGCXiaLrpLwGXCYjqNUnIxPe6yUZXkqBWkhBG/s4nLLNDwHVcKq0kPi36SzdW2fG0SFfMQxjZIk07IRBAGIXgJWyMmoCLBIRkwzzZ6EoS2rbYox6kdC45Ai5KSrogErf6LeJ08dT9fVfMQxjpkuS6GAggjGLwIn0ImoANYeTi8ISgoTYYr7sKS5IQm+fpjykB2wlCHztSFkm6saoPz2XXEvNskaSdGAjYjnu8YxTDqKAPgxKwIYyUwSknEjoO0002SBJ0aHJNCgRsJwimzFKLbbqxypRn/T5ini2StBMDAdtxL2xhdLorazefzvy681Iu772WG+t78vX0pzvy8vKJfBiD9+mDFwRsCaNqZ1JLJHQcqZtskCTo0OSaFAjYThBsMHOxO15v04adq7ZxeXm5ahPa9xPztFFxYQIEbMe9YIXRxcMbsr53bU70nO7uitzbkMPsQJZnr+7K22pAKPF0uCHn5X8nMEjoolsCLoQRImnRZwgjt+OY1uMjYDtBcEFo1UUg3bjgwnZf2kQY+eIJ7PCBgO24F6gwupCHN3L1I3dz9VP5XDyUya8KYSSnsrt2IlvsGvkwfqOwwbUwQiRNCOgmQCQJUUwrOmGBgO0EwYJJS5swEUm6ccG17WO2T8wbkz7P9o2A7bgXpjBS4mf9TA6axE5NGOU7S8+32THybSQHbM+QwihlkaSbAJEkBDyZMN0qAdsJglXjOhrTFUm6cWFI24d+FjFvaOI8z2cCtuNeuMJobleotmNUfcdo8whR5POIDtC2sYRRm0hSP7dR3x5q3T5JQoCTCJOdELCdIDgxUqPRZSIJYcT3GGkMIS5JiIDtuBemMMrL4w5l41ynlC6h0UFXByHggzCqd1R3tbUNUMjJBsJokGHPQwIgYDtB8KHL9dgWcqyyxZOYZ4sk7cRAwHbcC1QYiWgfvhCD1+mDVwR8FEZtu0m6O0khJxskCV5ND4wZkYDtBGHErjQ+uhRJunHNN/tt2UPMs0WSdmIgYDvuBSuMlDMn4mh2MLeUx3W3ldnFMALow+gEfBdGJiIJYTT6sMIACKxMwHaCsLJBNOCEAMLICVYaDZSA7bgXtDAK1IeYHTiBkISRrkhCGAU+KDEfAhkB2wkCUP0kgDDy0y9YNQ4B23EPYTSOH3lqwARCFUbLRBLCKOABiekQKAjYThAA6ycBhJGffsGqcQjYjnsIo3H8yFMDJhCDMGoSSaHW7ZMkBDyZMN0qAdsJglXjaMwaAWKeNZQ0FAEB23EPYRTBoKALwxKITRgNS8/+00gS7DOlxTAJ2E4QwqQQv9XEvPh9TA/1CdiOewgjffZcCYGcAMLIr4FAkuCXP7BmPAK2E4TxesKTlxEg5jE+IDAjYDvuIYwYXRDoSQBh1BOY48tJEhwDpvlgCNhOEILpeGKGdsW8xHDQXQjI1tZWI4X9/X05Pj7uRciqMOr1ZC6GQMAETk5OrE7EgFGMbnpXknD7dnZ+Px8IJEAAYZSAk7MuLot5aRCglxDQIzC6MLpy5YqepRpXqVV5m+1pPJJLIKBFgB0jLUyDXYQwGgw1D/KcAMLIcwdZMg9hZAkkzURPAGEUvYvpoA8EEEY+eGFmQ5cw8starIGAWwI2S0rcWkrrpgQQRqbkuC81Agij1DxOf0chgDAaBXvrQ0kS/PIH1vhJwCRB8LMnWEXMYwxAQI+ASdyz+o6RzdI3Sun0nM5VwxNAGA3PfNkTSRL88gfW+EnAJEHwsydYRcxjDEBAj4BJ3EMY6bHlKghMCSCM/BoMJAl++QNr/CRgkiD42ROsIuYxBiCgR8Ak7oUpjC4eyo31Pfl6ymVHXl4+kQ/bOKnrs4Opnr26K2/rseQqCLQSQBj5NThIEvzyB9b4ScAkQfCzJ1ilYh4fCEBAj8Cox3UPVkpXFzqnu7J2uCHnCB+9UcJVKxFAGK2Ez/rNCCPrSGkwQgIIowidSpcgAAHrBMLdMZrbATqV3bXse2WyXaP1hzdkfa/cS9qUo/NXcldmO0ZS/f3mEWLK+pCKv0GEkV8+Rhj55Q+s8ZMAwshPv2AVBCDgF4EohNGFEjvPtxdFjtpJOtmSy3uvJ6V0z0Rur5/JQVF2d7q7K/JkSQmeX77CGk8IIIw8cURhBmUlfvkDa/wl0LekxN+eYBkEIAABNwTCFUbVd4yqOz/194/U75QgyneY3pHP1m7KU+l4J8kNa1qNhADCKBJH0g0IQAACEIAABCBQIRCuMGo6TCEXRc9lW5XPqVMWyneRpsKoPHxBld4hkJgJZgQQRmbcuAsCEIAABCAAAQj4TCA+YVQRTNMSu1IYZf//2Ytb8mSimrLXjfKLJyKKDwQ0CSCMNEFxGQQgAAEIQAACEAiIQFzCKAN/ursmN59OPLC5syPy7cbk3aK5Urri90fn8gpVFNBw9cNUhJEffsAKCEAAAhCAAAQgYJNAmMLIJgHagkBPAgijnsC4HAIQgAAEIAABCARAAGEUgJMw0S8CCCO//IE1EIAABCAAAQhAwAYBhJENirSRFAGEUVLuprMQgAAEIAABCCRCAGGUiKPppj0CCCN7LGkJAhCAAAQgAAEI+EIAYeSLJ7AjGAIIo2BchaEQgAAEIAABCEBAmwDCSBsVF0JgQgBhxEiAAAQgAAEIQAAC8RGwKoziw0OPILBI4MqVK9kR8M9ka2urEc/+/r4cHx+DDgIQgAAEIAABCEAgIALWhNFt9UVBfCCQCAGEUSKOppsQgAAEIAABCCRDAGGUjKvpqE0CCCObNGkLAhCAAAQgAAEIjE8AYTS+D7AgQAIIowCdhskQgAAEIAABCEBgCQGEEcMDAgYEEEYG0LgFAhCAAAQgAAEIeEwAYeSxczDNXwIII399g2UQgAAEIAABCEDAhADCyIQa9yRPAGGU/BAAAAQgAAEIQAACkRFAGEXmULozDAGE0TCceQoEIAABCEAAAhAYigDCaCjSPCcqAgijqNxJZyAAAQhAAAIQgIAgjBgEEDAggDAygMYtEIAABCAAAQhAwGMCCCOPnYNp/hJAGPnrGyyDAAQgAAEIQAACJgQQRibUuCd5Agij5IcAACAAAQhAAAIQiIwAwigyh9KdYQggjIbhzFMgAAEIQAACEIDAUAQQRkOR5jlREUAYReVOOgMBCEAAAhCAAAQ4fIExAAETAggjE2rcAwEIQAACEIAABPwlwI6Rv77BMo8JIIw8dg6mQQACEIAABCAAAQMCCCMDaNwCAYQRYwACEIAABCAAAQjERQBhFJc/6c1ABBBGA4HmMRCAAAQgAAEIQGAgAgijgUDzmLgIIIzi8ie9gQAEIAABCEAAAggjxgAEDAggjAygcQsEIAABCEAAAhDwmADCyGPnYJq/BBBG/voGyyAAAQhAAAIQgIAJAYSRCTXuSZ4Awij5IQAACEAAAhCAAAQiI2BNGEXGhe5AoJPA1tZW4zX7+/tyfHzceT8XQAACEIAABCAAAQj4Q8CKMPKnO1gCgfEJIIzG9wEWQAACEIAABCAAgb4EEEZ9iXE9BDoIIIwYIhCAAAQgAAEIQCA8Agij8HyGxZ4TQBh57iDMgwAEIAABCEAAAg0EEEYMCwhYJoAwsgyU5iAAAQhAAAIQgMAABBBGA0DmEWkRQBil5W96CwEIQAACEIBAHAQQRnH4kV54RABh5JEzMAUCEIAABCAAAQhoEugljDTb5DIIJE+A47qTHwIAgAAEIAABCEAgMALawiiwfmEuBCAAAQhAAAIQgAAEIAABbQIII21UXAgBCEAAAhCAAAQgAAEIxEoAYRSrZ+kXBCAAAQhAAAIQgAAEIKBNAGGkjYoLIQABCEAAAhCAAAQgAIFYCSCMYvUs/YIABCAAAQhAAAIQgAAEtAn8H1g/pIhThGz6AAAAAElFTkSuQmCC)"
      ],
      "metadata": {
        "id": "z83QdX8CsB2L"
      }
    },
    {
      "cell_type": "markdown",
      "source": [
        "Googlee el diagrama, pero se entiende que la idea es la misma que venimos trabajando ¿Cierto?\n",
        "\n",
        "**¿Qué es lo que aparece nuevo?**\n",
        "\n",
        "Entonces la idea ahora es agregar una nueva tabla que relacione nuestras dos tablas anteriores: Clientes y Articulos. Naturalmente, vamos a querer persistir los articulos comprados por cada uno de nuestros clientes en cada compra (podría haber más de una compra por cada cliente).\n",
        "\n",
        "Tenemos que empezar a analizar las relaciones entre los elementos de las tablas.\n",
        "\n",
        "1. ¿Un cliente puede hacer 1 o + compras?\n",
        "2. ¿Una compra tendrá una factura asociada?\n",
        "3. ¿Una factura puede pertenecer a 1 o + clientes?\n",
        "4. ¿Una factura puede incluir 1 o + artículos?\n",
        "\n",
        "Fijemos ciertos criterios:\n",
        "- Una factura pertenecerá a un solo cliente\n",
        "- Una factura puede tener muchos artículos\n",
        "\n",
        "Hay una relación de \"muchos a muchos\" entre Factura y Articulos"
      ],
      "metadata": {
        "id": "CnS2eJ_KUQ9y"
      }
    },
    {
      "cell_type": "markdown",
      "source": [
        "![image.png](data:image/png;base64,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)"
      ],
      "metadata": {
        "id": "6RGRzZhSsYwZ"
      }
    },
    {
      "cell_type": "markdown",
      "source": [
        "Comencemos creando la tabla Facturas y cargando algunas facturas"
      ],
      "metadata": {
        "id": "Ggqz4XcOjmXy"
      }
    },
    {
      "cell_type": "code",
      "source": [
        "connection=sqlite3.connect(\"Diplo_DB.db\")\n",
        "try:\n",
        "    connection.execute(\"\"\"CREATE TABLE Facturas (\n",
        "                            FacturaID INTEGER PRIMARY KEY AUTOINCREMENT NOT NULL,\n",
        "                            ClienteID INTEGER NOT NULL,\n",
        "                            Fecha TEXT NOT NULL,\n",
        "                            FOREIGN KEY (ClienteID) REFERENCES Clientes (ClienteID) \n",
        "                        )\"\"\")\n",
        "    print('Tabla Facturas creada')\n",
        "except sqlite3.OperationalError:\n",
        "    print(\"Error al crear la tabla\")\n",
        "connection.close()"
      ],
      "metadata": {
        "id": "GPddhynNUF8v"
      },
      "execution_count": null,
      "outputs": []
    },
    {
      "cell_type": "code",
      "source": [
        "connection=sqlite3.connect(\"Diplo_DB.db\")\n",
        "cursor = connection.cursor()\n",
        "cursor.execute('''INSERT INTO Facturas (ClienteID, Fecha) \n",
        "              VALUES (1, '2022-10-05')''')\n",
        "cursor.execute('''INSERT INTO Facturas (ClienteID, Fecha) \n",
        "              VALUES (1, '2021-10-06')''')\n",
        "cursor.execute('''INSERT INTO Facturas (ClienteID, Fecha) \n",
        "              VALUES (3, '2022-02-16')''')\n",
        "cursor.execute('''INSERT INTO Facturas (ClienteID, Fecha) \n",
        "              VALUES (3, '2021-12-26')''')\n",
        "cursor.execute('''INSERT INTO Facturas (ClienteID, Fecha) \n",
        "              VALUES (3, '2021-10-06')''')\n",
        "cursor.execute('''INSERT INTO Facturas (ClienteID, Fecha) \n",
        "              VALUES (2, '2021-08-12')''')\n",
        "cursor.execute('''INSERT INTO Facturas (ClienteID, Fecha) \n",
        "              VALUES (7, '2022-01-28')''')\n",
        "cursor.execute('''INSERT INTO Facturas (ClienteID, Fecha) \n",
        "              VALUES (5, '2021-10-06')''')\n",
        "connection.commit()\n",
        "print('Cambios insertados')\n",
        "cursor.close()\n",
        "connection.close()"
      ],
      "metadata": {
        "id": "c5Qzabj1B7Vt"
      },
      "execution_count": null,
      "outputs": []
    },
    {
      "cell_type": "code",
      "source": [
        "print(query('SELECT * FROM Facturas'))"
      ],
      "metadata": {
        "id": "B3B4XE1uBfFs"
      },
      "execution_count": null,
      "outputs": []
    },
    {
      "cell_type": "markdown",
      "source": [
        "Ahora creamos la tabla Detalles y cargamos los items de cada una de las facturas creadas."
      ],
      "metadata": {
        "id": "y2c3QpDpCODa"
      }
    },
    {
      "cell_type": "code",
      "source": [
        "connection=sqlite3.connect(\"Diplo_DB.db\")\n",
        "try:\n",
        "    connection.execute(\"\"\"CREATE TABLE Detalles (\n",
        "                            FacturaID INTEGER  NOT NULL,\n",
        "                            ArticuloID INTEGER  NOT NULL,\n",
        "                            Cantidad INTEGER NOT NULL,\n",
        "                            Precio REAL NOT NULL,\n",
        "                            PRIMARY KEY (FacturaID, ArticuloID),\n",
        "                            FOREIGN KEY (FacturaID) REFERENCES Facturas (FacturaID),\n",
        "                            FOREIGN KEY (ArticuloID) REFERENCES Articulos (ArticuloID)\n",
        "                        )\"\"\")\n",
        "    print('Tabla Detalles creada')\n",
        "except sqlite3.OperationalError:\n",
        "    print(\"Error al crear la tabla\")\n",
        "connection.close()"
      ],
      "metadata": {
        "id": "UlHzqLYpCY3j"
      },
      "execution_count": null,
      "outputs": []
    },
    {
      "cell_type": "code",
      "source": [
        "connection=sqlite3.connect(\"Diplo_DB.db\")\n",
        "cursor = connection.cursor()\n",
        "''' Cliente 1'''\n",
        "cursor.execute('''INSERT INTO Detalles (FacturaID, ArticuloID, Cantidad, Precio)\n",
        "\t\t\t\tVALUES (1, 1, 1, 148)''')\n",
        "cursor.execute('''INSERT INTO Detalles (FacturaID, ArticuloID, Cantidad, Precio)\n",
        "\t\t\t\tVALUES (1, 2, 1, 150)''')\n",
        "cursor.execute('''INSERT INTO Detalles (FacturaID, ArticuloID, Cantidad, Precio)\n",
        "\t\t\t\tVALUES (1, 3, 1, 149)''')\n",
        "cursor.execute('''INSERT INTO Detalles (FacturaID, ArticuloID, Cantidad, Precio)\n",
        "\t\t\t\tVALUES (2, 1, 2, 140)''')\n",
        "cursor.execute('''INSERT INTO Detalles (FacturaID, ArticuloID, Cantidad, Precio)\n",
        "\t\t\t\tVALUES (2, 2, 2, 140)''')\n",
        "cursor.execute('''INSERT INTO Detalles (FacturaID, ArticuloID, Cantidad, Precio)\n",
        "\t\t\t\tVALUES (2, 3, 2, 145)''')\n",
        "\n",
        "''' Cliente 3'''\n",
        "cursor.execute('''INSERT INTO Detalles (FacturaID, ArticuloID, Cantidad, Precio)\n",
        "\t\t\t\tVALUES (3, 4, 5, 1050.5)''')\n",
        "cursor.execute('''INSERT INTO Detalles (FacturaID, ArticuloID, Cantidad, Precio)\n",
        "\t\t\t\tVALUES (3, 5, 5, 840)''')\n",
        "cursor.execute('''INSERT INTO Detalles (FacturaID, ArticuloID, Cantidad, Precio)\n",
        "\t\t\t\tVALUES (4, 8, 10, 120)''')\n",
        "cursor.execute('''INSERT INTO Detalles (FacturaID, ArticuloID, Cantidad, Precio)\n",
        "\t\t\t\tVALUES (4, 9, 3, 250)''')\n",
        "cursor.execute('''INSERT INTO Detalles (FacturaID, ArticuloID, Cantidad, Precio)\n",
        "\t\t\t\tVALUES (4, 6, 11, 75)''')\n",
        "cursor.execute('''INSERT INTO Detalles (FacturaID, ArticuloID, Cantidad, Precio)\n",
        "\t\t\t\tVALUES (5, 7, 10, 500)''')\n",
        "cursor.execute('''INSERT INTO Detalles (FacturaID, ArticuloID, Cantidad, Precio)\n",
        "\t\t\t\tVALUES (5, 10, 1,  760.5)''')\n",
        "\n",
        "''' Cliente 2''' \n",
        "cursor.execute('''INSERT INTO Detalles (FacturaID, ArticuloID, Cantidad, Precio)\n",
        "\t\t\t\tVALUES (6, 10, 2,  760.5)''')\n",
        "cursor.execute('''INSERT INTO Detalles (FacturaID, ArticuloID, Cantidad, Precio)\n",
        "\t\t\t\tVALUES (6, 1, 12,  85.75)''')\n",
        "cursor.execute('''INSERT INTO Detalles (FacturaID, ArticuloID, Cantidad, Precio)\n",
        "\t\t\t\tVALUES (6, 3, 3,  90.75)''')\n",
        "\n",
        "''' Cliente 7''' \n",
        "cursor.execute('''INSERT INTO Detalles (FacturaID, ArticuloID, Cantidad, Precio)\n",
        "\t\t\t\tVALUES (7, 10, 3,  750.5)''')\n",
        "cursor.execute('''INSERT INTO Detalles (FacturaID, ArticuloID, Cantidad, Precio)\n",
        "\t\t\t\tVALUES (7, 1, 3,  145.5)''')\n",
        "\n",
        "''' Cliente 5''' \n",
        "cursor.execute('''INSERT INTO Detalles (FacturaID, ArticuloID, Cantidad, Precio)\n",
        "\t\t\t\tVALUES (8, 12, 10,  97)''')\n",
        "cursor.execute('''INSERT INTO Detalles (FacturaID, ArticuloID, Cantidad, Precio)\n",
        "\t\t\t\tVALUES (8, 11, 7,  85)''')\n",
        "cursor.execute('''INSERT INTO Detalles (FacturaID, ArticuloID, Cantidad, Precio)\n",
        "\t\t\t\tVALUES (8, 3, 4,  110)''')\n",
        "cursor.execute('''INSERT INTO Detalles (FacturaID, ArticuloID, Cantidad, Precio)\n",
        "\t\t\t\tVALUES (8, 1, 4,  120)''')\n",
        "cursor.execute('''INSERT INTO Detalles (FacturaID, ArticuloID, Cantidad, Precio)\n",
        "\t\t\t\tVALUES (8, 9, 2, 280)''')\n",
        "cursor.execute('''INSERT INTO Detalles (FacturaID, ArticuloID, Cantidad, Precio)\n",
        "\t\t\t\tVALUES (8, 6, 7, 105)''')\n",
        "cursor.execute('''INSERT INTO Detalles (FacturaID, ArticuloID, Cantidad, Precio)\n",
        "\t\t\t\tVALUES (8, 5, 1, 820.80)''')\n",
        "connection.commit()\n",
        "print('Cambios insertados')\n",
        "cursor.close()\n",
        "connection.close()"
      ],
      "metadata": {
        "id": "WiCISgalDMSx"
      },
      "execution_count": null,
      "outputs": []
    },
    {
      "cell_type": "code",
      "source": [
        "for item in query('SELECT * FROM Detalles'):\n",
        "  print(item)\n",
        "\n",
        "print(len(query('SELECT * FROM Detalles')))"
      ],
      "metadata": {
        "id": "hosg3gdSEA49"
      },
      "execution_count": null,
      "outputs": []
    },
    {
      "cell_type": "markdown",
      "source": [
        "\n",
        "\n",
        "---\n",
        "Ahora que ya tenemos las 4 tablas cargadas, podemos comenzar a hacer querys más complejas.\n",
        "\n",
        "Recordemos el diagrama de base de datos que armamos, para poder guiarnos en los JOIN.\n",
        "\n"
      ],
      "metadata": {
        "id": "WNx9E1jLLK-_"
      }
    },
    {
      "cell_type": "markdown",
      "source": [
        "![image.png](data:image/png;base64,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)"
      ],
      "metadata": {
        "id": "H-w1F34kLbX1"
      }
    },
    {
      "cell_type": "markdown",
      "source": [
        "# Funciones de agregación y JOIN sobre tablas"
      ],
      "metadata": {
        "id": "zJjDQXVJN67_"
      }
    },
    {
      "cell_type": "markdown",
      "source": [
        "Antes de comenzar voy a hacer una función para simplificar la ejecución de querys obteniendo Dataframes en lugar de arrays, para poder ver los nombres de las columnas."
      ],
      "metadata": {
        "id": "xmxGXmY8OEQo"
      }
    },
    {
      "cell_type": "code",
      "source": [
        "'''Esta función recibirá la query como string y devolverá un DataFrame'''\n",
        "def query_df(query_text):\n",
        "  connection=sqlite3.connect(\"Diplo_DB.db\")\n",
        "  df = pd.read_sql_query(query_text, connection)\n",
        "  connection.close()\n",
        "  return df"
      ],
      "metadata": {
        "id": "nae1MnjPORfd"
      },
      "execution_count": null,
      "outputs": []
    },
    {
      "cell_type": "markdown",
      "source": [
        "Ahora podemos por ejemplo, hacer un JOIN para obtener el listado de detalles que posee cada factura emitida. \n",
        "\n",
        "Vayamos refinando la consulta:"
      ],
      "metadata": {
        "id": "xoXMs00WLdSh"
      }
    },
    {
      "cell_type": "code",
      "source": [
        "query = '''SELECT *\n",
        "        FROM Facturas f\n",
        "        LEFT JOIN Detalles d\n",
        "        ON d.FacturaID = f.FacturaID'''\n",
        "\n",
        "query_df(query)"
      ],
      "metadata": {
        "id": "83mao4WRLviM"
      },
      "execution_count": null,
      "outputs": []
    },
    {
      "cell_type": "markdown",
      "source": [
        "Análisis:\n",
        "\n",
        "Los primeros 3 datos vienen de la tabla Facturas y los últimos 4 datos vienen de la tabla Detalles. \n",
        "\n",
        "Hay columnas que están repetidas, lo cual es lógico ya que incluyen FOREIGN KEYS de la otra tabla.\n",
        "\n",
        "Podríamos especificar qué columnas queremos mostrar para no traernos todas:"
      ],
      "metadata": {
        "id": "UeK06Yw1MBFq"
      }
    },
    {
      "cell_type": "code",
      "source": [
        "query = '''SELECT f.FacturaID, ArticuloID, d.Cantidad, d.Precio\n",
        "        FROM Facturas f\n",
        "        LEFT JOIN Detalles d\n",
        "        ON d.FacturaID = f.FacturaID'''\n",
        "\n",
        "query_df(query)"
      ],
      "metadata": {
        "id": "PWaMJRgALcxU"
      },
      "execution_count": null,
      "outputs": []
    },
    {
      "cell_type": "markdown",
      "source": [
        "# Agregación de datos\n",
        "\n",
        "Un dato relevante podría ser, para cada par \"Precio, cantidad\" calcular el Precio Total, entonces podríamos reemplazar esa columna en la tabla que devuelve nuestra query por una que calcule el precio total."
      ],
      "metadata": {
        "id": "MoDuNocCMt6Y"
      }
    },
    {
      "cell_type": "code",
      "source": [
        "query = '''SELECT f.FacturaID, ArticuloID, Cantidad*Precio as Total\n",
        "        FROM Facturas f\n",
        "        LEFT JOIN Detalles d\n",
        "        ON d.FacturaID = f.FacturaID'''\n",
        "query_df(query)"
      ],
      "metadata": {
        "id": "XTXfHUNGM9gs"
      },
      "execution_count": null,
      "outputs": []
    },
    {
      "cell_type": "markdown",
      "source": [
        "**Funciones de agregación**\n",
        "\n",
        "- MAX();\n",
        "- MIN();\n",
        "- AVG();\n",
        "- SUM();\n",
        "- COUNT(); --> Por defecto los NULL son excluidos y los duplicados incluidos\n"
      ],
      "metadata": {
        "id": "r3GnEEelosIS"
      }
    },
    {
      "cell_type": "markdown",
      "source": [
        "**¿Y si ahora quiero saber en lugar del total por artículo que tiene cada factura, el monto total de la factura?**\n",
        "\n",
        "Debería ahora hacer uso de una función de agregación y la cláusula GROUP BY:"
      ],
      "metadata": {
        "id": "3Q3pTQtUNQR6"
      }
    },
    {
      "cell_type": "code",
      "source": [
        "query = '''SELECT  f.FacturaID, SUM(Cantidad*Precio) as Total\n",
        "        FROM Facturas f\n",
        "        LEFT JOIN Detalles d\n",
        "        ON d.FacturaID = f.FacturaID\n",
        "        GROUP BY f.FacturaID'''\n",
        "\n",
        "query_df(query)"
      ],
      "metadata": {
        "id": "N9J_IUKrNXFa"
      },
      "execution_count": null,
      "outputs": []
    },
    {
      "cell_type": "markdown",
      "source": [
        "A la cláusula GROUP BY se la puede acompañar de otros modificadores, por ejemplo, HAVING para establecer condiciones booleanas.\n",
        "\n",
        "¿Qué hará el siguiente código?"
      ],
      "metadata": {
        "id": "zjO1ViEWPm63"
      }
    },
    {
      "cell_type": "code",
      "source": [
        "query = '''SELECT  f.FacturaID, SUM(Cantidad*Precio) as Total\n",
        "        FROM Facturas f\n",
        "        LEFT JOIN Detalles d\n",
        "        ON d.FacturaID = f.FacturaID\n",
        "        GROUP BY f.FacturaID\n",
        "        HAVING Total > 4000'''\n",
        "\n",
        "query_df(query)"
      ],
      "metadata": {
        "id": "e6-wdyCdPyRz"
      },
      "execution_count": null,
      "outputs": []
    },
    {
      "cell_type": "markdown",
      "source": [
        "\n",
        "\n",
        "---\n",
        "# JOIN con más de dos tablas\n",
        "\n",
        "Análogamente, podemos hacer JOIN con más de dos tablas. De hecho es lo más común que veremos cuando trabajemos con bases de datos relacionales. Si están correctamente diseñadas, la información estará separada en múltiples tablas. \n",
        "\n",
        "Por ejemplo si quisieramos mostrar:\n",
        "- Número de Factura --> Sale de la tabla Facturas\n",
        "- Nombre del cliente --> Sale de la tabla Clientes\n",
        "- Precio total de la compra --> Sale de la tabla Detalles\n",
        "\n"
      ],
      "metadata": {
        "id": "fSLiKgovSLJB"
      }
    },
    {
      "cell_type": "code",
      "source": [
        "# Primera aproximación\n",
        "query = '''SELECT f.FacturaID, d.ArticuloID, Nombre, Cantidad, Precio\n",
        "        FROM Facturas f\n",
        "        LEFT JOIN Detalles d\n",
        "        ON d.FacturaID = f.FacturaID\n",
        "        LEFT JOIN Clientes c\n",
        "        on c.ClienteID = f.ClienteID\n",
        "        '''\n",
        "query_df(query)"
      ],
      "metadata": {
        "id": "-4wJNo0uTFxh"
      },
      "execution_count": null,
      "outputs": []
    },
    {
      "cell_type": "code",
      "source": [
        "# Hago la agregación\n",
        "query = '''SELECT f.FacturaID, Nombre, SUM (Cantidad*Precio) as Total\n",
        "        FROM Facturas f\n",
        "        LEFT JOIN Detalles d\n",
        "        ON d.FacturaID = f.FacturaID\n",
        "        LEFT JOIN Clientes c\n",
        "        on c.ClienteID = f.ClienteID\n",
        "        GROUP BY f.FacturaID\n",
        "        '''\n",
        "query_df(query)"
      ],
      "metadata": {
        "id": "ntT8H5CbUQGX"
      },
      "execution_count": null,
      "outputs": []
    },
    {
      "cell_type": "markdown",
      "source": [
        "# SELECT anidados\n",
        "\n",
        "Otra posibilidad que SQL nos dá es ejecutar sentencias SELECT anidadas.\n",
        "\n",
        "Por ejemplo, si a partir de la query anterior quisieramos quedarnos únicamente con el importe mayor de todas las facturas, podríamos simplemente anidar la misma query dentro de otro SELECT de nivel superior."
      ],
      "metadata": {
        "id": "dpQlRSWTWMrO"
      }
    },
    {
      "cell_type": "code",
      "source": [
        "query = '''\n",
        "        SELECT MAX(Total)\n",
        "        FROM \n",
        "          (\n",
        "          SELECT f.FacturaID, Nombre, SUM (Cantidad*Precio) as Total\n",
        "          FROM Facturas f\n",
        "          LEFT JOIN Detalles d\n",
        "          ON d.FacturaID = f.FacturaID\n",
        "          LEFT JOIN Clientes c\n",
        "          on c.ClienteID = f.ClienteID\n",
        "          GROUP BY f.FacturaID\n",
        "          )\n",
        "        '''\n",
        "query_df(query)"
      ],
      "metadata": {
        "id": "zVtjoIn2WHv-"
      },
      "execution_count": null,
      "outputs": []
    }
  ]
}